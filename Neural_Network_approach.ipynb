{
  "cells": [
    {
      "cell_type": "markdown",
      "metadata": {
        "id": "xmeGQdA-6OD_"
      },
      "source": [
        "# Neural Network approach with RNN"
      ]
    },
    {
      "cell_type": "code",
      "execution_count": 1,
      "metadata": {
        "colab": {
          "base_uri": "https://localhost:8080/"
        },
        "id": "8thIKp2gzqP1",
        "outputId": "5462df97-b889-4ffa-ea52-ac03512cbfa3"
      },
      "outputs": [
        {
          "output_type": "stream",
          "name": "stdout",
          "text": [
            "Python 3.7.13\n"
          ]
        }
      ],
      "source": [
        "!python --version"
      ]
    },
    {
      "cell_type": "markdown",
      "metadata": {
        "id": "3Gis6jeY6V-u"
      },
      "source": [
        "## Libraries and data import"
      ]
    },
    {
      "cell_type": "code",
      "execution_count": 2,
      "metadata": {
        "colab": {
          "base_uri": "https://localhost:8080/"
        },
        "id": "AJt0lhH6lwNC",
        "outputId": "32fc1391-d607-4b07-f26f-d03e765d9b4a"
      },
      "outputs": [
        {
          "output_type": "stream",
          "name": "stdout",
          "text": [
            "Requirement already satisfied: torch==1.10.0 in /usr/local/lib/python3.7/dist-packages (1.10.0)\n",
            "Requirement already satisfied: typing-extensions in /usr/local/lib/python3.7/dist-packages (from torch==1.10.0) (4.2.0)\n",
            "Requirement already satisfied: torchtext==0.11.0 in /usr/local/lib/python3.7/dist-packages (0.11.0)\n",
            "Requirement already satisfied: torch==1.10.0 in /usr/local/lib/python3.7/dist-packages (from torchtext==0.11.0) (1.10.0)\n",
            "Requirement already satisfied: numpy in /usr/local/lib/python3.7/dist-packages (from torchtext==0.11.0) (1.21.6)\n",
            "Requirement already satisfied: tqdm in /usr/local/lib/python3.7/dist-packages (from torchtext==0.11.0) (4.64.0)\n",
            "Requirement already satisfied: requests in /usr/local/lib/python3.7/dist-packages (from torchtext==0.11.0) (2.23.0)\n",
            "Requirement already satisfied: typing-extensions in /usr/local/lib/python3.7/dist-packages (from torch==1.10.0->torchtext==0.11.0) (4.2.0)\n",
            "Requirement already satisfied: certifi>=2017.4.17 in /usr/local/lib/python3.7/dist-packages (from requests->torchtext==0.11.0) (2021.10.8)\n",
            "Requirement already satisfied: urllib3!=1.25.0,!=1.25.1,<1.26,>=1.21.1 in /usr/local/lib/python3.7/dist-packages (from requests->torchtext==0.11.0) (1.24.3)\n",
            "Requirement already satisfied: idna<3,>=2.5 in /usr/local/lib/python3.7/dist-packages (from requests->torchtext==0.11.0) (2.10)\n",
            "Requirement already satisfied: chardet<4,>=3.0.2 in /usr/local/lib/python3.7/dist-packages (from requests->torchtext==0.11.0) (3.0.4)\n",
            "Collecting en_core_web_sm==2.2.5\n",
            "  Downloading https://github.com/explosion/spacy-models/releases/download/en_core_web_sm-2.2.5/en_core_web_sm-2.2.5.tar.gz (12.0 MB)\n",
            "\u001b[K     |████████████████████████████████| 12.0 MB 14.5 MB/s \n",
            "\u001b[?25hRequirement already satisfied: spacy>=2.2.2 in /usr/local/lib/python3.7/dist-packages (from en_core_web_sm==2.2.5) (2.2.4)\n",
            "Requirement already satisfied: cymem<2.1.0,>=2.0.2 in /usr/local/lib/python3.7/dist-packages (from spacy>=2.2.2->en_core_web_sm==2.2.5) (2.0.6)\n",
            "Requirement already satisfied: thinc==7.4.0 in /usr/local/lib/python3.7/dist-packages (from spacy>=2.2.2->en_core_web_sm==2.2.5) (7.4.0)\n",
            "Requirement already satisfied: numpy>=1.15.0 in /usr/local/lib/python3.7/dist-packages (from spacy>=2.2.2->en_core_web_sm==2.2.5) (1.21.6)\n",
            "Requirement already satisfied: plac<1.2.0,>=0.9.6 in /usr/local/lib/python3.7/dist-packages (from spacy>=2.2.2->en_core_web_sm==2.2.5) (1.1.3)\n",
            "Requirement already satisfied: srsly<1.1.0,>=1.0.2 in /usr/local/lib/python3.7/dist-packages (from spacy>=2.2.2->en_core_web_sm==2.2.5) (1.0.5)\n",
            "Requirement already satisfied: setuptools in /usr/local/lib/python3.7/dist-packages (from spacy>=2.2.2->en_core_web_sm==2.2.5) (57.4.0)\n",
            "Requirement already satisfied: tqdm<5.0.0,>=4.38.0 in /usr/local/lib/python3.7/dist-packages (from spacy>=2.2.2->en_core_web_sm==2.2.5) (4.64.0)\n",
            "Requirement already satisfied: murmurhash<1.1.0,>=0.28.0 in /usr/local/lib/python3.7/dist-packages (from spacy>=2.2.2->en_core_web_sm==2.2.5) (1.0.7)\n",
            "Requirement already satisfied: preshed<3.1.0,>=3.0.2 in /usr/local/lib/python3.7/dist-packages (from spacy>=2.2.2->en_core_web_sm==2.2.5) (3.0.6)\n",
            "Requirement already satisfied: blis<0.5.0,>=0.4.0 in /usr/local/lib/python3.7/dist-packages (from spacy>=2.2.2->en_core_web_sm==2.2.5) (0.4.1)\n",
            "Requirement already satisfied: catalogue<1.1.0,>=0.0.7 in /usr/local/lib/python3.7/dist-packages (from spacy>=2.2.2->en_core_web_sm==2.2.5) (1.0.0)\n",
            "Requirement already satisfied: requests<3.0.0,>=2.13.0 in /usr/local/lib/python3.7/dist-packages (from spacy>=2.2.2->en_core_web_sm==2.2.5) (2.23.0)\n",
            "Requirement already satisfied: wasabi<1.1.0,>=0.4.0 in /usr/local/lib/python3.7/dist-packages (from spacy>=2.2.2->en_core_web_sm==2.2.5) (0.9.1)\n",
            "Requirement already satisfied: importlib-metadata>=0.20 in /usr/local/lib/python3.7/dist-packages (from catalogue<1.1.0,>=0.0.7->spacy>=2.2.2->en_core_web_sm==2.2.5) (4.11.3)\n",
            "Requirement already satisfied: typing-extensions>=3.6.4 in /usr/local/lib/python3.7/dist-packages (from importlib-metadata>=0.20->catalogue<1.1.0,>=0.0.7->spacy>=2.2.2->en_core_web_sm==2.2.5) (4.2.0)\n",
            "Requirement already satisfied: zipp>=0.5 in /usr/local/lib/python3.7/dist-packages (from importlib-metadata>=0.20->catalogue<1.1.0,>=0.0.7->spacy>=2.2.2->en_core_web_sm==2.2.5) (3.8.0)\n",
            "Requirement already satisfied: idna<3,>=2.5 in /usr/local/lib/python3.7/dist-packages (from requests<3.0.0,>=2.13.0->spacy>=2.2.2->en_core_web_sm==2.2.5) (2.10)\n",
            "Requirement already satisfied: urllib3!=1.25.0,!=1.25.1,<1.26,>=1.21.1 in /usr/local/lib/python3.7/dist-packages (from requests<3.0.0,>=2.13.0->spacy>=2.2.2->en_core_web_sm==2.2.5) (1.24.3)\n",
            "Requirement already satisfied: chardet<4,>=3.0.2 in /usr/local/lib/python3.7/dist-packages (from requests<3.0.0,>=2.13.0->spacy>=2.2.2->en_core_web_sm==2.2.5) (3.0.4)\n",
            "Requirement already satisfied: certifi>=2017.4.17 in /usr/local/lib/python3.7/dist-packages (from requests<3.0.0,>=2.13.0->spacy>=2.2.2->en_core_web_sm==2.2.5) (2021.10.8)\n",
            "\u001b[38;5;2m✔ Download and installation successful\u001b[0m\n",
            "You can now load the model via spacy.load('en_core_web_sm')\n"
          ]
        }
      ],
      "source": [
        "!pip install -U torch==1.10.0\n",
        "!pip install -U torchtext==0.11.0\n",
        "!python -m spacy download en_core_web_sm\n",
        "\n",
        "from google.colab import drive\n",
        "import pandas as pd\n",
        "import numpy as np\n",
        "\n",
        "from sklearn.model_selection import train_test_split\n",
        "\n",
        "import torch\n",
        "torch.cuda.empty_cache()\n",
        "import torchtext\n",
        "from torchtext.legacy import data\n",
        "from torchtext.legacy.data import Field, Dataset, Example\n",
        "\n",
        "import random\n",
        "\n",
        "import torch.nn as nn\n",
        "import torch.optim as optim\n",
        "\n",
        "from sklearn.metrics import recall_score, precision_score, fbeta_score"
      ]
    },
    {
      "cell_type": "code",
      "execution_count": 3,
      "metadata": {
        "colab": {
          "base_uri": "https://localhost:8080/"
        },
        "id": "0KElhBiVmaaa",
        "outputId": "2db9cc43-a74a-4550-afb2-e659b72df781"
      },
      "outputs": [
        {
          "output_type": "stream",
          "name": "stdout",
          "text": [
            "Drive already mounted at /content/gdrive; to attempt to forcibly remount, call drive.mount(\"/content/gdrive\", force_remount=True).\n"
          ]
        }
      ],
      "source": [
        "#import of the processed dataset and the columns' names\n",
        "from_drive = True\n",
        "dataset = dict()\n",
        "path = \"/content/gdrive/MyDrive/Magistrale/Stage/data\"\n",
        "\n",
        "if from_drive == True: \n",
        "  drive.mount(\"/content/gdrive\")\n",
        "  dataset[\"ace\"] = pd.read_csv(path + \"/preprocessed_ace2.csv\")\n",
        "  dataset[\"copd\"] = pd.read_csv(path + \"/preprocessed_copd2.csv\")\n",
        "  dataset[\"ppi\"] = pd.read_csv(path + \"/preprocessed_ppi2.csv\")\n",
        "else: \n",
        "  dataset[\"ace\"] = pd.read_csv(path + \"/content/preprocessed_ace2.csv\")\n",
        "  dataset[\"copd\"] = pd.read_csv(path + \"/content/preprocessed_copd2.csv\")\n",
        "  dataset[\"ppi\"] = pd.read_csv(path + \"/content/preprocessed_ppi2.csv\")"
      ]
    },
    {
      "cell_type": "markdown",
      "metadata": {
        "id": "AN5V1D64Sgk-"
      },
      "source": [
        "## Preparing Data\n"
      ]
    },
    {
      "cell_type": "code",
      "execution_count": 4,
      "metadata": {
        "id": "kN2jlmwWSgk-"
      },
      "outputs": [],
      "source": [
        "#random seed for reproducibility\n",
        "SEED = 1234\n",
        "torch.manual_seed(SEED)\n",
        "torch.backends.cudnn.deterministic = True\n",
        "\n",
        "#FIELD: how the data should be processed\n",
        "TEXT = data.Field(tokenize = 'spacy',\n",
        "                  tokenizer_language = 'en_core_web_sm',\n",
        "                  include_lengths = True) #in order to know how long the actual sequences are\n",
        "                  #this will cause `batch.text` to now be a tuple with the first element being the sentence \n",
        "                  #(a numericalized tensor that has been padded) and the second element being the actual lengths of the sentences\n",
        "\n",
        "LABEL = data.LabelField(dtype = torch.float)\n",
        "fields = {'label' : LABEL, \"text\" : TEXT}\n",
        "\n",
        "#HYPERPARAMETERS\n",
        "\n",
        "#dataset configuration\n",
        "i = \"ace\" #which dataset\n",
        "clean_text = True #otherwise, it will be used \"text\"\n",
        "\n",
        "#bucket iterator configuration\n",
        "BATCH_SIZE = 128 \n",
        "device = torch.device('cuda' if torch.cuda.is_available() else 'cpu')\n",
        "\n",
        "#neural network configuration\n",
        "EMBEDDING_DIM = 300 #size of the dense word vectors (usually 50-250)\n",
        "#in this case, must be equal to that of the pre-trained GloVe vectors\n",
        "HIDDEN_DIM = 256 #size of the hidden states (usually 100-500)\n",
        "OUTPUT_DIM = 1 #number of classes\n",
        "N_LAYERS = 5\n",
        "BIDIRECTIONAL = True\n",
        "DROPOUT = 0.5\n"
      ]
    },
    {
      "cell_type": "markdown",
      "source": [
        "To ensure the pre-trained vectors can be loaded into the model, the `EMBEDDING_DIM` must be equal to that of the pre-trained GloVe vectors loaded earlier."
      ],
      "metadata": {
        "id": "c54oEqgPlpTB"
      }
    },
    {
      "cell_type": "code",
      "execution_count": 5,
      "metadata": {
        "colab": {
          "base_uri": "https://localhost:8080/"
        },
        "id": "5J-7rOPxqDBa",
        "outputId": "96fa2303-8388-4f55-8561-a07cfb2be145"
      },
      "outputs": [
        {
          "output_type": "stream",
          "name": "stderr",
          "text": [
            "/usr/local/lib/python3.7/dist-packages/ipykernel_launcher.py:4: FutureWarning: In a future version of pandas all arguments of DataFrame.drop except for the argument 'labels' will be keyword-only\n",
            "  after removing the cwd from sys.path.\n"
          ]
        }
      ],
      "source": [
        "#removal and renaming of columns\n",
        "\n",
        "if clean_text == True: \n",
        "  dataset[i].drop(dataset[i].columns.difference(['Label', \"text_clean\"]), 1, inplace=True)\n",
        "  dataset[i].rename(columns={'text_clean': 'text'}, inplace=True)\n",
        "\n",
        "else: \n",
        "  dataset[i].drop(dataset[i].columns.difference(['Label', \"text\"]), 1, inplace=True)\n",
        "\n",
        "dataset[i].rename(columns={'Label': 'label'}, inplace=True)\n",
        "\n",
        "#final dataset with \"label\" and \"text\""
      ]
    },
    {
      "cell_type": "code",
      "execution_count": 6,
      "metadata": {
        "colab": {
          "base_uri": "https://localhost:8080/",
          "height": 224
        },
        "id": "ZYgYEQFCqu3P",
        "outputId": "7a92b374-ea12-49d1-cade-0d285c8aeee6"
      },
      "outputs": [
        {
          "output_type": "stream",
          "name": "stdout",
          "text": [
            "(2496, 2)\n"
          ]
        },
        {
          "output_type": "execute_result",
          "data": {
            "text/plain": [
              "   label                                               text\n",
              "0      0  distinct and combined vascular effects of ace ...\n",
              "1      0  computerized surveillance of adverse drug reac...\n",
              "2      0  glomerular size selective dysfunction in niddm...\n",
              "3      0  total arterial compliance in ambulatory hypert...\n",
              "4      0  racial differences in the outcome of left vent..."
            ],
            "text/html": [
              "\n",
              "  <div id=\"df-1252c0ad-a6ab-400f-a7ea-5debe777b003\">\n",
              "    <div class=\"colab-df-container\">\n",
              "      <div>\n",
              "<style scoped>\n",
              "    .dataframe tbody tr th:only-of-type {\n",
              "        vertical-align: middle;\n",
              "    }\n",
              "\n",
              "    .dataframe tbody tr th {\n",
              "        vertical-align: top;\n",
              "    }\n",
              "\n",
              "    .dataframe thead th {\n",
              "        text-align: right;\n",
              "    }\n",
              "</style>\n",
              "<table border=\"1\" class=\"dataframe\">\n",
              "  <thead>\n",
              "    <tr style=\"text-align: right;\">\n",
              "      <th></th>\n",
              "      <th>label</th>\n",
              "      <th>text</th>\n",
              "    </tr>\n",
              "  </thead>\n",
              "  <tbody>\n",
              "    <tr>\n",
              "      <th>0</th>\n",
              "      <td>0</td>\n",
              "      <td>distinct and combined vascular effects of ace ...</td>\n",
              "    </tr>\n",
              "    <tr>\n",
              "      <th>1</th>\n",
              "      <td>0</td>\n",
              "      <td>computerized surveillance of adverse drug reac...</td>\n",
              "    </tr>\n",
              "    <tr>\n",
              "      <th>2</th>\n",
              "      <td>0</td>\n",
              "      <td>glomerular size selective dysfunction in niddm...</td>\n",
              "    </tr>\n",
              "    <tr>\n",
              "      <th>3</th>\n",
              "      <td>0</td>\n",
              "      <td>total arterial compliance in ambulatory hypert...</td>\n",
              "    </tr>\n",
              "    <tr>\n",
              "      <th>4</th>\n",
              "      <td>0</td>\n",
              "      <td>racial differences in the outcome of left vent...</td>\n",
              "    </tr>\n",
              "  </tbody>\n",
              "</table>\n",
              "</div>\n",
              "      <button class=\"colab-df-convert\" onclick=\"convertToInteractive('df-1252c0ad-a6ab-400f-a7ea-5debe777b003')\"\n",
              "              title=\"Convert this dataframe to an interactive table.\"\n",
              "              style=\"display:none;\">\n",
              "        \n",
              "  <svg xmlns=\"http://www.w3.org/2000/svg\" height=\"24px\"viewBox=\"0 0 24 24\"\n",
              "       width=\"24px\">\n",
              "    <path d=\"M0 0h24v24H0V0z\" fill=\"none\"/>\n",
              "    <path d=\"M18.56 5.44l.94 2.06.94-2.06 2.06-.94-2.06-.94-.94-2.06-.94 2.06-2.06.94zm-11 1L8.5 8.5l.94-2.06 2.06-.94-2.06-.94L8.5 2.5l-.94 2.06-2.06.94zm10 10l.94 2.06.94-2.06 2.06-.94-2.06-.94-.94-2.06-.94 2.06-2.06.94z\"/><path d=\"M17.41 7.96l-1.37-1.37c-.4-.4-.92-.59-1.43-.59-.52 0-1.04.2-1.43.59L10.3 9.45l-7.72 7.72c-.78.78-.78 2.05 0 2.83L4 21.41c.39.39.9.59 1.41.59.51 0 1.02-.2 1.41-.59l7.78-7.78 2.81-2.81c.8-.78.8-2.07 0-2.86zM5.41 20L4 18.59l7.72-7.72 1.47 1.35L5.41 20z\"/>\n",
              "  </svg>\n",
              "      </button>\n",
              "      \n",
              "  <style>\n",
              "    .colab-df-container {\n",
              "      display:flex;\n",
              "      flex-wrap:wrap;\n",
              "      gap: 12px;\n",
              "    }\n",
              "\n",
              "    .colab-df-convert {\n",
              "      background-color: #E8F0FE;\n",
              "      border: none;\n",
              "      border-radius: 50%;\n",
              "      cursor: pointer;\n",
              "      display: none;\n",
              "      fill: #1967D2;\n",
              "      height: 32px;\n",
              "      padding: 0 0 0 0;\n",
              "      width: 32px;\n",
              "    }\n",
              "\n",
              "    .colab-df-convert:hover {\n",
              "      background-color: #E2EBFA;\n",
              "      box-shadow: 0px 1px 2px rgba(60, 64, 67, 0.3), 0px 1px 3px 1px rgba(60, 64, 67, 0.15);\n",
              "      fill: #174EA6;\n",
              "    }\n",
              "\n",
              "    [theme=dark] .colab-df-convert {\n",
              "      background-color: #3B4455;\n",
              "      fill: #D2E3FC;\n",
              "    }\n",
              "\n",
              "    [theme=dark] .colab-df-convert:hover {\n",
              "      background-color: #434B5C;\n",
              "      box-shadow: 0px 1px 3px 1px rgba(0, 0, 0, 0.15);\n",
              "      filter: drop-shadow(0px 1px 2px rgba(0, 0, 0, 0.3));\n",
              "      fill: #FFFFFF;\n",
              "    }\n",
              "  </style>\n",
              "\n",
              "      <script>\n",
              "        const buttonEl =\n",
              "          document.querySelector('#df-1252c0ad-a6ab-400f-a7ea-5debe777b003 button.colab-df-convert');\n",
              "        buttonEl.style.display =\n",
              "          google.colab.kernel.accessAllowed ? 'block' : 'none';\n",
              "\n",
              "        async function convertToInteractive(key) {\n",
              "          const element = document.querySelector('#df-1252c0ad-a6ab-400f-a7ea-5debe777b003');\n",
              "          const dataTable =\n",
              "            await google.colab.kernel.invokeFunction('convertToInteractive',\n",
              "                                                     [key], {});\n",
              "          if (!dataTable) return;\n",
              "\n",
              "          const docLinkHtml = 'Like what you see? Visit the ' +\n",
              "            '<a target=\"_blank\" href=https://colab.research.google.com/notebooks/data_table.ipynb>data table notebook</a>'\n",
              "            + ' to learn more about interactive tables.';\n",
              "          element.innerHTML = '';\n",
              "          dataTable['output_type'] = 'display_data';\n",
              "          await google.colab.output.renderOutput(dataTable, element);\n",
              "          const docLink = document.createElement('div');\n",
              "          docLink.innerHTML = docLinkHtml;\n",
              "          element.appendChild(docLink);\n",
              "        }\n",
              "      </script>\n",
              "    </div>\n",
              "  </div>\n",
              "  "
            ]
          },
          "metadata": {},
          "execution_count": 6
        }
      ],
      "source": [
        "print(dataset[i].shape)\n",
        "dataset[i].head()"
      ]
    },
    {
      "cell_type": "markdown",
      "metadata": {
        "id": "nFBCeSvk9cOb"
      },
      "source": [
        "### Train, test and val split"
      ]
    },
    {
      "cell_type": "code",
      "execution_count": 7,
      "metadata": {
        "id": "uA0-V5tgSqAg"
      },
      "outputs": [],
      "source": [
        "train, test = train_test_split(dataset[i], train_size=0.5, random_state=random.seed(SEED), shuffle=True, stratify=dataset[i]['label'])"
      ]
    },
    {
      "cell_type": "code",
      "execution_count": 8,
      "metadata": {
        "colab": {
          "base_uri": "https://localhost:8080/"
        },
        "id": "rYvbZri1O3Ek",
        "outputId": "4e7d7f8f-b569-4ac7-af39-df9e300e20d1"
      },
      "outputs": [
        {
          "output_type": "stream",
          "name": "stdout",
          "text": [
            "Counter({0: 1229, 1: 1229})\n"
          ]
        }
      ],
      "source": [
        "#OVERSAMPLING\n",
        "from imblearn.over_sampling import RandomOverSampler\n",
        "from collections import Counter\n",
        "# instantiating the random over sampler \n",
        "ros = RandomOverSampler(sampling_strategy=1, random_state=SEED)\n",
        "# resampling X, y\n",
        "X_ros, y_ros = ros.fit_resample(train[\"text\"].values.reshape(-1, 1), train[\"label\"].values)\n",
        "# new class distribution \n",
        "print(Counter(y_ros))"
      ]
    },
    {
      "cell_type": "code",
      "execution_count": 9,
      "metadata": {
        "id": "n7OvrlN8QHWZ"
      },
      "outputs": [],
      "source": [
        "oversampled_train = pd.DataFrame(X_ros, columns=[\"text\"])\n",
        "oversampled_train[\"label\"] = y_ros"
      ]
    },
    {
      "cell_type": "code",
      "execution_count": 10,
      "metadata": {
        "id": "q55Zvmn6rkeJ"
      },
      "outputs": [],
      "source": [
        "class DataFrameDataset(Dataset):\n",
        "  \"\"\"Class for using pandas DataFrames as a datasource\"\"\"\n",
        "  def __init__(self, examples, fields, filter_pred=None):\n",
        "    \"\"\"\n",
        "    Create a dataset from a pandas dataframe of examples and Fields\n",
        "    Arguments:\n",
        "      examples pd.DataFrame: DataFrame of examples\n",
        "      fields {str: Field}: The Fields to use in this tuple. The\n",
        "        string is a field name, and the Field is the associated field.\n",
        "      filter_pred (callable or None): use only exanples for which\n",
        "        filter_pred(example) is true, or use all examples if None.\n",
        "        Default is None\n",
        "    \"\"\"\n",
        "    self.examples = examples.apply(SeriesExample.fromSeries, args=(fields,), axis=1).tolist()\n",
        "    if filter_pred is not None:\n",
        "      self.examples = filter(filter_pred, self.examples)\n",
        "    self.fields = dict(fields)\n",
        "    # Unpack field tuples\n",
        "    for n, f in list(self.fields.items()):\n",
        "      if isinstance(n, tuple):\n",
        "        self.fields.update(zip(n, f))\n",
        "        del self.fields[n]\n",
        "\n",
        "class SeriesExample(Example):\n",
        "  \"\"\"Class to convert a pandas Series to an Example\"\"\"\n",
        "\n",
        "  @classmethod\n",
        "  def fromSeries(cls, data, fields):\n",
        "    return cls.fromdict(data.to_dict(), fields)\n",
        "\n",
        "  @classmethod\n",
        "  def fromdict(cls, data, fields):\n",
        "    ex = cls()\n",
        "      \n",
        "    for key, field in fields.items():\n",
        "      if key not in data:\n",
        "        raise ValueError(\"Specified key {} was not found in \"\n",
        "        \"the input data\".format(key))\n",
        "      if field is not None:\n",
        "        setattr(ex, key, field.preprocess(data[key]))\n",
        "      else:\n",
        "        setattr(ex, key, data[key])\n",
        "    return ex"
      ]
    },
    {
      "cell_type": "code",
      "execution_count": 11,
      "metadata": {
        "id": "oBNm2G54sE1P"
      },
      "outputs": [],
      "source": [
        "# #pytorch dataset \n",
        "# df = DataFrameDataset(dataset[i], fields)"
      ]
    },
    {
      "cell_type": "code",
      "execution_count": 12,
      "metadata": {
        "id": "JJL82YylXH49"
      },
      "outputs": [],
      "source": [
        "#pytorch dataset \n",
        "train_data = DataFrameDataset(oversampled_train, fields)\n",
        "df = DataFrameDataset(test, fields)"
      ]
    },
    {
      "cell_type": "code",
      "execution_count": 13,
      "metadata": {
        "colab": {
          "base_uri": "https://localhost:8080/"
        },
        "id": "OTco1X3Dudfv",
        "outputId": "29f2c77d-a08b-4f4d-d229-f71aa741dcf0"
      },
      "outputs": [
        {
          "output_type": "stream",
          "name": "stdout",
          "text": [
            "Number of training examples: 2458\n",
            "Number of testing examples: 998\n",
            "Number of validation examples: 250\n",
            "\n",
            " {'label': 0, 'text': ['increased', 'urinary', 'nag', 'excretion', 'in', 'hypertensives', 'can', 'decline', 'with', 'antihypertensive', 'treatment', 'acetylglucosamine', 'urine', 'adult', 'aged', 'antihypertensive', 'agents', 'therapeutic', 'use', 'biomarkers', 'urine', 'creatinine', 'blood', 'diastole', 'female', 'fosinopril', 'therapeutic', 'use', 'glomerular', 'filtration', 'rate', 'humans', 'hypertension', 'drug', 'therapy', 'physiopathology', 'urine', 'male', 'middle', 'aged', 'potassium', 'blood', 'systole']}\n"
          ]
        }
      ],
      "source": [
        "#test and val split\n",
        "test_data, valid_data = df.split(split_ratio=0.8, stratified=True, strata_field='label', random_state = random.seed(SEED))\n",
        "\n",
        "print(f'Number of training examples: {len(train_data)}')\n",
        "print(f'Number of testing examples: {len(test_data)}')\n",
        "print(f'Number of validation examples: {len(valid_data)}')\n",
        "\n",
        "#checking an example\n",
        "print(\"\\n\", vars(train_data.examples[0]))"
      ]
    },
    {
      "cell_type": "code",
      "execution_count": 14,
      "metadata": {
        "id": "JwLWNx53uWm7"
      },
      "outputs": [],
      "source": [
        "#VOCABULARY: look up table where every unique word in your data set has a corresponding _index_ (an integer).\n",
        "#each _index_ is used to construct a _one-hot_ vector for each word.\n",
        "TEXT.build_vocab(train_data,\n",
        "                 vectors = \"glove.42B.300d\", #use of pre-trained word embeddings\n",
        "                 unk_init = torch.Tensor.normal_) #initialize words in pre-trained embeddings randomly via gaussian distribution\n",
        "\n",
        "LABEL.build_vocab(train_data)"
      ]
    },
    {
      "cell_type": "markdown",
      "metadata": {
        "id": "ahSv1rMYSglF"
      },
      "source": [
        "Only build the vocabulary on the training set because when testing a machine learning system you do not want to look at the test set in any way. Also, do not include the validation set as you want it to reflect the test set as much as possible."
      ]
    },
    {
      "cell_type": "code",
      "execution_count": 15,
      "metadata": {
        "colab": {
          "base_uri": "https://localhost:8080/"
        },
        "id": "PB-wqYIqSglF",
        "outputId": "53081fd3-32fd-4530-c4f3-dc000c1b258e"
      },
      "outputs": [
        {
          "output_type": "stream",
          "name": "stdout",
          "text": [
            "Unique tokens in TEXT vocabulary: 9993\n",
            "Unique tokens in LABEL vocabulary: 2\n"
          ]
        }
      ],
      "source": [
        "print(f\"Unique tokens in TEXT vocabulary: {len(TEXT.vocab)}\")\n",
        "print(f\"Unique tokens in LABEL vocabulary: {len(LABEL.vocab)}\")"
      ]
    },
    {
      "cell_type": "code",
      "execution_count": 16,
      "metadata": {
        "id": "82_LOf3AaceV"
      },
      "outputs": [],
      "source": [
        "poscount = 0\n",
        "for elem in range(len(train_data)):\n",
        "  if train_data[elem].label == 1:\n",
        "    poscount += 1 "
      ]
    },
    {
      "cell_type": "code",
      "execution_count": 17,
      "metadata": {
        "colab": {
          "base_uri": "https://localhost:8080/"
        },
        "id": "FCKqCeGfbq6B",
        "outputId": "3a2a6e38-22f7-4ca2-d7d0-97656d836e31"
      },
      "outputs": [
        {
          "output_type": "execute_result",
          "data": {
            "text/plain": [
              "1229"
            ]
          },
          "metadata": {},
          "execution_count": 17
        }
      ],
      "source": [
        "poscount"
      ]
    },
    {
      "cell_type": "code",
      "execution_count": 18,
      "metadata": {
        "colab": {
          "base_uri": "https://localhost:8080/"
        },
        "id": "srpwWyNYbRIx",
        "outputId": "bab9972f-b25a-4399-fde5-963f9b50228a"
      },
      "outputs": [
        {
          "output_type": "execute_result",
          "data": {
            "text/plain": [
              "0"
            ]
          },
          "metadata": {},
          "execution_count": 18
        }
      ],
      "source": [
        "train_data[0].label"
      ]
    },
    {
      "cell_type": "markdown",
      "metadata": {
        "id": "t3X2HdQOSglF"
      },
      "source": [
        "There is the addition of the `<pad>` token.\n",
        "\n",
        "When feeding sentences into our model, you feed a _batch_ of them at a time, i.e. more than one at a time, and all sentences in the batch need to be the same size. Thus, to ensure each sentence in the batch is the same size, any shorter than the longest within the batch are padded."
      ]
    },
    {
      "cell_type": "code",
      "execution_count": 19,
      "metadata": {
        "colab": {
          "base_uri": "https://localhost:8080/"
        },
        "id": "rDu0mHTiSglF",
        "outputId": "ac07c5ad-b7f1-46c1-a2e4-37005c6a72c5"
      },
      "outputs": [
        {
          "output_type": "stream",
          "name": "stdout",
          "text": [
            "Most common words: [('the', 27516), ('of', 25642), ('in', 19899), ('and', 18786), ('with', 12830), ('patients', 11968), ('to', 10611), ('a', 8964), ('0', 8955), ('was', 8146), ('effects', 6721), ('drug', 6634), ('were', 6046), ('use', 5934), ('p', 5821), ('treatment', 5726), ('captopril', 5630), ('1', 5617), ('therapeutic', 5462), ('infarction', 5184)]\n"
          ]
        }
      ],
      "source": [
        "print(\"Most common words:\", TEXT.vocab.freqs.most_common(20))"
      ]
    },
    {
      "cell_type": "code",
      "execution_count": 20,
      "metadata": {
        "colab": {
          "base_uri": "https://localhost:8080/"
        },
        "id": "PRZihaahSglG",
        "outputId": "dc0e0afb-1006-4fbe-b549-4870daa29d58"
      },
      "outputs": [
        {
          "output_type": "stream",
          "name": "stdout",
          "text": [
            "['<unk>', '<pad>', 'the', 'of', 'in', 'and', 'with', 'patients', 'to', 'a']\n",
            "defaultdict(None, {0: 0, 1: 1})\n"
          ]
        }
      ],
      "source": [
        "#see the vocabulary directly using either stoi (string to int) or itos (int to string)\n",
        "print(TEXT.vocab.itos[:10])\n",
        "\n",
        "#check the labels, ensuring 0 is for negative and 1 is for positive\n",
        "# LABEL.vocab.stoi = {1:1, 0:0}\n",
        "print(LABEL.vocab.stoi)"
      ]
    },
    {
      "cell_type": "code",
      "execution_count": 21,
      "metadata": {
        "id": "HZdKy_vJSglH"
      },
      "outputs": [],
      "source": [
        "#creating the iterators\n",
        "\n",
        "#ITERATORS: you iterate over iterators in the training/evaluation loop, \n",
        "#and they return a batch of examples (indexed and converted into tensors) at each iteration.\n",
        "\n",
        "#BUCKET ITERATORS: special type of iterator that will return a batch of examples \n",
        "#where each example is of a similar length, minimizing the amount of padding per example.\n",
        "\n",
        "train_iterator, valid_iterator, test_iterator = data.BucketIterator.splits(\n",
        "  (train_data, valid_data, test_data), \n",
        "  batch_size = BATCH_SIZE,\n",
        "  device = device, \n",
        "  sort_key = lambda x: len(x.text),\n",
        "  sort_within_batch = True) #False, ##for packed padded sequences all of the tensors within a batch need to be sorted by their lengths"
      ]
    },
    {
      "cell_type": "markdown",
      "metadata": {
        "id": "OyyTrXY1SglH"
      },
      "source": [
        "## Build the Model\n"
      ]
    },
    {
      "cell_type": "markdown",
      "source": [
        "## Build the Model\n",
        "\n",
        "### Different RNN Architecture\n",
        "\n",
        "Long Short-Term Memory (LSTM) is a type of RNN architecture. \n",
        "\n",
        "Standard RNNs suffer from the vanishing gradient problem. LSTMs overcome this by having an extra recurrent state called a _cell_, $c$ - which can be thought of as the \"memory\" of the LSTM - and using multiple _gates_ which control the flow of information into and out of the memory. We can simply think of the LSTM as a function of $x_t$, $h_t$ and $c_t$, instead of just $x_t$ and $h_t$.\n",
        "\n",
        "$$(h_t, c_t) = \\text{LSTM}(x_t, h_t, c_t)$$\n",
        "\n",
        "Thus, the model using an LSTM looks something like (with the embedding layers omitted):\n",
        "\n",
        "![](https://github.com/bentrevett/pytorch-sentiment-analysis/blob/master/assets/sentiment2.png?raw=1)\n",
        "\n",
        "The initial cell state, $c_0$, like the initial hidden state is initialized to a tensor of all zeros. The final prediction is still, however, only made using the final hidden state, not the final cell state, i.e. $\\hat{y}=f(h_T)$.\n",
        "\n",
        "### Bidirectional RNN\n",
        "\n",
        "The concept behind a bidirectional RNN is simple. As well as having an RNN processing the words in the sentence from the first to the last (a forward RNN), we have a second RNN processing the words in the sentence from the **last to the first** (a backward RNN). At time step $t$, the forward RNN is processing word $x_t$, and the backward RNN is processing word $x_{T-t+1}$. \n",
        "\n",
        "In PyTorch, the hidden state (and cell state) tensors returned by the forward and backward RNNs are stacked on top of each other in a single tensor. \n",
        "\n",
        "We make our sentiment prediction using a concatenation of the last hidden state from the forward RNN (obtained from final word of the sentence), $h_T^\\rightarrow$, and the last hidden state from the backward RNN (obtained from the first word of the sentence), $h_T^\\leftarrow$, i.e. $\\hat{y}=f(h_T^\\rightarrow, h_T^\\leftarrow)$   \n",
        "\n",
        "The image below shows a bi-directional RNN, with the forward RNN in orange, the backward RNN in green and the linear layer in silver.  \n",
        "\n",
        "![](https://github.com/bentrevett/pytorch-sentiment-analysis/blob/master/assets/sentiment3.png?raw=1)\n",
        "\n",
        "### Multi-layer RNN\n",
        "\n",
        "Multi-layer RNNs (also called *deep RNNs*) are another simple concept. The idea is that we add additional RNNs on top of the initial standard RNN, where each RNN added is another *layer*. The hidden state output by the first (bottom) RNN at time-step $t$ will be the input to the RNN above it at time step $t$. The prediction is then made from the final hidden state of the final (highest) layer.\n",
        "\n",
        "The image below shows a multi-layer unidirectional RNN, where the layer number is given as a superscript. Also note that each layer needs their own initial hidden state, $h_0^L$.\n",
        "\n",
        "![](https://github.com/bentrevett/pytorch-sentiment-analysis/blob/master/assets/sentiment4.png?raw=1)\n",
        "\n",
        "### Regularization\n",
        "\n",
        "Although we've added improvements to our model, each one adds additional parameters. Without going into overfitting into too much detail, the more parameters you have in in your model, the higher the probability that your model will overfit (memorize the training data, causing a low training error but high validation/testing error, i.e. poor generalization to new, unseen examples). To combat this, we use regularization. More specifically, we use a method of regularization called *dropout*. Dropout works by randomly *dropping out* (setting to 0) neurons in a layer during a forward pass. The probability that each neuron is dropped out is set by a hyperparameter and each neuron with dropout applied is considered indepenently. One theory about why dropout works is that a model with parameters dropped out can be seen as a \"weaker\" (less parameters) model. The predictions from all these \"weaker\" models (one for each forward pass) get averaged together withinin the parameters of the model. Thus, your one model can be thought of as an ensemble of weaker models, none of which are over-parameterized and thus should not overfit."
      ],
      "metadata": {
        "id": "nG0QkIPvggG0"
      }
    },
    {
      "cell_type": "markdown",
      "metadata": {
        "id": "5OT9rn6chJoY"
      },
      "source": [
        "All layers have their parameters initialized to random values, unless explicitly specified.\n",
        "\n",
        "- **Embedding layer**: is used to transform the sparse one-hot vector into a dense embedding vector (dense as the dimensionality is a lot smaller and all the elements are real numbers). It is simply a single fully connected layer. \n",
        "As well as reducing the dimensionality of the input to the RNN, there is the theory that words with similar meaning are mapped close together in this dense vector space.\n",
        "\n",
        "- **RNN**: takes in the dense vector and the previous hidden state $h_{t-1}$, which it uses to calculate the next hidden state, $h_t$.\n",
        "\n",
        "- **Linear layer**: takes the final hidden state and feeds it through a fully connected layer, $f(h_T)$, transforming it to the correct output dimension."
      ]
    },
    {
      "cell_type": "code",
      "execution_count": 22,
      "metadata": {
        "id": "IHPGjaToSglH"
      },
      "outputs": [],
      "source": [
        "class RNN(nn.Module): #the RNN class is a sub-class of nn.Module\n",
        "  def __init__(self, vocab_size, embedding_dim, hidden_dim, output_dim, n_layers, \n",
        "                 bidirectional, dropout, pad_idx): #define the layers of the module \n",
        "      \n",
        "    super().__init__()\n",
        "    \n",
        "    self.embedding = nn.Embedding(vocab_size, \n",
        "                                  embedding_dim, \n",
        "                                  padding_idx = pad_idx) #index of the pad token is passed as an argument to the embedding layer\n",
        "    \n",
        "    self.rnn = nn.LSTM(embedding_dim, #LSTM layer\n",
        "                           hidden_dim, \n",
        "                           num_layers=n_layers, \n",
        "                           bidirectional=bidirectional, \n",
        "                           dropout=dropout) #adds dropout on the connections between hidden states in one layer to hidden states in the next layer\n",
        "    #implementing bidirectionality and adding additional layers are done \n",
        "    #by passing values for the num_layers and bidirectional arguments for the RNN/LSTM\n",
        "    \n",
        "    self.fc = nn.Linear(hidden_dim * 2, output_dim) #linear layer\n",
        "    #as the final hidden state of the LSTM has both a forward and a backward component,\n",
        "    #which will be concatenated together, the size of the input to the nn.Linear layer \n",
        "    #is twice that of the hidden dimension size\n",
        "\n",
        "    self.dropout = nn.Dropout(dropout) #dropout layer\n",
        "    #the argument is the probability of dropping out each neuron\n",
        "    #the dropout layer is used within the forward method after each layer we want to apply dropout to\n",
        "\n",
        "      \n",
        "  def forward(self, text, text_lengths): #called when feeding examples into the model\n",
        "  #text_lengths is needed as we are passing the lengths of the sentences \n",
        "  #to be able to use packed padded sequences\n",
        "\n",
        "    #text = [sent len, batch size] (tensor)\n",
        "    #text is a batch of senteces, each having each word converted into a one-hot vector \n",
        "\n",
        "    #the input batch is passed through the embedding layer to get `embedded`, \n",
        "    #which gives us a dense vector representation of our sentences.\n",
        "    embedded = self.dropout(self.embedding(text)) \n",
        "    \n",
        "    #embedded = [sent len, batch size, emb dim] (tensor)\n",
        "    \n",
        "    #PACK SEQUENCE: before we pass our embeddings to the RNN, we need to pack them\n",
        "    #this will cause our RNN to only process the non-padded elements of a sequence\n",
        "    #lengths need to be on CPU\n",
        "    packed_embedded = nn.utils.rnn.pack_padded_sequence(embedded, text_lengths.to('cpu'))\n",
        "    \n",
        "    #the RNN will then return packed_output (a packed sequence) as well as the hidden and cell states (both of which are tensors)\n",
        "    packed_output, (hidden, cell) = self.rnn(packed_embedded) \n",
        "    #so LSTM returns the output and a tuple of the final hidden state and the final cell state\n",
        "    \n",
        "    #UNPACK SEQUENCE: unpack of the output sequence to transform it from a packed sequence to a tensor\n",
        "    #the elements of output from padding tokens will be zero tensors (tensors where every element is zero)\n",
        "    output, output_lengths = nn.utils.rnn.pad_packed_sequence(packed_output)\n",
        "    \n",
        "    #output = [sent len, batch size, hid dim * num directions] (tensor)\n",
        "    #output is the concatenation of the hidden state from every time step\n",
        "    #output over padding tokens are zero tensors\n",
        "\n",
        "    #hidden = [num layers * num directions, batch size, hid dim]\n",
        "    #cell = [num layers * num directions, batch size, hid dim]\n",
        "    \n",
        "    #concat the final forward (hidden[-2,:,:]) and backward (hidden[-1,:,:]) hidden layers\n",
        "    #and apply dropout\n",
        "    \n",
        "    #the layers are ordered: [forward_layer_0, backward_layer_0, forward_layer_1, backward_layer 1, ..., forward_layer_n, backward_layer n]\n",
        "    #as we want the final layer forward and backward hidden states, \n",
        "    #we get the last two hidden layers, hidden[-2,:,:] and hidden[-1,:,:], \n",
        "    #and concatenate them together before passing them to the linear layer (after applying dropout)\n",
        "    hidden = self.dropout(torch.cat((hidden[-2,:,:], hidden[-1,:,:]), dim = 1))\n",
        "            \n",
        "    #hidden = [batch size, hid dim * num directions]\n",
        "    \n",
        "    #the last hidden state, hidden, is fed through the linear layer to produce a prediction\n",
        "    return self.fc(hidden)"
      ]
    },
    {
      "cell_type": "markdown",
      "metadata": {
        "id": "86qw7_FL1We-"
      },
      "source": [
        "The tensor `text` should have another dimension due to the one-hot vectors, however PyTorch conveniently stores a one-hot vector as it's index value, i.e. the tensor representing a sentence is just a tensor of the indexes for each token in that sentence. The act of converting a list of tokens into a list of indexes is commonly called *numericalizing*."
      ]
    },
    {
      "cell_type": "markdown",
      "source": [
        "Notes: \n",
        "- Never use dropout on the input or output layers (`text` or `fc` in this case) because you only ever want to use dropout on intermediate layers.\n",
        "- Without packed padded sequences, `hidden` and `cell` are tensors from the last element in the sequence, which will most probably be a pad token, however when using packed padded sequences they are both from the last non-padded element in the sequence.\n",
        "- The `lengths` argument of `packed_padded_sequence` must be a CPU tensor so we explicitly make it one by using `.to('cpu')`.\n",
        "- Usually, there is only the need to unpack output if you are going to use it later on in the model. Although in this case the unpack output is not used, it has been unpacked anyway."
      ],
      "metadata": {
        "id": "OIVnoa_blQcB"
      }
    },
    {
      "cell_type": "code",
      "execution_count": 23,
      "metadata": {
        "id": "9kfAMS75SglI"
      },
      "outputs": [],
      "source": [
        "#create an instance of the RNN class\n",
        "INPUT_DIM = len(TEXT.vocab) #input dimension: dimension of the one-hot vectors (equal to the vocabulary size)\n",
        "PAD_IDX = TEXT.vocab.stoi[TEXT.pad_token] #get the pad token index from the vocabulary\n",
        "#this allows to get the actual string representing the pad token from the field's pad_token attribute, which is <pad> by default\n",
        "\n",
        "model = RNN(INPUT_DIM, EMBEDDING_DIM, HIDDEN_DIM, OUTPUT_DIM, N_LAYERS, \n",
        "            BIDIRECTIONAL, DROPOUT, PAD_IDX)"
      ]
    },
    {
      "cell_type": "markdown",
      "metadata": {
        "id": "ugyYN3_68Wy1"
      },
      "source": [
        "- **Input dimension**: dimension of the one-hot vectors (equal to the vocabulary size).\n",
        "- **Embedding dimension**: size of the dense word vectors. This is usually around 50-250 dimensions, but depends on the size of the vocabulary.\n",
        "- **Hidden dimension**: size of the hidden states. This is usually around 100-500 dimensions, but also depends on factors such as on the vocabulary size, the size of the dense vectors and the complexity of the task.\n",
        "- **Output dimension**: usually the number of classes. However in the case of only 2 classes the output value is between 0 and 1 and thus can be 1-dimensional, i.e. a single scalar real number."
      ]
    },
    {
      "cell_type": "code",
      "execution_count": 24,
      "metadata": {
        "colab": {
          "base_uri": "https://localhost:8080/"
        },
        "id": "npsTUoyLSglI",
        "outputId": "445adbd2-20bd-440d-a449-93af366b73de"
      },
      "outputs": [
        {
          "output_type": "stream",
          "name": "stdout",
          "text": [
            "The model has 10,449,037 trainable parameters\n"
          ]
        }
      ],
      "source": [
        "def count_parameters(model):\n",
        "  \"\"\" \n",
        "  Function that tells how many trainable parameters the model has \n",
        "  so we can compare the number of parameters across different models.\n",
        "  \"\"\"\n",
        "  return sum(p.numel() for p in model.parameters() if p.requires_grad)\n",
        "\n",
        "print(f'The model has {count_parameters(model):,} trainable parameters')"
      ]
    },
    {
      "cell_type": "code",
      "execution_count": 25,
      "metadata": {
        "id": "WFVO_DKKCiZG",
        "colab": {
          "base_uri": "https://localhost:8080/"
        },
        "outputId": "2e41e20d-4034-4f0e-99e4-1e0c1b726da3"
      },
      "outputs": [
        {
          "output_type": "stream",
          "name": "stdout",
          "text": [
            "torch.Size([9993, 300])\n"
          ]
        }
      ],
      "source": [
        "#retrieve the embeddings from the field's vocab\n",
        "pretrained_embeddings = TEXT.vocab.vectors\n",
        "\n",
        "#check the embeddings are the correct size, [vocab size, embedding dim]\n",
        "print(pretrained_embeddings.shape)"
      ]
    },
    {
      "cell_type": "code",
      "execution_count": 26,
      "metadata": {
        "id": "tWvkMmpsCiZG",
        "colab": {
          "base_uri": "https://localhost:8080/"
        },
        "outputId": "4e018b83-bf19-41f1-d9f9-641aaec555ac"
      },
      "outputs": [
        {
          "output_type": "execute_result",
          "data": {
            "text/plain": [
              "tensor([[-1.1172e-01, -4.9659e-01,  1.6307e-01,  ..., -1.4447e+00,\n",
              "          8.4021e-01, -8.6684e-01],\n",
              "        [ 1.0322e-01, -1.6268e+00,  5.7285e-01,  ...,  3.1804e-01,\n",
              "         -1.6259e-01, -4.1701e-02],\n",
              "        [-2.0838e-01, -1.4932e-01, -1.7528e-02,  ..., -5.4066e-01,\n",
              "          2.1199e-01, -9.4357e-03],\n",
              "        ...,\n",
              "        [-6.1891e-01, -1.1732e+00, -1.2075e+00,  ...,  2.8668e+00,\n",
              "         -6.7785e-01,  4.0222e-02],\n",
              "        [ 2.2345e-01, -3.2344e-01, -2.0852e-03,  ...,  6.9014e-01,\n",
              "         -6.9764e-02,  1.0198e-01],\n",
              "        [ 4.3500e-01, -4.8822e-01, -1.4933e-01,  ..., -3.4345e-01,\n",
              "         -6.2270e-03,  2.3741e-01]])"
            ]
          },
          "metadata": {},
          "execution_count": 26
        }
      ],
      "source": [
        "#replace the initial weights of the embedding layer with the pre-trained embeddings\n",
        "model.embedding.weight.data.copy_(pretrained_embeddings)"
      ]
    },
    {
      "cell_type": "markdown",
      "metadata": {
        "id": "vbgUS4ZLCiZG"
      },
      "source": [
        "Replacing the initial weights of the embedding layer with the pre-trained embeddings should always be done on the `weight.data` and not the `weight`."
      ]
    },
    {
      "cell_type": "code",
      "execution_count": 27,
      "metadata": {
        "id": "DItOMKfiCiZH",
        "colab": {
          "base_uri": "https://localhost:8080/"
        },
        "outputId": "46a02c39-02e3-4c05-cda5-fa38300b1c1c"
      },
      "outputs": [
        {
          "output_type": "stream",
          "name": "stdout",
          "text": [
            "tensor([[ 0.0000e+00,  0.0000e+00,  0.0000e+00,  ...,  0.0000e+00,\n",
            "          0.0000e+00,  0.0000e+00],\n",
            "        [ 0.0000e+00,  0.0000e+00,  0.0000e+00,  ...,  0.0000e+00,\n",
            "          0.0000e+00,  0.0000e+00],\n",
            "        [-2.0838e-01, -1.4932e-01, -1.7528e-02,  ..., -5.4066e-01,\n",
            "          2.1199e-01, -9.4357e-03],\n",
            "        ...,\n",
            "        [-6.1891e-01, -1.1732e+00, -1.2075e+00,  ...,  2.8668e+00,\n",
            "         -6.7785e-01,  4.0222e-02],\n",
            "        [ 2.2345e-01, -3.2344e-01, -2.0852e-03,  ...,  6.9014e-01,\n",
            "         -6.9764e-02,  1.0198e-01],\n",
            "        [ 4.3500e-01, -4.8822e-01, -1.4933e-01,  ..., -3.4345e-01,\n",
            "         -6.2270e-03,  2.3741e-01]])\n"
          ]
        }
      ],
      "source": [
        "#initialization of <unk> and <pad> to all zeros\n",
        "\n",
        "#get the index of the <unk> tokens\n",
        "UNK_IDX = TEXT.vocab.stoi[TEXT.unk_token]\n",
        "\n",
        "#initialize <unk> and <pad> tokens to all zeros\n",
        "model.embedding.weight.data[UNK_IDX] = torch.zeros(EMBEDDING_DIM)\n",
        "model.embedding.weight.data[PAD_IDX] = torch.zeros(EMBEDDING_DIM)\n",
        "\n",
        "#check that the first two rows of the embedding weights matrix have been set to zeros\n",
        "print(model.embedding.weight.data)"
      ]
    },
    {
      "cell_type": "markdown",
      "metadata": {
        "id": "RSjHtqCPCiZG"
      },
      "source": [
        "As our `<unk>` and `<pad>` token aren't in the pre-trained vocabulary they have been initialized using `unk_init` (an $\\mathcal{N}(0,1)$ distribution) when building our vocab. It is preferable to initialize them both to all zeros to explicitly tell our model that, initially, they are irrelevant for determining relevance. \n",
        "\n",
        "We do this by manually setting their row in the embedding weights matrix to zeros. We get their row by finding the index of the tokens, which we have already done for the padding index.\n",
        "\n",
        "Like initializing the embeddings, this should be done on the `weight.data` and not the `weight`.\n",
        "\n",
        "As we passed the index of the pad token to the `padding_idx` of the embedding layer it will remain zeros throughout training, however the `<unk>` token embedding will be learned."
      ]
    },
    {
      "cell_type": "markdown",
      "metadata": {
        "id": "bT3Ge5clSglI"
      },
      "source": [
        "## Train the Model"
      ]
    },
    {
      "cell_type": "markdown",
      "source": [
        "**Optimizers** \n",
        "- **SGD**: updates all parameters with the same learning rate and choosing this learning rate can be tricky. \n",
        "- **Adam**: adapts the learning rate for each parameter, giving parameters that are updated more frequently lower learning rates and parameters that are updated infrequently higher learning rates. \n",
        "You do not have to provide an initial learning rate for Adam as PyTorch specifies a sensibile default initial learning rate."
      ],
      "metadata": {
        "id": "mLTFlkPGnkYE"
      }
    },
    {
      "cell_type": "code",
      "execution_count": 28,
      "metadata": {
        "id": "YQnHgPY2SglI"
      },
      "outputs": [],
      "source": [
        "#OPTIMIZER: algorithm we use to update the parameters of the module. \n",
        "#chosen optimizer: Adam\n",
        "optimizer = optim.Adam(model.parameters())\n",
        "\n",
        "#CRITERION: loss function\n",
        "#chosen loss function: binary cross entropy with logits\n",
        "weights = [1 - (len(dataset[i][dataset[i][\"label\"]==0]) / dataset[i].shape[0])]\n",
        "weight = torch.FloatTensor(weights)\n",
        "criterion = nn.BCEWithLogitsLoss(weight=weight)\n",
        "#criterion = nn.BCEWithLogitsLoss()\n",
        "\n",
        "#place the model and the criterion on the GPU (if we have one)\n",
        "model = model.to(device)\n",
        "criterion = criterion.to(device)"
      ]
    },
    {
      "cell_type": "markdown",
      "metadata": {
        "id": "SLARuz6DSglJ"
      },
      "source": [
        "The model currently outputs an unbound real number. As the labels are either 0 or 1, you want to restrict the predictions to a number between 0 and 1. This can be done using the _sigmoid_ or _logit_ functions. \n",
        "\n",
        "Is it possible to use the bound scalar to calculate the loss using binary cross entropy. \n",
        "\n",
        "The `BCEWithLogitsLoss` criterion carries out both the sigmoid and the binary cross entropy steps."
      ]
    },
    {
      "cell_type": "code",
      "execution_count": 29,
      "metadata": {
        "id": "PCYo9ODP75Sj"
      },
      "outputs": [],
      "source": [
        "def binary_metrics(preds, y):\n",
        "  \n",
        "  \"\"\"\n",
        "  Returns metrics per batch, i.e. if you get 8/10 right, this returns 0.8, NOT 8\n",
        "  \"\"\"\n",
        "\n",
        "  #feed the prediction through a sigmoid layer, squashing the values in [0, 1], then round them to the nearest integer\n",
        "  rounded_preds = torch.round(torch.sigmoid(preds)) \n",
        "\n",
        "  #calculate how many rounded predictions equal the actual labels and average it across the batch\n",
        "  correct = (rounded_preds == y).float() #convert into float for division \n",
        "  acc = correct.sum() / len(correct)\n",
        "\n",
        "  y_true = y.detach().numpy()\n",
        "  y_pred = rounded_preds.detach().numpy()\n",
        "\n",
        "  recall = recall_score(y_true, y_pred, average='binary', zero_division=0)\n",
        "  precision = precision_score(y_true, y_pred, average='binary', zero_division=0)\n",
        "  f2 = fbeta_score(y_true, y_pred, average='binary', beta=2, zero_division=0)\n",
        "  f3 = fbeta_score(y_true, y_pred, average='binary', beta=3, zero_division=0)\n",
        "\n",
        "  #print(y)\n",
        "  #sumpos = np.sum(rounded_preds.detach().numpy() == 1)\n",
        "\n",
        "  return acc, recall, precision, f2, f3"
      ]
    },
    {
      "cell_type": "code",
      "execution_count": 30,
      "metadata": {
        "id": "d8uBilme03-0"
      },
      "outputs": [],
      "source": [
        "def train(model, iterator, optimizer, criterion): #iterates over all examples, one batch at a time\n",
        "  \n",
        "  epoch_loss = 0\n",
        "  epoch_acc = 0\n",
        "  epoch_recall = 0\n",
        "  epoch_precision = 0\n",
        "  epoch_f2 = 0\n",
        "  epoch_f3 = 0\n",
        "  \n",
        "  model.train() #put the model in \"training mode\", which turns on dropout and batch normalization\n",
        "  \n",
        "  for batch in iterator: #for each batch\n",
        "    \n",
        "    optimizer.zero_grad() #we first zero the gradients\n",
        "\n",
        "    #separete batch.text before passing it to the model\n",
        "    #batch.text is a tuple with the first element being the numericalized tensor \n",
        "    #and the second element being the actual lengths of each sequence\n",
        "    text, text_lengths = batch.text\n",
        "\n",
        "    #feed the batch of sentences,text, and their lenghts, text_lenghts into the model \n",
        "    predictions = model(text, text_lengths).squeeze(1)\n",
        "    #squeeze is needed as the predictions are initially size [batch size, 1]\n",
        "    #and we need to remove the dimension of size 1, as PyTorch expects the \n",
        "    #predictions input to our criterion function to be of size [batch size]    \n",
        "    \n",
        "    #loss and accuracy are then calculated using the predictions and the labels, batch.label, \n",
        "    #with the loss being averaged over all examples in the batch    \n",
        "    \n",
        "    #computation of loss \n",
        "    loss = criterion(predictions, batch.label)\n",
        "    #criterion expects both input to be FloatTensors\n",
        "    #that's wht in the label field we set dtype=torch.float \n",
        "    \n",
        "    #computation of accuracy\n",
        "    acc, recall, precision, f2, f3 = binary_metrics(predictions.cpu(), batch.label.cpu())\n",
        "\n",
        "    loss.backward() #calculate the gradient of each parameter\n",
        "    \n",
        "    optimizer.step() #update the parameters using the gradients and optimizer algorithm\n",
        "\n",
        "    #the loss and accuracy are accumulated across the epoch, \n",
        "    #the .item() method is used to extract a scalar from a tensor which only contains a single value\n",
        "    epoch_loss += loss.item()\n",
        "    epoch_acc += acc.item()\n",
        "    epoch_recall += recall.item()\n",
        "    epoch_precision += precision.item()\n",
        "    epoch_f2 += f2.item()\n",
        "    epoch_f3 += f3.item()\n",
        "\n",
        "  #return the loss and accuracy, averaged across the epochs\n",
        "  #the len of an iterator is the number of batches in the iterator\n",
        "    \n",
        "  return epoch_loss / len(iterator), epoch_acc / len(iterator), epoch_recall / len(iterator), epoch_precision / len(iterator), epoch_f2 / len(iterator), epoch_f3 / len(iterator)"
      ]
    },
    {
      "cell_type": "markdown",
      "metadata": {
        "id": "lD8ct0MgJuJS"
      },
      "source": [
        "**Train method notes**: \n",
        "\n",
        "- Each parameter in a model has a `grad` attribute which stores the gradient calculated by the `criterion`. PyTorch does not automatically remove (or \"zero\") the gradients calculated from the last gradient calculation, so they must be manually zeroed.\n",
        "\n",
        "- You do not need to do `model.forward(batch.text)`, simply calling the model works.\n",
        "\n",
        "- When initializing the `LABEL` field, we set `dtype=torch.float`. This is because TorchText sets tensors to be `LongTensor`s by default, however our criterion expects both inputs to be `FloatTensor`s. \n",
        "The alternative method of doing this would be to do the conversion inside the `train` function by passing `batch.label.float()` instad of `batch.label` to the criterion. "
      ]
    },
    {
      "cell_type": "code",
      "execution_count": 31,
      "metadata": {
        "id": "waDIWXWay3vH"
      },
      "outputs": [],
      "source": [
        "def evaluate(model, iterator, criterion): #similar to train, without the the update of the parameters\n",
        "  \n",
        "  epoch_loss = 0\n",
        "  epoch_acc = 0\n",
        "  epoch_recall = 0\n",
        "  epoch_precision = 0\n",
        "  epoch_f2 = 0\n",
        "  epoch_f3 = 0\n",
        "  \n",
        "  model.eval() #puts the model in \"evaluation mode\", which turns off dropout and batch normalization\n",
        "  \n",
        "  with torch.no_grad(): #in order to not calculate gradients\n",
        "\n",
        "    for batch in iterator:\n",
        "\n",
        "      #separate batch.text\n",
        "      text, text_lengths = batch.text\n",
        "\n",
        "      predictions = model(text, text_lengths).squeeze(1)\n",
        "      \n",
        "      loss = criterion(predictions, batch.label)\n",
        "      \n",
        "      acc, recall, precision, f2, f3 = binary_metrics(predictions.cpu(), batch.label.cpu())\n",
        "      \n",
        "      epoch_loss += loss.item()\n",
        "      epoch_acc += acc.item()\n",
        "      epoch_recall += recall.item()\n",
        "      epoch_precision += precision.item()\n",
        "      epoch_f2 += f2.item()\n",
        "      epoch_f3 += f3.item()\n",
        "      \n",
        "  return epoch_loss / len(iterator), epoch_acc / len(iterator), epoch_recall / len(iterator), epoch_precision / len(iterator), epoch_f2 / len(iterator), epoch_f3 / len(iterator)"
      ]
    },
    {
      "cell_type": "markdown",
      "metadata": {
        "id": "cktTGJzgSglK"
      },
      "source": [
        "No gradients are calculated on PyTorch operations inside the `with no_grad()` block. This causes less memory to be used and speeds up computation.\n",
        "\n",
        "The rest of the function is the same as `train`, with the removal of `optimizer.zero_grad()`, `loss.backward()` and `optimizer.step()`, as we do not update the model's parameters when evaluating."
      ]
    },
    {
      "cell_type": "code",
      "execution_count": 32,
      "metadata": {
        "id": "w8g23ObuSglK"
      },
      "outputs": [],
      "source": [
        "import time\n",
        "\n",
        "def epoch_time(start_time, end_time):\n",
        "  \"\"\"\n",
        "  Returns how long an epoch takes, in order to compare training times between models\n",
        "  \"\"\"\n",
        "  elapsed_time = end_time - start_time\n",
        "  elapsed_mins = int(elapsed_time / 60)\n",
        "  elapsed_secs = int(elapsed_time - (elapsed_mins * 60))\n",
        "  return elapsed_mins, elapsed_secs"
      ]
    },
    {
      "cell_type": "markdown",
      "metadata": {
        "id": "ewPdSicySglK"
      },
      "source": [
        "We then train the model through multiple epochs, an epoch being a complete pass through all examples in the training and validation sets.\n",
        "\n",
        "At each epoch, if the validation loss is the best we have seen so far, we'll save the parameters of the model and then after training has finished we'll use that model on the test set."
      ]
    },
    {
      "cell_type": "code",
      "execution_count": 33,
      "metadata": {
        "colab": {
          "base_uri": "https://localhost:8080/"
        },
        "id": "84EKqVeCSglK",
        "outputId": "6be7fd6a-d354-48a3-b029-c8f4d86473c3"
      },
      "outputs": [
        {
          "output_type": "stream",
          "name": "stdout",
          "text": [
            "Epoch: 01 | Epoch Time: 0m 13s\n",
            "\tTrain Loss: 0.010 | Train Acc: 35.70% | Train Recall: 36.00% | Train Precision: 34.63% | Train F2: 26.37% | Train F3: 28.38%\n",
            "\t Val. Loss: 0.010 |  Val. Acc: 87.56% | Val. Recall: 75.00% | Val. Precision: 8.83% | Val. F2: 29.88% | Val. F3: 42.65%\n",
            "Epoch: 02 | Epoch Time: 0m 13s\n",
            "\tTrain Loss: 0.008 | Train Acc: 82.95% | Train Recall: 76.26% | Train Precision: 65.97% | Train F2: 69.65% | Train F3: 71.79%\n",
            "\t Val. Loss: 0.007 |  Val. Acc: 76.79% | Val. Recall: 100.00% | Val. Precision: 6.45% | Val. F2: 25.64% | Val. F3: 40.82%\n",
            "Epoch: 03 | Epoch Time: 0m 14s\n",
            "\tTrain Loss: 0.005 | Train Acc: 88.84% | Train Recall: 76.43% | Train Precision: 72.41% | Train F2: 73.11% | Train F3: 74.46%\n",
            "\t Val. Loss: 0.008 |  Val. Acc: 87.17% | Val. Recall: 75.00% | Val. Precision: 8.60% | Val. F2: 29.39% | Val. F3: 42.18%\n",
            "Epoch: 04 | Epoch Time: 0m 14s\n",
            "\tTrain Loss: 0.005 | Train Acc: 87.40% | Train Recall: 68.49% | Train Precision: 65.89% | Train F2: 64.81% | Train F3: 65.69%\n",
            "\t Val. Loss: 0.004 |  Val. Acc: 89.52% | Val. Recall: 50.00% | Val. Precision: 8.50% | Val. F2: 24.71% | Val. F3: 32.80%\n",
            "Epoch: 05 | Epoch Time: 0m 14s\n",
            "\tTrain Loss: 0.004 | Train Acc: 89.46% | Train Recall: 75.64% | Train Precision: 74.28% | Train F2: 73.66% | Train F3: 74.49%\n",
            "\t Val. Loss: 0.007 |  Val. Acc: 87.53% | Val. Recall: 100.00% | Val. Precision: 11.90% | Val. F2: 39.97% | Val. F3: 56.89%\n",
            "Epoch: 06 | Epoch Time: 0m 14s\n",
            "\tTrain Loss: 0.004 | Train Acc: 92.00% | Train Recall: 77.48% | Train Precision: 73.65% | Train F2: 75.76% | Train F3: 76.53%\n",
            "\t Val. Loss: 0.007 |  Val. Acc: 82.37% | Val. Recall: 100.00% | Val. Precision: 8.35% | Val. F2: 31.28% | Val. F3: 47.65%\n",
            "Epoch: 07 | Epoch Time: 0m 14s\n",
            "\tTrain Loss: 0.005 | Train Acc: 86.58% | Train Recall: 70.44% | Train Precision: 70.88% | Train F2: 65.30% | Train F3: 66.29%\n",
            "\t Val. Loss: 0.002 |  Val. Acc: 95.20% | Val. Recall: 75.00% | Val. Precision: 20.83% | Val. F2: 49.11% | Val. F3: 59.29%\n",
            "Epoch: 08 | Epoch Time: 0m 14s\n",
            "\tTrain Loss: 0.003 | Train Acc: 93.48% | Train Recall: 80.51% | Train Precision: 76.09% | Train F2: 77.50% | Train F3: 78.53%\n",
            "\t Val. Loss: 0.005 |  Val. Acc: 94.81% | Val. Recall: 25.00% | Val. Precision: 8.33% | Val. F2: 17.86% | Val. F3: 20.83%\n",
            "Epoch: 09 | Epoch Time: 0m 14s\n",
            "\tTrain Loss: 0.004 | Train Acc: 90.16% | Train Recall: 76.29% | Train Precision: 76.84% | Train F2: 73.94% | Train F3: 74.77%\n",
            "\t Val. Loss: 0.005 |  Val. Acc: 91.60% | Val. Recall: 75.00% | Val. Precision: 12.88% | Val. F2: 38.16% | Val. F3: 50.57%\n",
            "Epoch: 10 | Epoch Time: 0m 14s\n",
            "\tTrain Loss: 0.003 | Train Acc: 93.09% | Train Recall: 79.87% | Train Precision: 77.51% | Train F2: 78.23% | Train F3: 78.92%\n",
            "\t Val. Loss: 0.008 |  Val. Acc: 87.99% | Val. Recall: 100.00% | Val. Precision: 11.76% | Val. F2: 40.00% | Val. F3: 57.14%\n",
            "Epoch: 11 | Epoch Time: 0m 14s\n",
            "\tTrain Loss: 0.003 | Train Acc: 93.98% | Train Recall: 81.28% | Train Precision: 76.62% | Train F2: 78.68% | Train F3: 79.70%\n",
            "\t Val. Loss: 0.004 |  Val. Acc: 91.60% | Val. Recall: 100.00% | Val. Precision: 16.03% | Val. F2: 48.81% | Val. F3: 65.59%\n",
            "Epoch: 12 | Epoch Time: 0m 14s\n",
            "\tTrain Loss: 0.003 | Train Acc: 95.04% | Train Recall: 81.45% | Train Precision: 76.96% | Train F2: 78.90% | Train F3: 79.90%\n",
            "\t Val. Loss: 0.002 |  Val. Acc: 94.01% | Val. Recall: 50.00% | Val. Precision: 13.39% | Val. F2: 32.29% | Val. F3: 39.23%\n",
            "Epoch: 13 | Epoch Time: 0m 14s\n",
            "\tTrain Loss: 0.002 | Train Acc: 96.02% | Train Recall: 81.94% | Train Precision: 78.22% | Train F2: 78.98% | Train F3: 79.94%\n",
            "\t Val. Loss: 0.004 |  Val. Acc: 92.00% | Val. Recall: 50.00% | Val. Precision: 10.00% | Val. F2: 27.78% | Val. F3: 35.71%\n",
            "Epoch: 14 | Epoch Time: 0m 14s\n",
            "\tTrain Loss: 0.002 | Train Acc: 96.13% | Train Recall: 82.09% | Train Precision: 78.84% | Train F2: 79.47% | Train F3: 80.35%\n",
            "\t Val. Loss: 0.002 |  Val. Acc: 96.41% | Val. Recall: 50.00% | Val. Precision: 22.50% | Val. F2: 40.06% | Val. F3: 44.47%\n",
            "Epoch: 15 | Epoch Time: 0m 14s\n",
            "\tTrain Loss: 0.001 | Train Acc: 96.29% | Train Recall: 80.83% | Train Precision: 79.99% | Train F2: 80.05% | Train F3: 80.39%\n",
            "\t Val. Loss: 0.003 |  Val. Acc: 91.19% | Val. Recall: 50.00% | Val. Precision: 9.09% | Val. F2: 26.32% | Val. F3: 34.48%\n",
            "Epoch: 16 | Epoch Time: 0m 14s\n",
            "\tTrain Loss: 0.001 | Train Acc: 98.32% | Train Recall: 84.34% | Train Precision: 79.88% | Train F2: 82.66% | Train F3: 83.38%\n",
            "\t Val. Loss: 0.002 |  Val. Acc: 94.83% | Val. Recall: 25.00% | Val. Precision: 10.00% | Val. F2: 19.23% | Val. F3: 21.74%\n",
            "Epoch: 17 | Epoch Time: 0m 14s\n",
            "\tTrain Loss: 0.001 | Train Acc: 99.02% | Train Recall: 84.82% | Train Precision: 80.35% | Train F2: 83.16% | Train F3: 83.87%\n",
            "\t Val. Loss: 0.002 |  Val. Acc: 96.82% | Val. Recall: 25.00% | Val. Precision: 16.67% | Val. F2: 22.73% | Val. F3: 23.81%\n",
            "Epoch: 18 | Epoch Time: 0m 14s\n",
            "\tTrain Loss: 0.001 | Train Acc: 98.75% | Train Recall: 84.63% | Train Precision: 80.12% | Train F2: 82.77% | Train F3: 83.53%\n",
            "\t Val. Loss: 0.002 |  Val. Acc: 96.41% | Val. Recall: 50.00% | Val. Precision: 22.50% | Val. F2: 40.06% | Val. F3: 44.47%\n",
            "Epoch: 19 | Epoch Time: 0m 14s\n",
            "\tTrain Loss: 0.000 | Train Acc: 99.30% | Train Recall: 84.76% | Train Precision: 83.95% | Train F2: 84.59% | Train F3: 84.67%\n",
            "\t Val. Loss: 0.003 |  Val. Acc: 94.42% | Val. Recall: 25.00% | Val. Precision: 8.33% | Val. F2: 17.86% | Val. F3: 20.83%\n",
            "Epoch: 20 | Epoch Time: 0m 14s\n",
            "\tTrain Loss: 0.000 | Train Acc: 99.30% | Train Recall: 84.92% | Train Precision: 81.14% | Train F2: 83.60% | Train F3: 84.19%\n",
            "\t Val. Loss: 0.002 |  Val. Acc: 95.63% | Val. Recall: 25.00% | Val. Precision: 12.50% | Val. F2: 20.83% | Val. F3: 22.73%\n",
            "Epoch: 21 | Epoch Time: 0m 14s\n",
            "\tTrain Loss: 0.000 | Train Acc: 99.38% | Train Recall: 84.84% | Train Precision: 82.55% | Train F2: 84.26% | Train F3: 84.54%\n",
            "\t Val. Loss: 0.002 |  Val. Acc: 96.41% | Val. Recall: 50.00% | Val. Precision: 22.50% | Val. F2: 40.06% | Val. F3: 44.47%\n",
            "Epoch: 22 | Epoch Time: 0m 14s\n",
            "\tTrain Loss: 0.000 | Train Acc: 99.30% | Train Recall: 84.72% | Train Precision: 84.18% | Train F2: 84.61% | Train F3: 84.66%\n",
            "\t Val. Loss: 0.004 |  Val. Acc: 93.60% | Val. Recall: 50.00% | Val. Precision: 12.50% | Val. F2: 31.25% | Val. F3: 38.46%\n",
            "Epoch: 23 | Epoch Time: 0m 14s\n",
            "\tTrain Loss: 0.001 | Train Acc: 98.91% | Train Recall: 81.38% | Train Precision: 80.98% | Train F2: 80.26% | Train F3: 80.74%\n",
            "\t Val. Loss: 0.003 |  Val. Acc: 95.61% | Val. Recall: 25.00% | Val. Precision: 10.00% | Val. F2: 19.23% | Val. F3: 21.74%\n",
            "Epoch: 24 | Epoch Time: 0m 14s\n",
            "\tTrain Loss: 0.001 | Train Acc: 98.98% | Train Recall: 84.89% | Train Precision: 82.03% | Train F2: 84.19% | Train F3: 84.53%\n",
            "\t Val. Loss: 0.002 |  Val. Acc: 96.39% | Val. Recall: 0.00% | Val. Precision: 0.00% | Val. F2: 0.00% | Val. F3: 0.00%\n",
            "Epoch: 25 | Epoch Time: 0m 14s\n",
            "\tTrain Loss: 0.001 | Train Acc: 97.97% | Train Recall: 82.80% | Train Precision: 80.53% | Train F2: 81.67% | Train F3: 82.15%\n",
            "\t Val. Loss: 0.004 |  Val. Acc: 94.81% | Val. Recall: 50.00% | Val. Precision: 15.48% | Val. F2: 34.52% | Val. F3: 40.83%\n",
            "Epoch: 26 | Epoch Time: 0m 14s\n",
            "\tTrain Loss: 0.001 | Train Acc: 98.87% | Train Recall: 84.86% | Train Precision: 80.10% | Train F2: 83.33% | Train F3: 84.02%\n",
            "\t Val. Loss: 0.003 |  Val. Acc: 95.59% | Val. Recall: 0.00% | Val. Precision: 0.00% | Val. F2: 0.00% | Val. F3: 0.00%\n",
            "Epoch: 27 | Epoch Time: 0m 14s\n",
            "\tTrain Loss: 0.000 | Train Acc: 99.65% | Train Recall: 84.85% | Train Precision: 84.62% | Train F2: 84.80% | Train F3: 84.83%\n",
            "\t Val. Loss: 0.004 |  Val. Acc: 94.81% | Val. Recall: 25.00% | Val. Precision: 8.33% | Val. F2: 17.86% | Val. F3: 20.83%\n",
            "Epoch: 28 | Epoch Time: 0m 14s\n",
            "\tTrain Loss: 0.000 | Train Acc: 99.18% | Train Recall: 84.68% | Train Precision: 83.95% | Train F2: 84.52% | Train F3: 84.60%\n",
            "\t Val. Loss: 0.003 |  Val. Acc: 96.41% | Val. Recall: 25.00% | Val. Precision: 12.50% | Val. F2: 20.83% | Val. F3: 22.73%\n",
            "Epoch: 29 | Epoch Time: 0m 14s\n",
            "\tTrain Loss: 0.000 | Train Acc: 99.69% | Train Recall: 85.00% | Train Precision: 84.52% | Train F2: 84.90% | Train F3: 84.95%\n",
            "\t Val. Loss: 0.002 |  Val. Acc: 96.00% | Val. Recall: 0.00% | Val. Precision: 0.00% | Val. F2: 0.00% | Val. F3: 0.00%\n",
            "Epoch: 30 | Epoch Time: 0m 14s\n",
            "\tTrain Loss: 0.000 | Train Acc: 99.77% | Train Recall: 85.00% | Train Precision: 84.60% | Train F2: 84.92% | Train F3: 84.96%\n",
            "\t Val. Loss: 0.002 |  Val. Acc: 96.00% | Val. Recall: 0.00% | Val. Precision: 0.00% | Val. F2: 0.00% | Val. F3: 0.00%\n",
            "Epoch: 31 | Epoch Time: 0m 14s\n",
            "\tTrain Loss: 0.000 | Train Acc: 99.88% | Train Recall: 85.00% | Train Precision: 84.87% | Train F2: 84.97% | Train F3: 84.99%\n",
            "\t Val. Loss: 0.002 |  Val. Acc: 97.23% | Val. Recall: 25.00% | Val. Precision: 25.00% | Val. F2: 25.00% | Val. F3: 25.00%\n",
            "Epoch: 32 | Epoch Time: 0m 14s\n",
            "\tTrain Loss: 0.000 | Train Acc: 99.88% | Train Recall: 84.95% | Train Precision: 84.94% | Train F2: 84.95% | Train F3: 84.95%\n",
            "\t Val. Loss: 0.003 |  Val. Acc: 95.20% | Val. Recall: 25.00% | Val. Precision: 8.33% | Val. F2: 17.86% | Val. F3: 20.83%\n",
            "Epoch: 33 | Epoch Time: 0m 14s\n",
            "\tTrain Loss: 0.000 | Train Acc: 99.65% | Train Recall: 85.00% | Train Precision: 84.42% | Train F2: 84.88% | Train F3: 84.94%\n",
            "\t Val. Loss: 0.002 |  Val. Acc: 96.80% | Val. Recall: 0.00% | Val. Precision: 0.00% | Val. F2: 0.00% | Val. F3: 0.00%\n",
            "Epoch: 34 | Epoch Time: 0m 14s\n",
            "\tTrain Loss: 0.000 | Train Acc: 99.84% | Train Recall: 84.91% | Train Precision: 84.94% | Train F2: 84.91% | Train F3: 84.91%\n",
            "\t Val. Loss: 0.003 |  Val. Acc: 96.00% | Val. Recall: 0.00% | Val. Precision: 0.00% | Val. F2: 0.00% | Val. F3: 0.00%\n",
            "Epoch: 35 | Epoch Time: 0m 14s\n",
            "\tTrain Loss: 0.000 | Train Acc: 99.80% | Train Recall: 85.00% | Train Precision: 83.15% | Train F2: 84.51% | Train F3: 84.74%\n",
            "\t Val. Loss: 0.002 |  Val. Acc: 97.21% | Val. Recall: 0.00% | Val. Precision: 0.00% | Val. F2: 0.00% | Val. F3: 0.00%\n",
            "Epoch: 36 | Epoch Time: 0m 14s\n",
            "\tTrain Loss: 0.000 | Train Acc: 99.96% | Train Recall: 85.00% | Train Precision: 85.00% | Train F2: 85.00% | Train F3: 85.00%\n",
            "\t Val. Loss: 0.003 |  Val. Acc: 96.82% | Val. Recall: 25.00% | Val. Precision: 16.67% | Val. F2: 22.73% | Val. F3: 23.81%\n",
            "Epoch: 37 | Epoch Time: 0m 14s\n",
            "\tTrain Loss: 0.000 | Train Acc: 99.77% | Train Recall: 84.95% | Train Precision: 84.68% | Train F2: 84.90% | Train F3: 84.93%\n",
            "\t Val. Loss: 0.002 |  Val. Acc: 97.62% | Val. Recall: 0.00% | Val. Precision: 0.00% | Val. F2: 0.00% | Val. F3: 0.00%\n",
            "Epoch: 38 | Epoch Time: 0m 14s\n",
            "\tTrain Loss: 0.000 | Train Acc: 99.92% | Train Recall: 84.94% | Train Precision: 85.00% | Train F2: 84.95% | Train F3: 84.94%\n",
            "\t Val. Loss: 0.003 |  Val. Acc: 97.21% | Val. Recall: 25.00% | Val. Precision: 16.67% | Val. F2: 22.73% | Val. F3: 23.81%\n",
            "Epoch: 39 | Epoch Time: 0m 14s\n",
            "\tTrain Loss: 0.000 | Train Acc: 99.96% | Train Recall: 85.00% | Train Precision: 85.00% | Train F2: 85.00% | Train F3: 85.00%\n",
            "\t Val. Loss: 0.003 |  Val. Acc: 96.82% | Val. Recall: 25.00% | Val. Precision: 16.67% | Val. F2: 22.73% | Val. F3: 23.81%\n",
            "Epoch: 40 | Epoch Time: 0m 14s\n",
            "\tTrain Loss: 0.000 | Train Acc: 99.96% | Train Recall: 85.00% | Train Precision: 84.94% | Train F2: 84.99% | Train F3: 84.99%\n",
            "\t Val. Loss: 0.003 |  Val. Acc: 96.82% | Val. Recall: 25.00% | Val. Precision: 16.67% | Val. F2: 22.73% | Val. F3: 23.81%\n",
            "Epoch: 41 | Epoch Time: 0m 14s\n",
            "\tTrain Loss: 0.000 | Train Acc: 100.00% | Train Recall: 85.00% | Train Precision: 85.00% | Train F2: 85.00% | Train F3: 85.00%\n",
            "\t Val. Loss: 0.002 |  Val. Acc: 97.21% | Val. Recall: 0.00% | Val. Precision: 0.00% | Val. F2: 0.00% | Val. F3: 0.00%\n",
            "Epoch: 42 | Epoch Time: 0m 14s\n",
            "\tTrain Loss: 0.000 | Train Acc: 99.96% | Train Recall: 85.00% | Train Precision: 84.85% | Train F2: 84.97% | Train F3: 84.98%\n",
            "\t Val. Loss: 0.003 |  Val. Acc: 97.21% | Val. Recall: 25.00% | Val. Precision: 16.67% | Val. F2: 22.73% | Val. F3: 23.81%\n",
            "Epoch: 43 | Epoch Time: 0m 14s\n",
            "\tTrain Loss: 0.000 | Train Acc: 99.96% | Train Recall: 85.00% | Train Precision: 85.00% | Train F2: 85.00% | Train F3: 85.00%\n",
            "\t Val. Loss: 0.003 |  Val. Acc: 97.62% | Val. Recall: 25.00% | Val. Precision: 25.00% | Val. F2: 25.00% | Val. F3: 25.00%\n",
            "Epoch: 44 | Epoch Time: 0m 14s\n",
            "\tTrain Loss: 0.000 | Train Acc: 99.96% | Train Recall: 85.00% | Train Precision: 84.96% | Train F2: 84.99% | Train F3: 85.00%\n",
            "\t Val. Loss: 0.003 |  Val. Acc: 97.21% | Val. Recall: 0.00% | Val. Precision: 0.00% | Val. F2: 0.00% | Val. F3: 0.00%\n",
            "Epoch: 45 | Epoch Time: 0m 14s\n",
            "\tTrain Loss: 0.000 | Train Acc: 100.00% | Train Recall: 85.00% | Train Precision: 85.00% | Train F2: 85.00% | Train F3: 85.00%\n",
            "\t Val. Loss: 0.003 |  Val. Acc: 97.21% | Val. Recall: 0.00% | Val. Precision: 0.00% | Val. F2: 0.00% | Val. F3: 0.00%\n",
            "Epoch: 46 | Epoch Time: 0m 14s\n",
            "\tTrain Loss: 0.000 | Train Acc: 99.96% | Train Recall: 84.92% | Train Precision: 85.00% | Train F2: 84.93% | Train F3: 84.92%\n",
            "\t Val. Loss: 0.003 |  Val. Acc: 97.21% | Val. Recall: 25.00% | Val. Precision: 16.67% | Val. F2: 22.73% | Val. F3: 23.81%\n",
            "Epoch: 47 | Epoch Time: 0m 14s\n",
            "\tTrain Loss: 0.000 | Train Acc: 100.00% | Train Recall: 85.00% | Train Precision: 85.00% | Train F2: 85.00% | Train F3: 85.00%\n",
            "\t Val. Loss: 0.003 |  Val. Acc: 97.62% | Val. Recall: 25.00% | Val. Precision: 25.00% | Val. F2: 25.00% | Val. F3: 25.00%\n",
            "Epoch: 48 | Epoch Time: 0m 14s\n",
            "\tTrain Loss: 0.000 | Train Acc: 100.00% | Train Recall: 85.00% | Train Precision: 85.00% | Train F2: 85.00% | Train F3: 85.00%\n",
            "\t Val. Loss: 0.003 |  Val. Acc: 97.62% | Val. Recall: 25.00% | Val. Precision: 25.00% | Val. F2: 25.00% | Val. F3: 25.00%\n",
            "Epoch: 49 | Epoch Time: 0m 14s\n",
            "\tTrain Loss: 0.000 | Train Acc: 100.00% | Train Recall: 85.00% | Train Precision: 85.00% | Train F2: 85.00% | Train F3: 85.00%\n",
            "\t Val. Loss: 0.003 |  Val. Acc: 97.62% | Val. Recall: 25.00% | Val. Precision: 25.00% | Val. F2: 25.00% | Val. F3: 25.00%\n",
            "Epoch: 50 | Epoch Time: 0m 14s\n",
            "\tTrain Loss: 0.000 | Train Acc: 99.96% | Train Recall: 85.00% | Train Precision: 84.94% | Train F2: 84.99% | Train F3: 84.99%\n",
            "\t Val. Loss: 0.003 |  Val. Acc: 97.62% | Val. Recall: 0.00% | Val. Precision: 0.00% | Val. F2: 0.00% | Val. F3: 0.00%\n"
          ]
        }
      ],
      "source": [
        "#train the model through multiple epochs\n",
        "#EPOCH: complete pass through all examples in the training and validation sets\n",
        "\n",
        "N_EPOCHS = 50\n",
        "\n",
        "best_valid_loss = float('inf')\n",
        "\n",
        "for epoch in range(N_EPOCHS):\n",
        "\n",
        "    start_time = time.time()\n",
        "    \n",
        "    train_loss, train_acc, train_recall, train_precision, train_f2, train_f3= train(model, train_iterator, optimizer, criterion)\n",
        "    valid_loss, valid_acc, valid_recall, valid_precision, valid_f2, valid_f3 = evaluate(model, valid_iterator, criterion)\n",
        "    \n",
        "    end_time = time.time()\n",
        "\n",
        "    epoch_mins, epoch_secs = epoch_time(start_time, end_time)\n",
        "    \n",
        "    #at each epoch, if the validation loss is the best seen so far,\n",
        "    #we'll save the parameters of the model and then, after training has finished,\n",
        "    #we'll use that model on the test set\n",
        "    if valid_loss < best_valid_loss:\n",
        "        best_valid_loss = valid_loss\n",
        "        torch.save(model.state_dict(), 'tut2-model.pt')\n",
        "    \n",
        "    print(f'Epoch: {epoch+1:02} | Epoch Time: {epoch_mins}m {epoch_secs}s')\n",
        "    print(f'\\tTrain Loss: {train_loss:.3f} | Train Acc: {train_acc*100:.2f}% | Train Recall: {train_recall*100:.2f}% | Train Precision: {train_precision*100:.2f}% | Train F2: {train_f2*100:.2f}% | Train F3: {train_f3*100:.2f}%')\n",
        "    print(f'\\t Val. Loss: {valid_loss:.3f} |  Val. Acc: {valid_acc*100:.2f}% | Val. Recall: {valid_recall*100:.2f}% | Val. Precision: {valid_precision*100:.2f}% | Val. F2: {valid_f2*100:.2f}% | Val. F3: {valid_f3*100:.2f}%')"
      ]
    },
    {
      "cell_type": "code",
      "execution_count": 34,
      "metadata": {
        "id": "r-JFRDmdSglL",
        "colab": {
          "base_uri": "https://localhost:8080/"
        },
        "outputId": "2df43da8-a4a3-4b5c-dc72-68f3316cd96f"
      },
      "outputs": [
        {
          "output_type": "stream",
          "name": "stdout",
          "text": [
            "Test Loss: 0.002 | Test Acc: 96.80% | Test Recall: 21.67% | Test Precision: 17.11% | Test F2: 20.47% | Test F3: 21.04%\n"
          ]
        }
      ],
      "source": [
        "#test loss and accuracy (using parameters that gave the best validation loss)\n",
        "\n",
        "model.load_state_dict(torch.load('tut2-model.pt'))\n",
        "\n",
        "test_loss, test_acc, test_recall, test_precision, test_f2, test_f3 = evaluate(model, test_iterator, criterion)\n",
        "\n",
        "print(f'Test Loss: {test_loss:.3f} | Test Acc: {test_acc*100:.2f}% | Test Recall: {test_recall*100:.2f}% | Test Precision: {test_precision*100:.2f}% | Test F2: {test_f2*100:.2f}% | Test F3: {test_f3*100:.2f}%')"
      ]
    }
  ],
  "metadata": {
    "colab": {
      "collapsed_sections": [],
      "name": "Neural_Network_approach.ipynb",
      "provenance": []
    },
    "kernelspec": {
      "display_name": "Python 3",
      "name": "python3"
    },
    "language_info": {
      "name": "python"
    },
    "accelerator": "GPU"
  },
  "nbformat": 4,
  "nbformat_minor": 0
}
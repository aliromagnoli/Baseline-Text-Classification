{
  "nbformat": 4,
  "nbformat_minor": 0,
  "metadata": {
    "colab": {
      "name": "Neural Network approach.ipynb",
      "provenance": []
    },
    "kernelspec": {
      "name": "python3",
      "display_name": "Python 3"
    },
    "language_info": {
      "name": "python"
    }
  },
  "cells": [
    {
      "cell_type": "markdown",
      "source": [
        "# Neural Network approach"
      ],
      "metadata": {
        "id": "Xwjksczimz_t"
      }
    },
    {
      "cell_type": "code",
      "source": [
        "!python --version"
      ],
      "metadata": {
        "colab": {
          "base_uri": "https://localhost:8080/"
        },
        "id": "hTpcVfFrjALT",
        "outputId": "bbff2a5d-cd98-4f8f-d7da-448f2833268d"
      },
      "execution_count": 1,
      "outputs": [
        {
          "output_type": "stream",
          "name": "stdout",
          "text": [
            "Python 3.7.13\n"
          ]
        }
      ]
    },
    {
      "cell_type": "markdown",
      "source": [
        "## Libraries and methods"
      ],
      "metadata": {
        "id": "w-fZZvNcm5IT"
      }
    },
    {
      "cell_type": "code",
      "source": [
        "#libraries\n",
        "from google.colab import drive\n",
        "import pandas as pd\n",
        "from sklearn.model_selection import train_test_split\n",
        "#plots\n",
        "import matplotlib.pyplot as plt\n",
        "import seaborn as sns\n",
        "#model construction and training\n",
        "import torch\n",
        "import torchtext\n",
        "from torchtext.legacy.data import Field, TabularDataset, BucketIterator\n",
        "import torch.nn as nn\n",
        "from torch.nn.utils.rnn import pack_padded_sequence, pad_packed_sequence\n",
        "import torch.optim as optim\n",
        "#cross validation\n",
        "from sklearn.model_selection import KFold\n",
        "from sklearn.model_selection import StratifiedKFold\n",
        "#evaluation\n",
        "from sklearn.metrics import accuracy_score, classification_report, confusion_matrix"
      ],
      "metadata": {
        "id": "v5xwHXjBnDi2"
      },
      "execution_count": 2,
      "outputs": []
    },
    {
      "cell_type": "code",
      "source": [
        "#hyperparameters\n",
        "first_n_words = 3 #or 150\n",
        "clean_text = True #otherwise, it will be used \"text\"\n",
        "\n",
        "#configuration options\n",
        "k_folds = 5\n",
        "num_epochs = 1\n",
        "loss_function = nn.CrossEntropyLoss()"
      ],
      "metadata": {
        "id": "-9NDX6lton5O"
      },
      "execution_count": 3,
      "outputs": []
    },
    {
      "cell_type": "code",
      "source": [
        "#method that return the first n words of a string\n",
        "def trim_string(x):\n",
        "    x = x.split(maxsplit=first_n_words)\n",
        "    x = ' '.join(x[:first_n_words])\n",
        "    return x"
      ],
      "metadata": {
        "id": "ASgYDdwBqY25"
      },
      "execution_count": 4,
      "outputs": []
    },
    {
      "cell_type": "markdown",
      "source": [
        "## Import the data"
      ],
      "metadata": {
        "id": "tOUB0MPQnFoJ"
      }
    },
    {
      "cell_type": "code",
      "execution_count": 5,
      "metadata": {
        "colab": {
          "base_uri": "https://localhost:8080/"
        },
        "id": "0KElhBiVmaaa",
        "outputId": "507be5cc-87ae-45bc-d674-d788224c38df"
      },
      "outputs": [
        {
          "output_type": "stream",
          "name": "stdout",
          "text": [
            "Drive already mounted at /content/gdrive; to attempt to forcibly remount, call drive.mount(\"/content/gdrive\", force_remount=True).\n"
          ]
        }
      ],
      "source": [
        "#import of the processed dataset and the columns' names\n",
        "from_drive = True\n",
        "dataset = dict()\n",
        "path = \"/content/gdrive/MyDrive/Magistrale/Stage/data\"\n",
        "\n",
        "if from_drive == True: \n",
        "  drive.mount(\"/content/gdrive\")\n",
        "  dataset[\"ace\"] = pd.read_csv(path + \"/preprocessed_ace2.csv\")\n",
        "  dataset[\"copd\"] = pd.read_csv(path + \"/preprocessed_copd2.csv\")\n",
        "  dataset[\"ppi\"] = pd.read_csv(path + \"/preprocessed_ppi2.csv\")\n",
        "else: \n",
        "  dataset[\"ace\"] = pd.read_csv(path + \"/content/preprocessed_ace2.csv\")\n",
        "  dataset[\"copd\"] = pd.read_csv(path + \"/content/preprocessed_copd2.csv\")\n",
        "  dataset[\"ppi\"] = pd.read_csv(path + \"/content/preprocessed_ppi2.csv\")"
      ]
    },
    {
      "cell_type": "code",
      "source": [
        "i = \"copd\"\n",
        "dataset[i].columns"
      ],
      "metadata": {
        "colab": {
          "base_uri": "https://localhost:8080/"
        },
        "id": "vEaMZAYIMEYs",
        "outputId": "2a649c56-44a5-40f4-e290-b97a00cf13eb"
      },
      "execution_count": 6,
      "outputs": [
        {
          "output_type": "execute_result",
          "data": {
            "text/plain": [
              "Index(['Unnamed: 0', 'Label', 'n_words_in_Abstract', 'text', 'text_clean',\n",
              "       'n_words_in_text_clean', 'contains_topic', 'contains_other_topic'],\n",
              "      dtype='object')"
            ]
          },
          "metadata": {},
          "execution_count": 6
        }
      ]
    },
    {
      "cell_type": "code",
      "source": [
        "if clean_text == True: \n",
        "  text_col = \"text_clean\"\n",
        "else: \n",
        "  text_col = \"text\"\n",
        "\n",
        "dataset[i].drop(dataset[i].columns.difference(['Label', text_col]), 1, inplace=True)\n",
        "\n",
        "#trim text_col to first_n_words\n",
        "dataset[i][text_col] = dataset[i][text_col].apply(trim_string)"
      ],
      "metadata": {
        "colab": {
          "base_uri": "https://localhost:8080/"
        },
        "id": "5J-7rOPxqDBa",
        "outputId": "a8f9c09e-f9bc-4ba4-8c42-777d73be8b51"
      },
      "execution_count": 7,
      "outputs": [
        {
          "output_type": "stream",
          "name": "stderr",
          "text": [
            "/usr/local/lib/python3.7/dist-packages/ipykernel_launcher.py:6: FutureWarning: In a future version of pandas all arguments of DataFrame.drop except for the argument 'labels' will be keyword-only\n",
            "  \n"
          ]
        }
      ]
    },
    {
      "cell_type": "code",
      "source": [
        "dataset[i].head()"
      ],
      "metadata": {
        "colab": {
          "base_uri": "https://localhost:8080/",
          "height": 206
        },
        "id": "ZYgYEQFCqu3P",
        "outputId": "ef363380-2d62-426a-9ef7-0e299c33830c"
      },
      "execution_count": 8,
      "outputs": [
        {
          "output_type": "execute_result",
          "data": {
            "text/plain": [
              "   Label               text_clean\n",
              "0      0         the soluble form\n",
              "1      1    interactive effect of\n",
              "2      0             trx ask1 jnk\n",
              "3      0  increased activation of\n",
              "4      0  cigarette smoke extract"
            ],
            "text/html": [
              "\n",
              "  <div id=\"df-e640ffa9-8350-4fed-abf5-d8a96c4baae6\">\n",
              "    <div class=\"colab-df-container\">\n",
              "      <div>\n",
              "<style scoped>\n",
              "    .dataframe tbody tr th:only-of-type {\n",
              "        vertical-align: middle;\n",
              "    }\n",
              "\n",
              "    .dataframe tbody tr th {\n",
              "        vertical-align: top;\n",
              "    }\n",
              "\n",
              "    .dataframe thead th {\n",
              "        text-align: right;\n",
              "    }\n",
              "</style>\n",
              "<table border=\"1\" class=\"dataframe\">\n",
              "  <thead>\n",
              "    <tr style=\"text-align: right;\">\n",
              "      <th></th>\n",
              "      <th>Label</th>\n",
              "      <th>text_clean</th>\n",
              "    </tr>\n",
              "  </thead>\n",
              "  <tbody>\n",
              "    <tr>\n",
              "      <th>0</th>\n",
              "      <td>0</td>\n",
              "      <td>the soluble form</td>\n",
              "    </tr>\n",
              "    <tr>\n",
              "      <th>1</th>\n",
              "      <td>1</td>\n",
              "      <td>interactive effect of</td>\n",
              "    </tr>\n",
              "    <tr>\n",
              "      <th>2</th>\n",
              "      <td>0</td>\n",
              "      <td>trx ask1 jnk</td>\n",
              "    </tr>\n",
              "    <tr>\n",
              "      <th>3</th>\n",
              "      <td>0</td>\n",
              "      <td>increased activation of</td>\n",
              "    </tr>\n",
              "    <tr>\n",
              "      <th>4</th>\n",
              "      <td>0</td>\n",
              "      <td>cigarette smoke extract</td>\n",
              "    </tr>\n",
              "  </tbody>\n",
              "</table>\n",
              "</div>\n",
              "      <button class=\"colab-df-convert\" onclick=\"convertToInteractive('df-e640ffa9-8350-4fed-abf5-d8a96c4baae6')\"\n",
              "              title=\"Convert this dataframe to an interactive table.\"\n",
              "              style=\"display:none;\">\n",
              "        \n",
              "  <svg xmlns=\"http://www.w3.org/2000/svg\" height=\"24px\"viewBox=\"0 0 24 24\"\n",
              "       width=\"24px\">\n",
              "    <path d=\"M0 0h24v24H0V0z\" fill=\"none\"/>\n",
              "    <path d=\"M18.56 5.44l.94 2.06.94-2.06 2.06-.94-2.06-.94-.94-2.06-.94 2.06-2.06.94zm-11 1L8.5 8.5l.94-2.06 2.06-.94-2.06-.94L8.5 2.5l-.94 2.06-2.06.94zm10 10l.94 2.06.94-2.06 2.06-.94-2.06-.94-.94-2.06-.94 2.06-2.06.94z\"/><path d=\"M17.41 7.96l-1.37-1.37c-.4-.4-.92-.59-1.43-.59-.52 0-1.04.2-1.43.59L10.3 9.45l-7.72 7.72c-.78.78-.78 2.05 0 2.83L4 21.41c.39.39.9.59 1.41.59.51 0 1.02-.2 1.41-.59l7.78-7.78 2.81-2.81c.8-.78.8-2.07 0-2.86zM5.41 20L4 18.59l7.72-7.72 1.47 1.35L5.41 20z\"/>\n",
              "  </svg>\n",
              "      </button>\n",
              "      \n",
              "  <style>\n",
              "    .colab-df-container {\n",
              "      display:flex;\n",
              "      flex-wrap:wrap;\n",
              "      gap: 12px;\n",
              "    }\n",
              "\n",
              "    .colab-df-convert {\n",
              "      background-color: #E8F0FE;\n",
              "      border: none;\n",
              "      border-radius: 50%;\n",
              "      cursor: pointer;\n",
              "      display: none;\n",
              "      fill: #1967D2;\n",
              "      height: 32px;\n",
              "      padding: 0 0 0 0;\n",
              "      width: 32px;\n",
              "    }\n",
              "\n",
              "    .colab-df-convert:hover {\n",
              "      background-color: #E2EBFA;\n",
              "      box-shadow: 0px 1px 2px rgba(60, 64, 67, 0.3), 0px 1px 3px 1px rgba(60, 64, 67, 0.15);\n",
              "      fill: #174EA6;\n",
              "    }\n",
              "\n",
              "    [theme=dark] .colab-df-convert {\n",
              "      background-color: #3B4455;\n",
              "      fill: #D2E3FC;\n",
              "    }\n",
              "\n",
              "    [theme=dark] .colab-df-convert:hover {\n",
              "      background-color: #434B5C;\n",
              "      box-shadow: 0px 1px 3px 1px rgba(0, 0, 0, 0.15);\n",
              "      filter: drop-shadow(0px 1px 2px rgba(0, 0, 0, 0.3));\n",
              "      fill: #FFFFFF;\n",
              "    }\n",
              "  </style>\n",
              "\n",
              "      <script>\n",
              "        const buttonEl =\n",
              "          document.querySelector('#df-e640ffa9-8350-4fed-abf5-d8a96c4baae6 button.colab-df-convert');\n",
              "        buttonEl.style.display =\n",
              "          google.colab.kernel.accessAllowed ? 'block' : 'none';\n",
              "\n",
              "        async function convertToInteractive(key) {\n",
              "          const element = document.querySelector('#df-e640ffa9-8350-4fed-abf5-d8a96c4baae6');\n",
              "          const dataTable =\n",
              "            await google.colab.kernel.invokeFunction('convertToInteractive',\n",
              "                                                     [key], {});\n",
              "          if (!dataTable) return;\n",
              "\n",
              "          const docLinkHtml = 'Like what you see? Visit the ' +\n",
              "            '<a target=\"_blank\" href=https://colab.research.google.com/notebooks/data_table.ipynb>data table notebook</a>'\n",
              "            + ' to learn more about interactive tables.';\n",
              "          element.innerHTML = '';\n",
              "          dataTable['output_type'] = 'display_data';\n",
              "          await google.colab.output.renderOutput(dataTable, element);\n",
              "          const docLink = document.createElement('div');\n",
              "          docLink.innerHTML = docLinkHtml;\n",
              "          element.appendChild(docLink);\n",
              "        }\n",
              "      </script>\n",
              "    </div>\n",
              "  </div>\n",
              "  "
            ]
          },
          "metadata": {},
          "execution_count": 8
        }
      ]
    },
    {
      "cell_type": "code",
      "source": [
        "import unicodedata\n",
        "import string\n",
        "\n",
        "all_letters = string.ascii_letters + \" .,;0123456789'\" #string of all the allowed characters\n",
        "n_letters = len(all_letters) #number of allowed characters\n",
        "\n",
        "#turn a Unicode string to plain ASCII\n",
        "def unicodeToAscii(s):\n",
        "  return ''.join(\n",
        "    c for c in unicodedata.normalize('NFD', s)\n",
        "    if unicodedata.category(c) != 'Mn'\n",
        "    and c in all_letters\n",
        "  )\n",
        "\n",
        "dataset[i][text_col] = dataset[i][text_col].apply(lambda x: unicodeToAscii(x))\n",
        "\n",
        "all_categories = [0, 1]\n",
        "n_categories = len(all_categories)"
      ],
      "metadata": {
        "id": "4K-ZGo6-hTi8"
      },
      "execution_count": 9,
      "outputs": []
    },
    {
      "cell_type": "code",
      "source": [
        "dataset[i].head()"
      ],
      "metadata": {
        "colab": {
          "base_uri": "https://localhost:8080/",
          "height": 206
        },
        "id": "lW-Y_dVaiVN9",
        "outputId": "5d61b6ca-e15a-4142-c6ae-cb27b63271f9"
      },
      "execution_count": 10,
      "outputs": [
        {
          "output_type": "execute_result",
          "data": {
            "text/plain": [
              "   Label               text_clean\n",
              "0      0         the soluble form\n",
              "1      1    interactive effect of\n",
              "2      0             trx ask1 jnk\n",
              "3      0  increased activation of\n",
              "4      0  cigarette smoke extract"
            ],
            "text/html": [
              "\n",
              "  <div id=\"df-94f27b93-2b42-4cfa-9646-4dc22c48d772\">\n",
              "    <div class=\"colab-df-container\">\n",
              "      <div>\n",
              "<style scoped>\n",
              "    .dataframe tbody tr th:only-of-type {\n",
              "        vertical-align: middle;\n",
              "    }\n",
              "\n",
              "    .dataframe tbody tr th {\n",
              "        vertical-align: top;\n",
              "    }\n",
              "\n",
              "    .dataframe thead th {\n",
              "        text-align: right;\n",
              "    }\n",
              "</style>\n",
              "<table border=\"1\" class=\"dataframe\">\n",
              "  <thead>\n",
              "    <tr style=\"text-align: right;\">\n",
              "      <th></th>\n",
              "      <th>Label</th>\n",
              "      <th>text_clean</th>\n",
              "    </tr>\n",
              "  </thead>\n",
              "  <tbody>\n",
              "    <tr>\n",
              "      <th>0</th>\n",
              "      <td>0</td>\n",
              "      <td>the soluble form</td>\n",
              "    </tr>\n",
              "    <tr>\n",
              "      <th>1</th>\n",
              "      <td>1</td>\n",
              "      <td>interactive effect of</td>\n",
              "    </tr>\n",
              "    <tr>\n",
              "      <th>2</th>\n",
              "      <td>0</td>\n",
              "      <td>trx ask1 jnk</td>\n",
              "    </tr>\n",
              "    <tr>\n",
              "      <th>3</th>\n",
              "      <td>0</td>\n",
              "      <td>increased activation of</td>\n",
              "    </tr>\n",
              "    <tr>\n",
              "      <th>4</th>\n",
              "      <td>0</td>\n",
              "      <td>cigarette smoke extract</td>\n",
              "    </tr>\n",
              "  </tbody>\n",
              "</table>\n",
              "</div>\n",
              "      <button class=\"colab-df-convert\" onclick=\"convertToInteractive('df-94f27b93-2b42-4cfa-9646-4dc22c48d772')\"\n",
              "              title=\"Convert this dataframe to an interactive table.\"\n",
              "              style=\"display:none;\">\n",
              "        \n",
              "  <svg xmlns=\"http://www.w3.org/2000/svg\" height=\"24px\"viewBox=\"0 0 24 24\"\n",
              "       width=\"24px\">\n",
              "    <path d=\"M0 0h24v24H0V0z\" fill=\"none\"/>\n",
              "    <path d=\"M18.56 5.44l.94 2.06.94-2.06 2.06-.94-2.06-.94-.94-2.06-.94 2.06-2.06.94zm-11 1L8.5 8.5l.94-2.06 2.06-.94-2.06-.94L8.5 2.5l-.94 2.06-2.06.94zm10 10l.94 2.06.94-2.06 2.06-.94-2.06-.94-.94-2.06-.94 2.06-2.06.94z\"/><path d=\"M17.41 7.96l-1.37-1.37c-.4-.4-.92-.59-1.43-.59-.52 0-1.04.2-1.43.59L10.3 9.45l-7.72 7.72c-.78.78-.78 2.05 0 2.83L4 21.41c.39.39.9.59 1.41.59.51 0 1.02-.2 1.41-.59l7.78-7.78 2.81-2.81c.8-.78.8-2.07 0-2.86zM5.41 20L4 18.59l7.72-7.72 1.47 1.35L5.41 20z\"/>\n",
              "  </svg>\n",
              "      </button>\n",
              "      \n",
              "  <style>\n",
              "    .colab-df-container {\n",
              "      display:flex;\n",
              "      flex-wrap:wrap;\n",
              "      gap: 12px;\n",
              "    }\n",
              "\n",
              "    .colab-df-convert {\n",
              "      background-color: #E8F0FE;\n",
              "      border: none;\n",
              "      border-radius: 50%;\n",
              "      cursor: pointer;\n",
              "      display: none;\n",
              "      fill: #1967D2;\n",
              "      height: 32px;\n",
              "      padding: 0 0 0 0;\n",
              "      width: 32px;\n",
              "    }\n",
              "\n",
              "    .colab-df-convert:hover {\n",
              "      background-color: #E2EBFA;\n",
              "      box-shadow: 0px 1px 2px rgba(60, 64, 67, 0.3), 0px 1px 3px 1px rgba(60, 64, 67, 0.15);\n",
              "      fill: #174EA6;\n",
              "    }\n",
              "\n",
              "    [theme=dark] .colab-df-convert {\n",
              "      background-color: #3B4455;\n",
              "      fill: #D2E3FC;\n",
              "    }\n",
              "\n",
              "    [theme=dark] .colab-df-convert:hover {\n",
              "      background-color: #434B5C;\n",
              "      box-shadow: 0px 1px 3px 1px rgba(0, 0, 0, 0.15);\n",
              "      filter: drop-shadow(0px 1px 2px rgba(0, 0, 0, 0.3));\n",
              "      fill: #FFFFFF;\n",
              "    }\n",
              "  </style>\n",
              "\n",
              "      <script>\n",
              "        const buttonEl =\n",
              "          document.querySelector('#df-94f27b93-2b42-4cfa-9646-4dc22c48d772 button.colab-df-convert');\n",
              "        buttonEl.style.display =\n",
              "          google.colab.kernel.accessAllowed ? 'block' : 'none';\n",
              "\n",
              "        async function convertToInteractive(key) {\n",
              "          const element = document.querySelector('#df-94f27b93-2b42-4cfa-9646-4dc22c48d772');\n",
              "          const dataTable =\n",
              "            await google.colab.kernel.invokeFunction('convertToInteractive',\n",
              "                                                     [key], {});\n",
              "          if (!dataTable) return;\n",
              "\n",
              "          const docLinkHtml = 'Like what you see? Visit the ' +\n",
              "            '<a target=\"_blank\" href=https://colab.research.google.com/notebooks/data_table.ipynb>data table notebook</a>'\n",
              "            + ' to learn more about interactive tables.';\n",
              "          element.innerHTML = '';\n",
              "          dataTable['output_type'] = 'display_data';\n",
              "          await google.colab.output.renderOutput(dataTable, element);\n",
              "          const docLink = document.createElement('div');\n",
              "          docLink.innerHTML = docLinkHtml;\n",
              "          element.appendChild(docLink);\n",
              "        }\n",
              "      </script>\n",
              "    </div>\n",
              "  </div>\n",
              "  "
            ]
          },
          "metadata": {},
          "execution_count": 10
        }
      ]
    },
    {
      "cell_type": "markdown",
      "source": [
        "### Turning words into tensors"
      ],
      "metadata": {
        "id": "yGKwy8JDjokq"
      }
    },
    {
      "cell_type": "code",
      "source": [
        "#find letter index from all_letters, e.g. \"a\" = 0\n",
        "def letterToIndex(letter):\n",
        "  return all_letters.find(letter)\n",
        "\n",
        "#turn a line into a <line_length x 1 x n_letters> or an array of one-hot letter vectors\n",
        "def rowToTensor(line):\n",
        "  tensor = torch.zeros(len(line), 1, n_letters)\n",
        "  for li, letter in enumerate(line):\n",
        "    tensor[li][0][letterToIndex(letter)] = 1\n",
        "  return tensor"
      ],
      "metadata": {
        "id": "p403VPVFhib9"
      },
      "execution_count": 11,
      "outputs": []
    },
    {
      "cell_type": "markdown",
      "source": [
        "## Creating the network\n",
        "\n",
        "The RNN module is just 2 linear layers which operate on an input and hidden state, with a LogSoftmax layer after the output.\n",
        "\n",
        "![Z2xbySO.png](data:image/png;base64,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)\n"
      ],
      "metadata": {
        "id": "lw7cZa1YGIxL"
      }
    },
    {
      "cell_type": "code",
      "source": [
        "import torch.nn as nn\n",
        "\n",
        "class RNN(nn.Module):\n",
        "  def __init__(self, input_size, hidden_size, output_size):\n",
        "    super(RNN, self).__init__()\n",
        "\n",
        "    self.hidden_size = hidden_size\n",
        "\n",
        "    self.i2h = nn.Linear(input_size + hidden_size, hidden_size) #linear layer that operates on the hidden state\n",
        "    self.i2o = nn.Linear(input_size + hidden_size, output_size) #linear layer that operates on the output state\n",
        "    self.softmax = nn.LogSoftmax(dim=1)\n",
        "\n",
        "  def forward(self, input, hidden):\n",
        "    combined = torch.cat((input, hidden), 1)\n",
        "    hidden = self.i2h(combined)\n",
        "    output = self.i2o(combined)\n",
        "    output = self.softmax(output)\n",
        "    return output, hidden\n",
        "\n",
        "  def initHidden(self):\n",
        "    return torch.zeros(1, self.hidden_size)\n",
        "\n",
        "n_hidden = 128\n",
        "rnn = RNN(n_letters, n_hidden, n_categories)"
      ],
      "metadata": {
        "id": "5G7ep_Nv8GwK"
      },
      "execution_count": 12,
      "outputs": []
    },
    {
      "cell_type": "code",
      "source": [
        "#for the sake of efficiency we don’t want to be creating a new Tensor for every step\n",
        "#but create a tensor for every row\n",
        "#(this could be further optimized by pre-computing batches of Tensors)\n",
        "\n",
        "input = rowToTensor('Albert')\n",
        "hidden = torch.zeros(1, n_hidden)\n",
        "\n",
        "output, next_hidden = rnn(input[0], hidden)\n",
        "print(output)\n",
        "#the output is a <1 x n_categories> tensor, where every item is the likelihood of that category (higher is more likely)"
      ],
      "metadata": {
        "colab": {
          "base_uri": "https://localhost:8080/"
        },
        "id": "uSdCOISS8NNQ",
        "outputId": "98d5d660-559f-4dd2-a91a-5347d609a5d3"
      },
      "execution_count": 13,
      "outputs": [
        {
          "output_type": "stream",
          "name": "stdout",
          "text": [
            "tensor([[-0.7687, -0.6229]], grad_fn=<LogSoftmaxBackward0>)\n"
          ]
        }
      ]
    },
    {
      "cell_type": "markdown",
      "source": [
        "## Training"
      ],
      "metadata": {
        "id": "Ia2uZGhUJeaj"
      }
    },
    {
      "cell_type": "markdown",
      "source": [
        "### Preparing for training"
      ],
      "metadata": {
        "id": "bOWH0yksJhjf"
      }
    },
    {
      "cell_type": "code",
      "source": [
        "#method to interpret the output of the network, which we know to be a likelihood of each category. \n",
        "#we can use Tensor.topk to get the index of the greatest value\n",
        "\n",
        "def categoryFromOutput(output):\n",
        "  top_n, top_i = output.topk(1)\n",
        "  category_i = top_i[0].item()\n",
        "  return all_categories[category_i]"
      ],
      "metadata": {
        "id": "El1NaMbv8Rwg"
      },
      "execution_count": 14,
      "outputs": []
    },
    {
      "cell_type": "code",
      "source": [
        "print(categoryFromOutput(output))"
      ],
      "metadata": {
        "colab": {
          "base_uri": "https://localhost:8080/"
        },
        "id": "kVzB54w93aar",
        "outputId": "ef841261-7d47-4177-ec31-216bc77b4c62"
      },
      "execution_count": 15,
      "outputs": [
        {
          "output_type": "stream",
          "name": "stdout",
          "text": [
            "1\n"
          ]
        }
      ]
    },
    {
      "cell_type": "code",
      "source": [
        "#quick way to get a training example (a name and its language)\n",
        "\n",
        "import random\n",
        "\n",
        "def randomChoiceClass(l):\n",
        "  return l[random.randint(0, len(l) - 1)]\n",
        "\n",
        "\n",
        "def randomChoiceRow(l):\n",
        "  return l.iloc[random.randint(0, len(l) - 1)][text_col] #given a dataset, return a random row\n",
        "\n",
        "def randomTrainingExample():\n",
        "  category = randomChoiceClass(all_categories) #choose a random category\n",
        "  #x = dataset[i].loc[dataset[i]['Label'].isin([0])]\n",
        "  row = randomChoiceRow(dataset[i].loc[dataset[i]['Label'].isin([category])]) #choose a random row, given a category\n",
        "  category_tensor = torch.tensor([all_categories.index(category)], dtype=torch.long) #category as tensor\n",
        "  row_tensor = rowToTensor(row) #line as tensor\n",
        "  return category, row, category_tensor, row_tensor\n",
        "\n",
        "for k in range(10):\n",
        "  category, row, category_tensor, row_tensor = randomTrainingExample() #return a random training example\n",
        "  print('category =', category, '/ row =', row)"
      ],
      "metadata": {
        "colab": {
          "base_uri": "https://localhost:8080/"
        },
        "id": "mPYz0JtD8ZxA",
        "outputId": "58d3a3fb-8a16-45c3-f61f-0a307803432d"
      },
      "execution_count": 16,
      "outputs": [
        {
          "output_type": "stream",
          "name": "stdout",
          "text": [
            "category = 0 / row = trypsin binding activity\n",
            "category = 1 / row = association of gc\n",
            "category = 1 / row = tumour necrosis factor\n",
            "category = 0 / row = the ability to\n",
            "category = 1 / row = a nonfunctioning single\n",
            "category = 0 / row = the arginine 16\n",
            "category = 1 / row = the link between\n",
            "category = 1 / row = heme oxygenase 1\n",
            "category = 0 / row = enacbeta and gamma\n",
            "category = 0 / row = evaluation of at\n"
          ]
        }
      ]
    },
    {
      "cell_type": "markdown",
      "source": [
        "### Training the network"
      ],
      "metadata": {
        "id": "SHJxuLMtUUuJ"
      }
    },
    {
      "cell_type": "code",
      "source": [
        "criterion = nn.NLLLoss() #appropriate, since the last layer of the RNN is nn.LogSoftmax\n",
        "learning_rate = 0.005 #if you set this too high, it might explode. If too low, it might not learn\n",
        "\n",
        "def train(category_tensor, row_tensor): #given input and target tensors\n",
        "\n",
        "    #create a zeroed initial hidden state\n",
        "    hidden = rnn.initHidden() \n",
        "    rnn.zero_grad()\n",
        "\n",
        "    #read each letter in and keep hidden state for next letter\n",
        "    for i in range(row_tensor.size()[0]):\n",
        "        output, hidden = rnn(row_tensor[i], hidden)\n",
        "\n",
        "    loss = criterion(output, category_tensor) #compare final output to target\n",
        "\n",
        "    #back-propagate\n",
        "    \n",
        "    loss.backward() #compute gradients\n",
        "\n",
        "    #add parameters' gradients to their values, multiplied by learning rate\n",
        "    for p in rnn.parameters():\n",
        "        p.data.add_(p.grad.data, alpha=-learning_rate)\n",
        "\n",
        "    return output, loss.item()"
      ],
      "metadata": {
        "id": "gf0mAKzi8luv"
      },
      "execution_count": 17,
      "outputs": []
    },
    {
      "cell_type": "code",
      "source": [
        "import time\n",
        "import math\n",
        "\n",
        "n_iters = 100000\n",
        "print_every = 5000\n",
        "plot_every = 1000\n",
        "\n",
        "\n",
        "#keep track of losses for plotting\n",
        "current_loss = 0\n",
        "all_losses = [] #list of all the avg losses\n",
        " \n",
        "def timeSince(since):\n",
        "    now = time.time()\n",
        "    s = now - since\n",
        "    m = math.floor(s / 60)\n",
        "    s -= m * 60\n",
        "    return '%dm %ds' % (m, s)\n",
        "\n",
        "start = time.time()\n",
        "\n",
        "for iter in range(1, n_iters + 1):\n",
        "    category, row, category_tensor, row_tensor = randomTrainingExample()\n",
        "    output, loss = train(category_tensor, row_tensor)\n",
        "    current_loss += loss #sum of losses since last plot_every\n",
        "\n",
        "    #print iter number, loss, name and guess\n",
        "    if iter % print_every == 0: #if iter is a multiple of print_every\n",
        "        guess = categoryFromOutput(output) #return predicted class and class index\n",
        "        correct = '✓' if guess == category else '✗ (%s)' % category\n",
        "        print('%d %d%% (%s) %.4f %s / %s %s' % (iter, iter / n_iters * 100, timeSince(start), loss, row, guess, correct))\n",
        "\n",
        "    #add current loss avg to list of losses\n",
        "    if iter % plot_every == 0: #if iter is a multiple of plott_every\n",
        "        all_losses.append(current_loss / plot_every) #append avg loss to all_losses\n",
        "        current_loss = 0"
      ],
      "metadata": {
        "colab": {
          "base_uri": "https://localhost:8080/"
        },
        "id": "tIKAz5Nr82C-",
        "outputId": "6d782c28-36fc-4e2a-c6c4-e13385923fca"
      },
      "execution_count": 18,
      "outputs": [
        {
          "output_type": "stream",
          "name": "stdout",
          "text": [
            "5000 5% (0m 25s) 0.4289 angiogenesis is induced / 0 ✓\n",
            "10000 10% (0m 43s) 1.0716 high frequency of / 0 ✗ (1)\n",
            "15000 15% (1m 0s) 0.0576 alpha1 antitrypsin deficiency / 0 ✓\n",
            "20000 20% (1m 18s) 0.1766 aluymicb dimorphism within / 1 ✓\n",
            "25000 25% (1m 35s) 0.0606 fertility and pregnancy / 0 ✓\n",
            "30000 30% (1m 52s) 0.1109 correcting the piz / 0 ✓\n",
            "35000 35% (2m 9s) 0.7564 airway response to / 1 ✗ (0)\n",
            "40000 40% (2m 27s) 2.1084 tissue inhibitor of / 1 ✗ (0)\n",
            "45000 45% (2m 44s) 0.0735 the serpine2 gene / 1 ✓\n",
            "50000 50% (3m 1s) 0.1532 attempted replication of / 1 ✓\n",
            "55000 55% (3m 19s) 0.1493 gene replacement therapy / 0 ✓\n",
            "60000 60% (3m 36s) 0.0376 association of variant / 0 ✓\n",
            "65000 65% (3m 54s) 0.4027 anti tissue remodeling / 0 ✓\n",
            "70000 70% (4m 11s) 0.0193 heterozygous alpha 1 / 0 ✓\n",
            "75000 75% (4m 28s) 0.3794 genome wide linkage / 1 ✓\n",
            "80000 80% (4m 46s) 0.5831 etb receptor polymorphism / 1 ✓\n",
            "85000 85% (5m 3s) 0.0365 mucociliary clearance in / 0 ✓\n",
            "90000 90% (5m 21s) 0.1923 endotoxin and the / 0 ✓\n",
            "95000 95% (5m 38s) 0.3480 adenovirus infection in / 0 ✓\n",
            "100000 100% (5m 55s) 0.9965 polymorphisms in the / 0 ✗ (1)\n"
          ]
        }
      ]
    },
    {
      "cell_type": "markdown",
      "source": [
        "## Results"
      ],
      "metadata": {
        "id": "nrKQt8pXUbgH"
      }
    },
    {
      "cell_type": "markdown",
      "source": [
        "### Plotting the results"
      ],
      "metadata": {
        "id": "4foptOe0UdNs"
      }
    },
    {
      "cell_type": "code",
      "source": [
        "#plotting the historical loss from all_losses shows the network learning\n",
        "\n",
        "import matplotlib.pyplot as plt\n",
        "import matplotlib.ticker as ticker\n",
        "\n",
        "plt.figure()\n",
        "plt.plot(all_losses)"
      ],
      "metadata": {
        "colab": {
          "base_uri": "https://localhost:8080/",
          "height": 286
        },
        "id": "EBBB55d-86k4",
        "outputId": "d6717076-c2a1-4114-b29c-75c59ec6b840"
      },
      "execution_count": 19,
      "outputs": [
        {
          "output_type": "execute_result",
          "data": {
            "text/plain": [
              "[<matplotlib.lines.Line2D at 0x7f6362a76750>]"
            ]
          },
          "metadata": {},
          "execution_count": 19
        },
        {
          "output_type": "display_data",
          "data": {
            "text/plain": [
              "<Figure size 432x288 with 1 Axes>"
            ],
            "image/png": "[encoded data removed]"
          },
          "metadata": {
            "needs_background": "light"
          }
        }
      ]
    },
    {
      "cell_type": "markdown",
      "source": [
        "### Evaluating the results\n",
        "\n",
        "We will create a confusion matrix, indicating for every actual language (rows) which language the network guesses (columns).\n",
        "\n",
        "To calculate the confusion matrix a bunch of samples are run through the network with evaluate(), which is the same as train() minus the backprop."
      ],
      "metadata": {
        "id": "w40WS4pNUfeF"
      }
    },
    {
      "cell_type": "code",
      "source": [
        "#keep track of correct guesses in a confusion matrix\n",
        "confusion = torch.zeros(n_categories, n_categories)\n",
        "n_confusion = 10000\n",
        "\n",
        "#just return an output given a row\n",
        "def evaluate(row_tensor):\n",
        "    hidden = rnn.initHidden()\n",
        "\n",
        "    for k in range(row_tensor.size()[0]):\n",
        "        output, hidden = rnn(row_tensor[k], hidden)\n",
        "\n",
        "    return output\n",
        "\n",
        "#go through a bunch of examples and record which are correctly guessed\n",
        "for k in range(n_confusion):\n",
        "    category, row, category_tensor, row_tensor = randomTrainingExample()\n",
        "    output = evaluate(row_tensor)\n",
        "    guess = categoryFromOutput(output)\n",
        "    category_i = all_categories.index(category)\n",
        "    confusion[category_i][guess] += 1\n",
        "\n",
        "#normalize by dividing every row by its sum\n",
        "for k in range(n_categories):\n",
        "    confusion[k] = confusion[k] / confusion[k].sum()\n",
        "\n",
        "# set up plot\n",
        "fig = plt.figure()\n",
        "ax = fig.add_subplot(111)\n",
        "cax = ax.matshow(confusion.numpy())\n",
        "fig.colorbar(cax)\n",
        "\n",
        "#set up axes\n",
        "ax.set_xticklabels([''] + all_categories, rotation=90)\n",
        "ax.set_yticklabels([''] + all_categories)\n",
        "\n",
        "#force label at every tick\n",
        "ax.xaxis.set_major_locator(ticker.MultipleLocator(1))\n",
        "ax.yaxis.set_major_locator(ticker.MultipleLocator(1))\n",
        "\n",
        "# sphinx_gallery_thumbnail_number = 2\n",
        "plt.show()"
      ],
      "metadata": {
        "colab": {
          "base_uri": "https://localhost:8080/",
          "height": 264
        },
        "id": "uF-jah4989pz",
        "outputId": "403e7154-f8b1-405c-8a18-4539021b3017"
      },
      "execution_count": 21,
      "outputs": [
        {
          "output_type": "display_data",
          "data": {
            "text/plain": [
              "<Figure size 432x288 with 2 Axes>"
            ],
            "image/png": "[encoded data removed]"
          },
          "metadata": {
            "needs_background": "light"
          }
        }
      ]
    },
    {
      "cell_type": "code",
      "source": [
        "def predict(input_line, n_predictions=2):\n",
        "    print('\\n> %s' % input_line)\n",
        "    with torch.no_grad():\n",
        "        output = evaluate(rowToTensor(input_line))\n",
        "\n",
        "        #get top N categories\n",
        "        topv, topi = output.topk(n_predictions, 1, True)\n",
        "        predictions = []\n",
        "\n",
        "        for i in range(n_predictions):\n",
        "            value = topv[0][i].item()\n",
        "            category_index = topi[0][i].item()\n",
        "            print('(%.2f) %s' % (value, all_categories[category_index]))\n",
        "            predictions.append([value, all_categories[category_index]])\n",
        "\n",
        "predict('chronic obstructive pulmonary')"
      ],
      "metadata": {
        "colab": {
          "base_uri": "https://localhost:8080/"
        },
        "id": "W7U0Flsd9E2r",
        "outputId": "080f8739-bfb0-43af-be0a-105a368e3f34"
      },
      "execution_count": 24,
      "outputs": [
        {
          "output_type": "stream",
          "name": "stdout",
          "text": [
            "\n",
            "> chronic obstructive pulmonary\n",
            "(-0.57) 0\n",
            "(-0.83) 1\n"
          ]
        }
      ]
    }
  ]
}
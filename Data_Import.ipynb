{
  "cells": [
    {
      "cell_type": "markdown",
      "metadata": {
        "id": "sCF8_dkud0mJ"
      },
      "source": [
        "Datasets are imported from: https://www.dropbox.com/sh/ud5sf1fy6m7o219/AAD9pkY5gYe_XYV2oHDw68uva?dl=0"
      ]
    },
    {
      "cell_type": "markdown",
      "metadata": {
        "id": "mgjZmhZFSDgy"
      },
      "source": [
        "## Libraries and methods"
      ]
    },
    {
      "cell_type": "code",
      "execution_count": 1,
      "metadata": {
        "id": "WlxUBhCY3Dxm",
        "colab": {
          "base_uri": "https://localhost:8080/"
        },
        "outputId": "391dc8d3-9202-450d-c20d-1b8ff843f69b"
      },
      "outputs": [
        {
          "output_type": "stream",
          "name": "stdout",
          "text": [
            "Drive already mounted at /content/gdrive; to attempt to forcibly remount, call drive.mount(\"/content/gdrive\", force_remount=True).\n"
          ]
        }
      ],
      "source": [
        "from google.colab import drive\n",
        "drive.mount(\"/content/gdrive\")\n",
        "path = \"/content/gdrive/MyDrive/Magistrale/Stage/data\"\n",
        "root_dir = \"/content/gdrive/MyDrive\""
      ]
    },
    {
      "cell_type": "code",
      "source": [
        "#libraries\n",
        "%cd \"/content/gdrive/MyDrive/Magistrale/Stage/file\"\n",
        "import methods\n",
        "import csv\n",
        "import numpy as np\n",
        "import pandas as pd\n",
        "import nltk\n",
        "nltk.download('punkt')\n",
        "from sklearn.preprocessing import OneHotEncoder\n",
        "from sklearn.ensemble import RandomForestClassifier\n",
        "import matplotlib.pyplot as plt"
      ],
      "metadata": {
        "colab": {
          "base_uri": "https://localhost:8080/"
        },
        "id": "pyRg88llSkGA",
        "outputId": "ee55c1e8-1b13-4a72-8e6d-74ff90ac6781"
      },
      "execution_count": 2,
      "outputs": [
        {
          "output_type": "stream",
          "name": "stdout",
          "text": [
            "/content/gdrive/MyDrive/Magistrale/Stage/file\n"
          ]
        },
        {
          "output_type": "stream",
          "name": "stderr",
          "text": [
            "[nltk_data] Downloading package punkt to /root/nltk_data...\n",
            "[nltk_data]   Package punkt is already up-to-date!\n"
          ]
        }
      ]
    },
    {
      "cell_type": "markdown",
      "metadata": {
        "id": "lEIHloh6SIXX"
      },
      "source": [
        "## Import of data"
      ]
    },
    {
      "cell_type": "code",
      "execution_count": 3,
      "metadata": {
        "id": "ZSqe0rpf1itk"
      },
      "outputs": [],
      "source": [
        "dataset = dict()"
      ]
    },
    {
      "cell_type": "markdown",
      "metadata": {
        "id": "tWYQwGtsy9l4"
      },
      "source": [
        "### ACE Inhibitors dataset"
      ]
    },
    {
      "cell_type": "code",
      "execution_count": 4,
      "metadata": {
        "id": "ATrKPt4aKj17",
        "colab": {
          "base_uri": "https://localhost:8080/",
          "height": 485
        },
        "outputId": "c09ce711-8403-4f99-8c02-54092b760585"
      },
      "outputs": [
        {
          "output_type": "stream",
          "name": "stdout",
          "text": [
            "(2544, 53)\n"
          ]
        },
        {
          "output_type": "display_data",
          "data": {
            "text/plain": [
              "       PMID  OWN     STAT      DCOM        LR  \\\n",
              "0  10024335  NLM  MEDLINE  19990309  20190722   \n",
              "1  10027665  NLM  MEDLINE  19990506  20190813   \n",
              "2  10027935  NLM  MEDLINE  19990416  20161124   \n",
              "\n",
              "                                      IS  VI  IP        DP  \\\n",
              "0  0194-911X (Print) 0194-911X (Linking)  33   2  1999 Feb   \n",
              "1  0031-6970 (Print) 0031-6970 (Linking)  54  11  1999 Jan   \n",
              "2  0085-2538 (Print) 0085-2538 (Linking)  55   3  1999 Mar   \n",
              "\n",
              "                                               Title      PG  \\\n",
              "0  Distinct and combined vascular effects of ACE ...  719-25   \n",
              "1  Computerized surveillance of adverse drug reac...  887-92   \n",
              "2  Glomerular size-selective dysfunction in NIDDM...  984-94   \n",
              "\n",
              "                                            Abstract  \\\n",
              "0  Hypercholesterolemia and hypertension are freq...   \n",
              "1  OBJECTIVE: To implement and measure the effect...   \n",
              "2  BACKGROUND: In patients with insulin-dependent...   \n",
              "\n",
              "                                                 FAU  \\\n",
              "0  ['Nazzaro, P', 'Manzari, M', 'Merlo, M', 'Trig...   \n",
              "1  ['Levy, M', 'Azaz-Livshits, T', 'Sadan, B', 'S...   \n",
              "2  ['Ruggenenti, P', 'Mosconi, L', 'Sangalli, F',...   \n",
              "\n",
              "                                                  AU  \\\n",
              "0  ['Nazzaro P', 'Manzari M', 'Merlo M', 'Triggia...   \n",
              "1  ['Levy M', 'Azaz-Livshits T', 'Sadan B', 'Shal...   \n",
              "2  ['Ruggenenti P', 'Mosconi L', 'Sangalli F', 'C...   \n",
              "\n",
              "                                                  AD       LA  \\\n",
              "0  ['Department of Clinical Methodology and Medic...  ['eng']   \n",
              "1  ['Department of Medicine, Hadassah University ...  ['eng']   \n",
              "2  ['Department of Kidney Research, Mario Negri I...  ['eng']   \n",
              "\n",
              "                                                  PT             PL  \\\n",
              "0  ['Clinical Trial', 'Controlled Clinical Trial'...  United States   \n",
              "1  ['Journal Article', \"Research Support, Non-U.S...        Germany   \n",
              "2  ['Clinical Trial', 'Journal Article', 'Randomi...  United States   \n",
              "\n",
              "                     TA                                         JT      JID  \\\n",
              "0          Hypertension         Hypertension (Dallas, Tex. : 1979)  7906255   \n",
              "1  Eur J Clin Pharmacol  European journal of clinical pharmacology  1256165   \n",
              "2            Kidney Int                       Kidney international  0323470   \n",
              "\n",
              "                                                  RN  SB  \\\n",
              "0  ['0 (Angiotensin-Converting Enzyme Inhibitors)...  IM   \n",
              "1                                                NaN  IM   \n",
              "2  ['0 (Angiotensin-Converting Enzyme Inhibitors)...  IM   \n",
              "\n",
              "                                                  MH              EDAT  \\\n",
              "0  ['Adult', 'Angiotensin-Converting Enzyme Inhib...  1999/02/19 00:00   \n",
              "1  ['Adverse Drug Reaction Reporting Systems/econ...  1999/02/23 00:00   \n",
              "2  ['Adult', 'Aged', 'Angiotensin-Converting Enzy...  1999/02/23 00:00   \n",
              "\n",
              "               MHDA                  CRDT  \\\n",
              "0  1999/02/19 00:01  ['1999/02/19 00:00']   \n",
              "1  1999/02/23 00:01  ['1999/02/23 00:00']   \n",
              "2  1999/02/23 00:01  ['1999/02/23 00:00']   \n",
              "\n",
              "                                                PHST  \\\n",
              "0  ['1999/02/19 00:00 [pubmed]', '1999/02/19 00:0...   \n",
              "1  ['1999/02/23 00:00 [pubmed]', '1999/02/23 00:0...   \n",
              "2  ['1999/02/23 00:00 [pubmed]', '1999/02/23 00:0...   \n",
              "\n",
              "                                                 AID       PST  \\\n",
              "0                  ['10.1161/01.hyp.33.2.719 [doi]']  ppublish   \n",
              "1                    ['10.1007/s002280050571 [doi]']  ppublish   \n",
              "2  ['10.1046/j.1523-1755.1999.055003984.x [doi]',...  ppublish   \n",
              "\n",
              "                                                  SO   GR  CIN  EIN  RF   CI  \\\n",
              "0  Hypertension. 1999 Feb;33(2):719-25. doi: 10.1...  NaN  NaN  NaN NaN  NaN   \n",
              "1  Eur J Clin Pharmacol. 1999 Jan;54(11):887-92. ...  NaN  NaN  NaN NaN  NaN   \n",
              "2  Kidney Int. 1999 Mar;55(3):984-94. doi: 10.104...  NaN  NaN  NaN NaN  NaN   \n",
              "\n",
              "   PMC  CON  OTO   OT   IR  FIR IRAD  CRI  LID   CN   TT  OID SPIN  DEP  ORI  \\\n",
              "0  NaN  NaN  NaN  NaN  NaN  NaN  NaN  NaN  NaN  NaN  NaN  NaN  NaN  NaN  NaN   \n",
              "1  NaN  NaN  NaN  NaN  NaN  NaN  NaN  NaN  NaN  NaN  NaN  NaN  NaN  NaN  NaN   \n",
              "2  NaN  NaN  NaN  NaN  NaN  NaN  NaN  NaN  NaN  NaN  NaN  NaN  NaN  NaN  NaN   \n",
              "\n",
              "   RIN  Label  \n",
              "0  NaN      0  \n",
              "1  NaN      0  \n",
              "2  NaN      0  "
            ],
            "text/html": [
              "\n",
              "  <div id=\"df-312735de-3880-4bc2-8545-af0b68fc867d\">\n",
              "    <div class=\"colab-df-container\">\n",
              "      <div>\n",
              "<style scoped>\n",
              "    .dataframe tbody tr th:only-of-type {\n",
              "        vertical-align: middle;\n",
              "    }\n",
              "\n",
              "    .dataframe tbody tr th {\n",
              "        vertical-align: top;\n",
              "    }\n",
              "\n",
              "    .dataframe thead th {\n",
              "        text-align: right;\n",
              "    }\n",
              "</style>\n",
              "<table border=\"1\" class=\"dataframe\">\n",
              "  <thead>\n",
              "    <tr style=\"text-align: right;\">\n",
              "      <th></th>\n",
              "      <th>PMID</th>\n",
              "      <th>OWN</th>\n",
              "      <th>STAT</th>\n",
              "      <th>DCOM</th>\n",
              "      <th>LR</th>\n",
              "      <th>IS</th>\n",
              "      <th>VI</th>\n",
              "      <th>IP</th>\n",
              "      <th>DP</th>\n",
              "      <th>Title</th>\n",
              "      <th>PG</th>\n",
              "      <th>Abstract</th>\n",
              "      <th>FAU</th>\n",
              "      <th>AU</th>\n",
              "      <th>AD</th>\n",
              "      <th>LA</th>\n",
              "      <th>PT</th>\n",
              "      <th>PL</th>\n",
              "      <th>TA</th>\n",
              "      <th>JT</th>\n",
              "      <th>JID</th>\n",
              "      <th>RN</th>\n",
              "      <th>SB</th>\n",
              "      <th>MH</th>\n",
              "      <th>EDAT</th>\n",
              "      <th>MHDA</th>\n",
              "      <th>CRDT</th>\n",
              "      <th>PHST</th>\n",
              "      <th>AID</th>\n",
              "      <th>PST</th>\n",
              "      <th>SO</th>\n",
              "      <th>GR</th>\n",
              "      <th>CIN</th>\n",
              "      <th>EIN</th>\n",
              "      <th>RF</th>\n",
              "      <th>CI</th>\n",
              "      <th>PMC</th>\n",
              "      <th>CON</th>\n",
              "      <th>OTO</th>\n",
              "      <th>OT</th>\n",
              "      <th>IR</th>\n",
              "      <th>FIR</th>\n",
              "      <th>IRAD</th>\n",
              "      <th>CRI</th>\n",
              "      <th>LID</th>\n",
              "      <th>CN</th>\n",
              "      <th>TT</th>\n",
              "      <th>OID</th>\n",
              "      <th>SPIN</th>\n",
              "      <th>DEP</th>\n",
              "      <th>ORI</th>\n",
              "      <th>RIN</th>\n",
              "      <th>Label</th>\n",
              "    </tr>\n",
              "  </thead>\n",
              "  <tbody>\n",
              "    <tr>\n",
              "      <th>0</th>\n",
              "      <td>10024335</td>\n",
              "      <td>NLM</td>\n",
              "      <td>MEDLINE</td>\n",
              "      <td>19990309</td>\n",
              "      <td>20190722</td>\n",
              "      <td>0194-911X (Print) 0194-911X (Linking)</td>\n",
              "      <td>33</td>\n",
              "      <td>2</td>\n",
              "      <td>1999 Feb</td>\n",
              "      <td>Distinct and combined vascular effects of ACE ...</td>\n",
              "      <td>719-25</td>\n",
              "      <td>Hypercholesterolemia and hypertension are freq...</td>\n",
              "      <td>['Nazzaro, P', 'Manzari, M', 'Merlo, M', 'Trig...</td>\n",
              "      <td>['Nazzaro P', 'Manzari M', 'Merlo M', 'Triggia...</td>\n",
              "      <td>['Department of Clinical Methodology and Medic...</td>\n",
              "      <td>['eng']</td>\n",
              "      <td>['Clinical Trial', 'Controlled Clinical Trial'...</td>\n",
              "      <td>United States</td>\n",
              "      <td>Hypertension</td>\n",
              "      <td>Hypertension (Dallas, Tex. : 1979)</td>\n",
              "      <td>7906255</td>\n",
              "      <td>['0 (Angiotensin-Converting Enzyme Inhibitors)...</td>\n",
              "      <td>IM</td>\n",
              "      <td>['Adult', 'Angiotensin-Converting Enzyme Inhib...</td>\n",
              "      <td>1999/02/19 00:00</td>\n",
              "      <td>1999/02/19 00:01</td>\n",
              "      <td>['1999/02/19 00:00']</td>\n",
              "      <td>['1999/02/19 00:00 [pubmed]', '1999/02/19 00:0...</td>\n",
              "      <td>['10.1161/01.hyp.33.2.719 [doi]']</td>\n",
              "      <td>ppublish</td>\n",
              "      <td>Hypertension. 1999 Feb;33(2):719-25. doi: 10.1...</td>\n",
              "      <td>NaN</td>\n",
              "      <td>NaN</td>\n",
              "      <td>NaN</td>\n",
              "      <td>NaN</td>\n",
              "      <td>NaN</td>\n",
              "      <td>NaN</td>\n",
              "      <td>NaN</td>\n",
              "      <td>NaN</td>\n",
              "      <td>NaN</td>\n",
              "      <td>NaN</td>\n",
              "      <td>NaN</td>\n",
              "      <td>NaN</td>\n",
              "      <td>NaN</td>\n",
              "      <td>NaN</td>\n",
              "      <td>NaN</td>\n",
              "      <td>NaN</td>\n",
              "      <td>NaN</td>\n",
              "      <td>NaN</td>\n",
              "      <td>NaN</td>\n",
              "      <td>NaN</td>\n",
              "      <td>NaN</td>\n",
              "      <td>0</td>\n",
              "    </tr>\n",
              "    <tr>\n",
              "      <th>1</th>\n",
              "      <td>10027665</td>\n",
              "      <td>NLM</td>\n",
              "      <td>MEDLINE</td>\n",
              "      <td>19990506</td>\n",
              "      <td>20190813</td>\n",
              "      <td>0031-6970 (Print) 0031-6970 (Linking)</td>\n",
              "      <td>54</td>\n",
              "      <td>11</td>\n",
              "      <td>1999 Jan</td>\n",
              "      <td>Computerized surveillance of adverse drug reac...</td>\n",
              "      <td>887-92</td>\n",
              "      <td>OBJECTIVE: To implement and measure the effect...</td>\n",
              "      <td>['Levy, M', 'Azaz-Livshits, T', 'Sadan, B', 'S...</td>\n",
              "      <td>['Levy M', 'Azaz-Livshits T', 'Sadan B', 'Shal...</td>\n",
              "      <td>['Department of Medicine, Hadassah University ...</td>\n",
              "      <td>['eng']</td>\n",
              "      <td>['Journal Article', \"Research Support, Non-U.S...</td>\n",
              "      <td>Germany</td>\n",
              "      <td>Eur J Clin Pharmacol</td>\n",
              "      <td>European journal of clinical pharmacology</td>\n",
              "      <td>1256165</td>\n",
              "      <td>NaN</td>\n",
              "      <td>IM</td>\n",
              "      <td>['Adverse Drug Reaction Reporting Systems/econ...</td>\n",
              "      <td>1999/02/23 00:00</td>\n",
              "      <td>1999/02/23 00:01</td>\n",
              "      <td>['1999/02/23 00:00']</td>\n",
              "      <td>['1999/02/23 00:00 [pubmed]', '1999/02/23 00:0...</td>\n",
              "      <td>['10.1007/s002280050571 [doi]']</td>\n",
              "      <td>ppublish</td>\n",
              "      <td>Eur J Clin Pharmacol. 1999 Jan;54(11):887-92. ...</td>\n",
              "      <td>NaN</td>\n",
              "      <td>NaN</td>\n",
              "      <td>NaN</td>\n",
              "      <td>NaN</td>\n",
              "      <td>NaN</td>\n",
              "      <td>NaN</td>\n",
              "      <td>NaN</td>\n",
              "      <td>NaN</td>\n",
              "      <td>NaN</td>\n",
              "      <td>NaN</td>\n",
              "      <td>NaN</td>\n",
              "      <td>NaN</td>\n",
              "      <td>NaN</td>\n",
              "      <td>NaN</td>\n",
              "      <td>NaN</td>\n",
              "      <td>NaN</td>\n",
              "      <td>NaN</td>\n",
              "      <td>NaN</td>\n",
              "      <td>NaN</td>\n",
              "      <td>NaN</td>\n",
              "      <td>NaN</td>\n",
              "      <td>0</td>\n",
              "    </tr>\n",
              "    <tr>\n",
              "      <th>2</th>\n",
              "      <td>10027935</td>\n",
              "      <td>NLM</td>\n",
              "      <td>MEDLINE</td>\n",
              "      <td>19990416</td>\n",
              "      <td>20161124</td>\n",
              "      <td>0085-2538 (Print) 0085-2538 (Linking)</td>\n",
              "      <td>55</td>\n",
              "      <td>3</td>\n",
              "      <td>1999 Mar</td>\n",
              "      <td>Glomerular size-selective dysfunction in NIDDM...</td>\n",
              "      <td>984-94</td>\n",
              "      <td>BACKGROUND: In patients with insulin-dependent...</td>\n",
              "      <td>['Ruggenenti, P', 'Mosconi, L', 'Sangalli, F',...</td>\n",
              "      <td>['Ruggenenti P', 'Mosconi L', 'Sangalli F', 'C...</td>\n",
              "      <td>['Department of Kidney Research, Mario Negri I...</td>\n",
              "      <td>['eng']</td>\n",
              "      <td>['Clinical Trial', 'Journal Article', 'Randomi...</td>\n",
              "      <td>United States</td>\n",
              "      <td>Kidney Int</td>\n",
              "      <td>Kidney international</td>\n",
              "      <td>0323470</td>\n",
              "      <td>['0 (Angiotensin-Converting Enzyme Inhibitors)...</td>\n",
              "      <td>IM</td>\n",
              "      <td>['Adult', 'Aged', 'Angiotensin-Converting Enzy...</td>\n",
              "      <td>1999/02/23 00:00</td>\n",
              "      <td>1999/02/23 00:01</td>\n",
              "      <td>['1999/02/23 00:00']</td>\n",
              "      <td>['1999/02/23 00:00 [pubmed]', '1999/02/23 00:0...</td>\n",
              "      <td>['10.1046/j.1523-1755.1999.055003984.x [doi]',...</td>\n",
              "      <td>ppublish</td>\n",
              "      <td>Kidney Int. 1999 Mar;55(3):984-94. doi: 10.104...</td>\n",
              "      <td>NaN</td>\n",
              "      <td>NaN</td>\n",
              "      <td>NaN</td>\n",
              "      <td>NaN</td>\n",
              "      <td>NaN</td>\n",
              "      <td>NaN</td>\n",
              "      <td>NaN</td>\n",
              "      <td>NaN</td>\n",
              "      <td>NaN</td>\n",
              "      <td>NaN</td>\n",
              "      <td>NaN</td>\n",
              "      <td>NaN</td>\n",
              "      <td>NaN</td>\n",
              "      <td>NaN</td>\n",
              "      <td>NaN</td>\n",
              "      <td>NaN</td>\n",
              "      <td>NaN</td>\n",
              "      <td>NaN</td>\n",
              "      <td>NaN</td>\n",
              "      <td>NaN</td>\n",
              "      <td>NaN</td>\n",
              "      <td>0</td>\n",
              "    </tr>\n",
              "  </tbody>\n",
              "</table>\n",
              "</div>\n",
              "      <button class=\"colab-df-convert\" onclick=\"convertToInteractive('df-312735de-3880-4bc2-8545-af0b68fc867d')\"\n",
              "              title=\"Convert this dataframe to an interactive table.\"\n",
              "              style=\"display:none;\">\n",
              "        \n",
              "  <svg xmlns=\"http://www.w3.org/2000/svg\" height=\"24px\"viewBox=\"0 0 24 24\"\n",
              "       width=\"24px\">\n",
              "    <path d=\"M0 0h24v24H0V0z\" fill=\"none\"/>\n",
              "    <path d=\"M18.56 5.44l.94 2.06.94-2.06 2.06-.94-2.06-.94-.94-2.06-.94 2.06-2.06.94zm-11 1L8.5 8.5l.94-2.06 2.06-.94-2.06-.94L8.5 2.5l-.94 2.06-2.06.94zm10 10l.94 2.06.94-2.06 2.06-.94-2.06-.94-.94-2.06-.94 2.06-2.06.94z\"/><path d=\"M17.41 7.96l-1.37-1.37c-.4-.4-.92-.59-1.43-.59-.52 0-1.04.2-1.43.59L10.3 9.45l-7.72 7.72c-.78.78-.78 2.05 0 2.83L4 21.41c.39.39.9.59 1.41.59.51 0 1.02-.2 1.41-.59l7.78-7.78 2.81-2.81c.8-.78.8-2.07 0-2.86zM5.41 20L4 18.59l7.72-7.72 1.47 1.35L5.41 20z\"/>\n",
              "  </svg>\n",
              "      </button>\n",
              "      \n",
              "  <style>\n",
              "    .colab-df-container {\n",
              "      display:flex;\n",
              "      flex-wrap:wrap;\n",
              "      gap: 12px;\n",
              "    }\n",
              "\n",
              "    .colab-df-convert {\n",
              "      background-color: #E8F0FE;\n",
              "      border: none;\n",
              "      border-radius: 50%;\n",
              "      cursor: pointer;\n",
              "      display: none;\n",
              "      fill: #1967D2;\n",
              "      height: 32px;\n",
              "      padding: 0 0 0 0;\n",
              "      width: 32px;\n",
              "    }\n",
              "\n",
              "    .colab-df-convert:hover {\n",
              "      background-color: #E2EBFA;\n",
              "      box-shadow: 0px 1px 2px rgba(60, 64, 67, 0.3), 0px 1px 3px 1px rgba(60, 64, 67, 0.15);\n",
              "      fill: #174EA6;\n",
              "    }\n",
              "\n",
              "    [theme=dark] .colab-df-convert {\n",
              "      background-color: #3B4455;\n",
              "      fill: #D2E3FC;\n",
              "    }\n",
              "\n",
              "    [theme=dark] .colab-df-convert:hover {\n",
              "      background-color: #434B5C;\n",
              "      box-shadow: 0px 1px 3px 1px rgba(0, 0, 0, 0.15);\n",
              "      filter: drop-shadow(0px 1px 2px rgba(0, 0, 0, 0.3));\n",
              "      fill: #FFFFFF;\n",
              "    }\n",
              "  </style>\n",
              "\n",
              "      <script>\n",
              "        const buttonEl =\n",
              "          document.querySelector('#df-312735de-3880-4bc2-8545-af0b68fc867d button.colab-df-convert');\n",
              "        buttonEl.style.display =\n",
              "          google.colab.kernel.accessAllowed ? 'block' : 'none';\n",
              "\n",
              "        async function convertToInteractive(key) {\n",
              "          const element = document.querySelector('#df-312735de-3880-4bc2-8545-af0b68fc867d');\n",
              "          const dataTable =\n",
              "            await google.colab.kernel.invokeFunction('convertToInteractive',\n",
              "                                                     [key], {});\n",
              "          if (!dataTable) return;\n",
              "\n",
              "          const docLinkHtml = 'Like what you see? Visit the ' +\n",
              "            '<a target=\"_blank\" href=https://colab.research.google.com/notebooks/data_table.ipynb>data table notebook</a>'\n",
              "            + ' to learn more about interactive tables.';\n",
              "          element.innerHTML = '';\n",
              "          dataTable['output_type'] = 'display_data';\n",
              "          await google.colab.output.renderOutput(dataTable, element);\n",
              "          const docLink = document.createElement('div');\n",
              "          docLink.innerHTML = docLinkHtml;\n",
              "          element.appendChild(docLink);\n",
              "        }\n",
              "      </script>\n",
              "    </div>\n",
              "  </div>\n",
              "  "
            ]
          },
          "metadata": {}
        }
      ],
      "source": [
        "#import of data\n",
        "dataset[\"ace\"] = pd.read_csv(path + \"/ACEInhibitors.tsv\", sep='\\t')\n",
        "print(dataset[\"ace\"].shape)\n",
        "pd.set_option('display.max_columns', None)\n",
        "display(dataset[\"ace\"].head(3))"
      ]
    },
    {
      "cell_type": "markdown",
      "metadata": {
        "id": "zXN22kT2cSWW"
      },
      "source": [
        "#### Columns distribution and selection"
      ]
    },
    {
      "cell_type": "code",
      "execution_count": 5,
      "metadata": {
        "id": "QeShaMQ539Qx",
        "colab": {
          "base_uri": "https://localhost:8080/"
        },
        "outputId": "ac8a8c19-6ae3-4e41-a4f9-1b05ecdf8fe2"
      },
      "outputs": [
        {
          "output_type": "stream",
          "name": "stdout",
          "text": [
            "Index(['PMID', 'OWN', 'STAT', 'DCOM', 'LR', 'IS', 'VI', 'IP', 'DP', 'Title',\n",
            "       'PG', 'Abstract', 'FAU', 'AU', 'AD', 'LA', 'PT', 'PL', 'TA', 'JT',\n",
            "       'JID', 'RN', 'SB', 'MH', 'EDAT', 'MHDA', 'CRDT', 'PHST', 'AID', 'PST',\n",
            "       'SO', 'GR', 'CIN', 'EIN', 'RF', 'CI', 'PMC', 'CON', 'OTO', 'OT', 'IR',\n",
            "       'FIR', 'IRAD', 'CRI', 'LID', 'CN', 'TT', 'OID', 'SPIN', 'DEP', 'ORI',\n",
            "       'RIN', 'Label'],\n",
            "      dtype='object')\n"
          ]
        }
      ],
      "source": [
        "#columns \n",
        "print(dataset[\"ace\"].columns)"
      ]
    },
    {
      "cell_type": "code",
      "execution_count": 6,
      "metadata": {
        "id": "Q6FWnjA_XXZ3",
        "colab": {
          "base_uri": "https://localhost:8080/"
        },
        "outputId": "b9227fff-013b-4366-bf1a-4b520f83b09b"
      },
      "outputs": [
        {
          "output_type": "stream",
          "name": "stdout",
          "text": [
            "['Adult', 'Angiotensin-Converting Enzyme Inhibitors/*administration & dosage', 'Cardiovascular System/drug effects', 'Drug Interactions', 'Enalapril/*administration & dosage', 'Humans', 'Hydroxymethylglutaryl-CoA Reductase Inhibitors/*administration & dosage', 'Hypercholesterolemia/*complications/*drug therapy', 'Hypertension/*complications/*drug therapy', 'Male', 'Simvastatin/*administration & dosage']                                                                                                                                                                                                                                                                                   1\n",
            "['Aged', 'Aged, 80 and over', 'Antihypertensive Agents/adverse effects/*therapeutic use', 'Blood Pressure/drug effects/physiology', 'Female', 'Humans', 'Hypertension/*drug therapy/physiopathology', 'Male', 'Prospective Studies', 'Sweden']                                                                                                                                                                                                                                                                                                                                                                                                                                                           1\n",
            "['Adult', 'Angiotensin II/blood', 'Angiotensin-Converting Enzyme Inhibitors/*therapeutic use', 'Blood Pressure/drug effects', 'Cilazapril/therapeutic use', 'Dihydralazine/therapeutic use', 'Female', 'Humans', 'Hypertension/diet therapy/drug therapy/*physiopathology', 'Kidney/*physiopathology', 'Kidney Function Tests', 'Male', 'Prospective Studies', 'Renin/blood', 'Single-Blind Method', 'Sodium, Dietary/administration & dosage', 'Vasodilator Agents/*therapeutic use']                                                                                                                                                                                                                   1\n",
            "['Adult', 'Albuminuria/drug therapy', 'Angiotensin I/blood', 'Angiotensin II/blood', 'Angiotensin-Converting Enzyme Inhibitors/*therapeutic use', 'Blood Pressure/drug effects', 'Diabetes Mellitus, Type 1/complications/metabolism/physiopathology', 'Diabetic Nephropathies/complications/*drug therapy', 'Double-Blind Method', 'Enalapril/*analogs & derivatives/therapeutic use', 'Endothelium, Vascular/physiology', 'Female', 'Humans', 'Hypertension/*drug therapy/etiology', 'Isradipine/*therapeutic use', 'Lipoproteins/blood', 'Male', 'Middle Aged', 'Potassium/blood/urine', 'Sodium/blood/urine']                                                                                        1\n",
            "['Adult', 'Basement Membrane/drug effects', 'Captopril/*therapeutic use', 'Double-Blind Method', 'Female', 'Glomerulonephritis/complications/*drug therapy', 'Humans', 'Hypertension, Renal/*drug therapy/etiology', 'Kidney Failure, Chronic/*drug therapy/etiology', 'Kidney Glomerulus/drug effects', 'Lisinopril/*therapeutic use', 'Male', 'Middle Aged', 'Prospective Studies', 'Proteinuria/*drug therapy/etiology', 'Renal Circulation/drug effects']                                                                                                                                                                                                                                            1\n",
            "                                                                                                                                                                                                                                                                                                                                                                                                                                                                                                                                                                                                                                                                                                        ..\n",
            "['Aged', 'Angiotensin-Converting Enzyme Inhibitors/*administration & dosage/adverse effects', 'Female', 'Forecasting', 'Humans', 'Hypertension/diagnosis/*drug therapy', 'Male', 'Middle Aged', 'Perindopril/*administration & dosage', 'Primary Prevention/methods', 'Prognosis', 'Randomized Controlled Trials as Topic', 'Risk Assessment', 'Sensitivity and Specificity', 'Severity of Illness Index', 'Stroke/*prevention & control', 'Treatment Outcome', 'United Kingdom', 'Vascular Diseases/diagnosis/*drug therapy']                                                                                                                                                                           1\n",
            "['Aged', 'Angiotensin I/biosynthesis/*drug effects', 'Angiotensin II/biosynthesis/*drug effects', 'Angiotensin-Converting Enzyme Inhibitors/*administration & dosage', 'Biphenyl Compounds/administration & dosage', 'Diabetes Mellitus, Type 1/complications', 'Diabetes Mellitus, Type 2/complications', 'Diabetic Nephropathies/drug therapy/*prevention & control', 'Female', 'Humans', 'Irbesartan', 'Losartan/administration & dosage', 'Male', 'Middle Aged', 'Primary Prevention/methods', 'Prognosis', 'Randomized Controlled Trials as Topic', 'Risk Assessment', 'Sensitivity and Specificity', 'Tetrazoles/administration & dosage', 'Treatment Outcome']                                    1\n",
            "['Aged', 'Albuminuria/complications/drug therapy/metabolism', 'Analysis of Variance', 'Antihypertensive Agents/administration & dosage', 'Diabetes Mellitus, Type 2/complications/*drug therapy/metabolism', 'Double-Blind Method', 'Drug Therapy, Combination', 'Enalapril/*administration & dosage', 'Female', 'Follow-Up Studies', 'Humans', 'Hydrochlorothiazide/*administration & dosage', 'Hypertension/complications/*drug therapy/metabolism', 'Indoles/*administration & dosage', 'Male', 'Middle Aged', 'Multivariate Analysis', 'Probability', 'Prospective Studies', 'Spain', 'Treatment Outcome', 'Verapamil/*administration & dosage']                                                     1\n",
            "['Acrylates/*administration & dosage/*adverse effects', 'Adolescent', 'Adult', 'Aged', 'Angiotensin-Converting Enzyme Inhibitors/administration & dosage/adverse effects', 'Cough/*chemically induced/epidemiology', 'Double-Blind Method', 'Drug Administration Schedule', 'Enalapril/*administration & dosage/*adverse effects', 'Europe', 'Female', 'Follow-Up Studies', 'Humans', 'Hypertension/diagnosis/*drug therapy', 'Imidazoles/*administration & dosage/*adverse effects', 'Incidence', 'Male', 'Middle Aged', 'North America', 'Probability', 'Prospective Studies', '*Quality of Life', 'Risk Factors', 'Severity of Illness Index', 'South Africa', '*Thiophenes', 'Treatment Outcome']    1\n",
            "['Aged', 'Aged, 80 and over', 'Cyclophosphamide/*therapeutic use', 'Dermatologic Agents/*therapeutic use', 'Drug Eruptions/*drug therapy', 'Female', 'Humans', 'Male', 'Middle Aged', 'Stevens-Johnson Syndrome/*drug therapy']                                                                                                                                                                                                                                                                                                                                                                                                                                                                          1\n",
            "Name: MH, Length: 2539, dtype: int64 \n",
            "\n",
            "MEDLINE               2539\n",
            "PubMed-not-MEDLINE       5\n",
            "Name: STAT, dtype: int64 \n",
            "\n",
            "15              68\n",
            "14              65\n",
            "12              62\n",
            "13              61\n",
            "16              59\n",
            "                ..\n",
            "290              1\n",
            "107 Suppl 5      1\n",
            "146              1\n",
            "63 Spec No 1     1\n",
            "339              1\n",
            "Name: VI, Length: 243, dtype: int64 \n",
            "\n",
            "3       314\n",
            "1       311\n",
            "2       301\n",
            "5       250\n",
            "4       239\n",
            "       ... \n",
            "9153      1\n",
            "42        1\n",
            "44        1\n",
            "9268      1\n",
            "9145      1\n",
            "Name: IP, Length: 147, dtype: int64 \n",
            "\n",
            "1994           33\n",
            "2000 Dec       29\n",
            "2001 Feb       26\n",
            "2001 Dec       26\n",
            "2001 Mar       25\n",
            "               ..\n",
            "2002 Nov 20     1\n",
            "2002 Nov 15     1\n",
            "2002 Oct 14     1\n",
            "2002 Sep 7      1\n",
            "1998 Nov 30     1\n",
            "Name: DP, Length: 565, dtype: int64 \n",
            "\n",
            "['Kaplan, N M']                                                       4\n",
            "['Cohen, J S']                                                        4\n",
            "['Deedwania, P C']                                                    3\n",
            "['Vidt, D G']                                                         3\n",
            "['Pitt, B']                                                           3\n",
            "                                                                     ..\n",
            "['Carter, J D', 'Valeriano-Marcet, J', 'Kanik, K S', 'Vasey, F B']    1\n",
            "['Bomann, J Scott', 'Peckler, Bradley F']                             1\n",
            "['Coppo, R', 'Chiesa, M', 'Peruzzi, L', 'Amore, A']                   1\n",
            "['Nyawo, B', 'Sarkar, P']                                             1\n",
            "['Trautmann, A', 'Klein, C E', 'Kampgen, E', 'Brocker, E B']          1\n",
            "Name: FAU, Length: 2452, dtype: int64 \n",
            "\n",
            "['Vidt DG']                                                    4\n",
            "['Cohen JS']                                                   4\n",
            "['Kaplan NM']                                                  4\n",
            "['Weir MR']                                                    3\n",
            "['Kjoller-Hansen L', 'Steffensen R', 'Grande P']               3\n",
            "                                                              ..\n",
            "['Cai X', 'Shen W', 'Gong L']                                  1\n",
            "['Carter JD', 'Valeriano-Marcet J', 'Kanik KS', 'Vasey FB']    1\n",
            "['Bomann JS', 'Peckler BF']                                    1\n",
            "['Coppo R', 'Chiesa M', 'Peruzzi L', 'Amore A']                1\n",
            "['Trautmann A', 'Klein CE', 'Kampgen E', 'Brocker EB']         1\n",
            "Name: AU, Length: 2442, dtype: int64 \n",
            "\n",
            "['Department of Internal Medicine and Therapeutics, University of Pavia, Italy.']                                                                                         10\n",
            "['Adis International Limited, Auckland, New Zealand.']                                                                                                                     9\n",
            "['Adis International Limited, Auckland, New Zealand. demail@adis.co.nz']                                                                                                   8\n",
            "['Department of Pharmacokinetics and Drug Metabolism, Boehringer Ingelheim Pharma KG, Birkendorfer Strasse, D-88397 Biberach an der Riss, Germany.']                       6\n",
            "['Adis International Limited, Mairangi Bay, Auckland, New Zealand. demail@adis.co.nz']                                                                                     6\n",
            "                                                                                                                                                                          ..\n",
            "['Department of Medicine, Turku University Central Hospital, FIN-20520 Turku, Finland. ilkka.kantola@tyks.fi']                                                             1\n",
            "['Institute for Cancer Research, London School of Hygiene and Tropical Medicine (LSHTM), Keppel Street, London WC1E 7HT, UK.']                                             1\n",
            "['Department of Epidemiology and Population Health, London School of Hygiene and Tropical Medicine, Keppel Street, London WC1E 7HT, UK. elizabeth.breeze@lshtm.ac.uk']     1\n",
            "['Medical Department, Laboratorios Knoll, S.A. 28050 Madrid, Spain. raul.fernandez@knoll.de']                                                                              1\n",
            "['Department of Dermatology, Hopital Henri Mondor, Universite Paris XII, Creteil, France. choquet@cimac-res.univ-lyon1.fr']                                                1\n",
            "Name: AD, Length: 2206, dtype: int64 \n",
            "\n",
            "['eng']           2513\n",
            "['fre']              7\n",
            "['pol']              7\n",
            "['eng', 'por']       4\n",
            "['spa']              3\n",
            "['dan']              2\n",
            "['ger']              1\n",
            "['eng', 'fre']       1\n",
            "['eng', 'ita']       1\n",
            "['rus']              1\n",
            "['hrv']              1\n",
            "['jpn']              1\n",
            "['nor']              1\n",
            "['ita']              1\n",
            "Name: LA, dtype: int64 \n",
            "\n",
            "['Journal Article', 'Review']                                                                                                         284\n",
            "['Clinical Trial', 'Journal Article', 'Randomized Controlled Trial']                                                                  233\n",
            "['Clinical Trial', 'Journal Article', 'Randomized Controlled Trial', \"Research Support, Non-U.S. Gov't\"]                              231\n",
            "['Clinical Trial', 'Comparative Study', 'Journal Article', 'Randomized Controlled Trial', \"Research Support, Non-U.S. Gov't\"]         186\n",
            "['Clinical Trial', 'Comparative Study', 'Journal Article', 'Randomized Controlled Trial']                                             170\n",
            "                                                                                                                                     ... \n",
            "['Clinical Trial', 'Comparative Study', 'Evaluation Study', 'Journal Article', 'Multicenter Study', 'Randomized Controlled Trial']      1\n",
            "['Journal Article', \"Research Support, U.S. Gov't, Non-P.H.S.\", 'Review']                                                               1\n",
            "['Journal Article', \"Research Support, U.S. Gov't, Non-P.H.S.\"]                                                                         1\n",
            "['Clinical Trial', 'Comparative Study', 'Controlled Clinical Trial', 'English Abstract', 'Journal Article']                             1\n",
            "['Clinical Trial', 'Comparative Study', 'Journal Article', 'Meta-Analysis', 'Multicenter Study', 'Randomized Controlled Trial']         1\n",
            "Name: PT, Length: 173, dtype: int64 \n",
            "\n",
            "United States                1253\n",
            "England                       786\n",
            "Germany                        92\n",
            "New Zealand                    83\n",
            "Switzerland                    80\n",
            "Netherlands                    42\n",
            "India                          26\n",
            "Italy                          23\n",
            "Australia                      22\n",
            "Sweden                         20\n",
            "France                         18\n",
            "Japan                          15\n",
            "China                          14\n",
            "Canada                         11\n",
            "Poland                          8\n",
            "Denmark                         8\n",
            "South Africa                    5\n",
            "Thailand                        5\n",
            "Brazil                          4\n",
            "Ireland                         4\n",
            "Austria                         4\n",
            "Spain                           3\n",
            "Hungary                         2\n",
            "Greece                          1\n",
            "Norway                          1\n",
            "China (Republic : 1949- )       1\n",
            "Portugal                        1\n",
            "Israel                          1\n",
            "Zimbabwe                        1\n",
            "Scotland                        1\n",
            "Singapore                       1\n",
            "Korea (South)                   1\n",
            "Saudi Arabia                    1\n",
            "Croatia                         1\n",
            "Argentina                       1\n",
            "Belgium                         1\n",
            "Russia (Federation)             1\n",
            "Mexico                          1\n",
            "Nigeria                         1\n",
            "Name: PL, dtype: int64 \n",
            "\n",
            "Am J Hypertens                115\n",
            "J Hum Hypertens               114\n",
            "Am J Cardiol                   99\n",
            "Circulation                    86\n",
            "J Hypertens                    83\n",
            "                             ... \n",
            "Anticancer Drugs                1\n",
            "J R Soc Promot Health           1\n",
            "Int J Geriatr Psychiatry        1\n",
            "Eur J Nucl Med Mol Imaging      1\n",
            "J Card Surg                     1\n",
            "Name: TA, Length: 393, dtype: int64 \n",
            "\n",
            "American journal of hypertension                                115\n",
            "Journal of human hypertension                                   114\n",
            "The American journal of cardiology                               99\n",
            "Circulation                                                      86\n",
            "Journal of hypertension                                          83\n",
            "                                                               ... \n",
            "Anti-cancer drugs                                                 1\n",
            "The journal of the Royal Society for the Promotion of Health      1\n",
            "International journal of geriatric psychiatry                     1\n",
            "European journal of nuclear medicine and molecular imaging        1\n",
            "Journal of cardiac surgery                                        1\n",
            "Name: JT, Length: 393, dtype: int64 \n",
            "\n"
          ]
        }
      ],
      "source": [
        "#value counts\n",
        "variables = [\"MH\", \"STAT\", \"VI\", \"IP\", \"DP\", \"FAU\", \"AU\", \"AD\", \"LA\", \"PT\", \"PL\", \"TA\", \"JT\"] \n",
        "methods.print_value_counts(l=variables, df=dataset[\"ace\"])"
      ]
    },
    {
      "cell_type": "code",
      "execution_count": 7,
      "metadata": {
        "id": "muFDkIS5TqxF",
        "colab": {
          "base_uri": "https://localhost:8080/"
        },
        "outputId": "ca841d5b-c4b7-49fc-dcad-10d0a560b8f3"
      },
      "outputs": [
        {
          "output_type": "stream",
          "name": "stdout",
          "text": [
            "0    2503\n",
            "1      41\n",
            "Name: Label, dtype: int64 \n",
            "\n"
          ]
        }
      ],
      "source": [
        "#target distribution\n",
        "methods.print_value_counts([\"Label\"], dataset[\"ace\"])\n",
        "\n",
        "#renaming columns\n",
        "names = {\"DP\" : \"publication_date\", \"FAU\" : \"full_authors\", \"PT\" : \"publication_type\", \"PL\" : \"publication_place\", \"TA\" : \"journal_title_abbreviation\", \"MH\" : \"mesh_terms\"}\n",
        "methods.rename_columns(names=names, df=dataset[\"ace\"])\n",
        "\n",
        "#column selection\n",
        "selected_columns = [\"publication_date\", \"full_authors\", \"publication_type\", \"publication_place\", \"journal_title_abbreviation\", \"Title\", \"Abstract\", \"mesh_terms\", \"Label\"]\n",
        "dataset[\"ace\"] = dataset[\"ace\"][selected_columns]"
      ]
    },
    {
      "cell_type": "markdown",
      "metadata": {
        "id": "DX9ck0bLzE80"
      },
      "source": [
        "### Chronic obstructive pulmonary disease (COPD) dataset"
      ]
    },
    {
      "cell_type": "code",
      "execution_count": 8,
      "metadata": {
        "id": "y6sNrFR_zRiK",
        "colab": {
          "base_uri": "https://localhost:8080/",
          "height": 0
        },
        "outputId": "0d3c2d82-8f5a-45d2-b442-6c10390827b1"
      },
      "outputs": [
        {
          "output_type": "stream",
          "name": "stdout",
          "text": [
            "(1606, 3)\n"
          ]
        },
        {
          "output_type": "display_data",
          "data": {
            "text/plain": [
              "   Label                                              Title  \\\n",
              "0      0  the soluble form of a disintegrin and metallop...   \n",
              "1      1  interactive effect of paraoxonase-1 q192r poly...   \n",
              "2      0  trx-ask1-jnk signaling regulation of cell dens...   \n",
              "\n",
              "                                            Abstract  \n",
              "0  the soluble form of a disintegrin and metallop...  \n",
              "1  interactive effect of paraoxonase-1 q192r poly...  \n",
              "2  trx-ask1-jnk signaling regulation of cell dens...  "
            ],
            "text/html": [
              "\n",
              "  <div id=\"df-016d951a-e1d5-4078-b25e-2cf84ccca5c6\">\n",
              "    <div class=\"colab-df-container\">\n",
              "      <div>\n",
              "<style scoped>\n",
              "    .dataframe tbody tr th:only-of-type {\n",
              "        vertical-align: middle;\n",
              "    }\n",
              "\n",
              "    .dataframe tbody tr th {\n",
              "        vertical-align: top;\n",
              "    }\n",
              "\n",
              "    .dataframe thead th {\n",
              "        text-align: right;\n",
              "    }\n",
              "</style>\n",
              "<table border=\"1\" class=\"dataframe\">\n",
              "  <thead>\n",
              "    <tr style=\"text-align: right;\">\n",
              "      <th></th>\n",
              "      <th>Label</th>\n",
              "      <th>Title</th>\n",
              "      <th>Abstract</th>\n",
              "    </tr>\n",
              "  </thead>\n",
              "  <tbody>\n",
              "    <tr>\n",
              "      <th>0</th>\n",
              "      <td>0</td>\n",
              "      <td>the soluble form of a disintegrin and metallop...</td>\n",
              "      <td>the soluble form of a disintegrin and metallop...</td>\n",
              "    </tr>\n",
              "    <tr>\n",
              "      <th>1</th>\n",
              "      <td>1</td>\n",
              "      <td>interactive effect of paraoxonase-1 q192r poly...</td>\n",
              "      <td>interactive effect of paraoxonase-1 q192r poly...</td>\n",
              "    </tr>\n",
              "    <tr>\n",
              "      <th>2</th>\n",
              "      <td>0</td>\n",
              "      <td>trx-ask1-jnk signaling regulation of cell dens...</td>\n",
              "      <td>trx-ask1-jnk signaling regulation of cell dens...</td>\n",
              "    </tr>\n",
              "  </tbody>\n",
              "</table>\n",
              "</div>\n",
              "      <button class=\"colab-df-convert\" onclick=\"convertToInteractive('df-016d951a-e1d5-4078-b25e-2cf84ccca5c6')\"\n",
              "              title=\"Convert this dataframe to an interactive table.\"\n",
              "              style=\"display:none;\">\n",
              "        \n",
              "  <svg xmlns=\"http://www.w3.org/2000/svg\" height=\"24px\"viewBox=\"0 0 24 24\"\n",
              "       width=\"24px\">\n",
              "    <path d=\"M0 0h24v24H0V0z\" fill=\"none\"/>\n",
              "    <path d=\"M18.56 5.44l.94 2.06.94-2.06 2.06-.94-2.06-.94-.94-2.06-.94 2.06-2.06.94zm-11 1L8.5 8.5l.94-2.06 2.06-.94-2.06-.94L8.5 2.5l-.94 2.06-2.06.94zm10 10l.94 2.06.94-2.06 2.06-.94-2.06-.94-.94-2.06-.94 2.06-2.06.94z\"/><path d=\"M17.41 7.96l-1.37-1.37c-.4-.4-.92-.59-1.43-.59-.52 0-1.04.2-1.43.59L10.3 9.45l-7.72 7.72c-.78.78-.78 2.05 0 2.83L4 21.41c.39.39.9.59 1.41.59.51 0 1.02-.2 1.41-.59l7.78-7.78 2.81-2.81c.8-.78.8-2.07 0-2.86zM5.41 20L4 18.59l7.72-7.72 1.47 1.35L5.41 20z\"/>\n",
              "  </svg>\n",
              "      </button>\n",
              "      \n",
              "  <style>\n",
              "    .colab-df-container {\n",
              "      display:flex;\n",
              "      flex-wrap:wrap;\n",
              "      gap: 12px;\n",
              "    }\n",
              "\n",
              "    .colab-df-convert {\n",
              "      background-color: #E8F0FE;\n",
              "      border: none;\n",
              "      border-radius: 50%;\n",
              "      cursor: pointer;\n",
              "      display: none;\n",
              "      fill: #1967D2;\n",
              "      height: 32px;\n",
              "      padding: 0 0 0 0;\n",
              "      width: 32px;\n",
              "    }\n",
              "\n",
              "    .colab-df-convert:hover {\n",
              "      background-color: #E2EBFA;\n",
              "      box-shadow: 0px 1px 2px rgba(60, 64, 67, 0.3), 0px 1px 3px 1px rgba(60, 64, 67, 0.15);\n",
              "      fill: #174EA6;\n",
              "    }\n",
              "\n",
              "    [theme=dark] .colab-df-convert {\n",
              "      background-color: #3B4455;\n",
              "      fill: #D2E3FC;\n",
              "    }\n",
              "\n",
              "    [theme=dark] .colab-df-convert:hover {\n",
              "      background-color: #434B5C;\n",
              "      box-shadow: 0px 1px 3px 1px rgba(0, 0, 0, 0.15);\n",
              "      filter: drop-shadow(0px 1px 2px rgba(0, 0, 0, 0.3));\n",
              "      fill: #FFFFFF;\n",
              "    }\n",
              "  </style>\n",
              "\n",
              "      <script>\n",
              "        const buttonEl =\n",
              "          document.querySelector('#df-016d951a-e1d5-4078-b25e-2cf84ccca5c6 button.colab-df-convert');\n",
              "        buttonEl.style.display =\n",
              "          google.colab.kernel.accessAllowed ? 'block' : 'none';\n",
              "\n",
              "        async function convertToInteractive(key) {\n",
              "          const element = document.querySelector('#df-016d951a-e1d5-4078-b25e-2cf84ccca5c6');\n",
              "          const dataTable =\n",
              "            await google.colab.kernel.invokeFunction('convertToInteractive',\n",
              "                                                     [key], {});\n",
              "          if (!dataTable) return;\n",
              "\n",
              "          const docLinkHtml = 'Like what you see? Visit the ' +\n",
              "            '<a target=\"_blank\" href=https://colab.research.google.com/notebooks/data_table.ipynb>data table notebook</a>'\n",
              "            + ' to learn more about interactive tables.';\n",
              "          element.innerHTML = '';\n",
              "          dataTable['output_type'] = 'display_data';\n",
              "          await google.colab.output.renderOutput(dataTable, element);\n",
              "          const docLink = document.createElement('div');\n",
              "          docLink.innerHTML = docLinkHtml;\n",
              "          element.appendChild(docLink);\n",
              "        }\n",
              "      </script>\n",
              "    </div>\n",
              "  </div>\n",
              "  "
            ]
          },
          "metadata": {}
        }
      ],
      "source": [
        "#import of copd dataset\n",
        "dataset[\"copd\"] = pd.read_csv(path + \"/copd.tsv\", sep='\\t')\n",
        "print(dataset[\"copd\"].shape)\n",
        "display(dataset[\"copd\"].head(3))"
      ]
    },
    {
      "cell_type": "code",
      "execution_count": 9,
      "metadata": {
        "id": "DQhCOw5IdeTs",
        "colab": {
          "base_uri": "https://localhost:8080/"
        },
        "outputId": "f11e2a8b-06f4-4d3b-b47a-b0c720029e78"
      },
      "outputs": [
        {
          "output_type": "stream",
          "name": "stdout",
          "text": [
            "True\n"
          ]
        }
      ],
      "source": [
        "#check if Title is identical to Abstract\n",
        "print(all(dataset[\"copd\"][\"Title\"] == dataset[\"copd\"][\"Abstract\"]))\n",
        "dataset[\"copd\"].drop('Title', inplace=True, axis=1) #drop Title"
      ]
    },
    {
      "cell_type": "code",
      "execution_count": 10,
      "metadata": {
        "id": "SNl0zaUw0xpy",
        "colab": {
          "base_uri": "https://localhost:8080/"
        },
        "outputId": "6ed5f00c-6d74-421b-fefb-877890898f9d"
      },
      "outputs": [
        {
          "output_type": "stream",
          "name": "stdout",
          "text": [
            "0    1410\n",
            "1     196\n",
            "Name: Label, dtype: int64 \n",
            "\n"
          ]
        }
      ],
      "source": [
        "#target distribution\n",
        "methods.print_value_counts([\"Label\"], dataset[\"copd\"])"
      ]
    },
    {
      "cell_type": "markdown",
      "metadata": {
        "id": "J3XciWFBz4T0"
      },
      "source": [
        "### Proton Pump Inhibitors dataset"
      ]
    },
    {
      "cell_type": "code",
      "execution_count": 11,
      "metadata": {
        "id": "1K8scU9w0IN0",
        "colab": {
          "base_uri": "https://localhost:8080/",
          "height": 502
        },
        "outputId": "6797e3b2-a243-43d9-a430-c46721b5d84f"
      },
      "outputs": [
        {
          "output_type": "stream",
          "name": "stdout",
          "text": [
            "(1333, 48)\n"
          ]
        },
        {
          "output_type": "display_data",
          "data": {
            "text/plain": [
              "       PMID  OWN     STAT      DCOM        LR  \\\n",
              "0  10024259  NLM  MEDLINE  19990324  20190504   \n",
              "1  10027653  NLM  MEDLINE  19990506  20190813   \n",
              "2  10029360  NLM  MEDLINE  19990421  20191102   \n",
              "\n",
              "                                      IS   VI    IP           DP  \\\n",
              "0  0959-8138 (Print) 0959-8138 (Linking)  318  7182  1999 Feb 20   \n",
              "1  0031-6970 (Print) 0031-6970 (Linking)   54    11     1999 Jan   \n",
              "2  1102-416X (Print) 1102-416X (Linking)  NaN   582         1998   \n",
              "\n",
              "                                               Title      PG  \\\n",
              "0  Symptomatic gastro-oesophageal reflux disease:...   502-7   \n",
              "1  Helicobacter pylori clearance and serum gastri...  817-20   \n",
              "2  Antimicrobial treatment of H. pylori infection...   16-26   \n",
              "\n",
              "                                            Abstract  \\\n",
              "0  OBJECTIVE: To assess intermittent treatment ov...   \n",
              "1  OBJECTIVE: To determine which demographic fact...   \n",
              "2  OBJECTIVE: To evaluate the clinical efficacy o...   \n",
              "\n",
              "                                                 FAU  \\\n",
              "0  ['Bardhan, K D', 'Muller-Lissner, S', 'Bigard,...   \n",
              "1  ['Lee, C T', 'Kuo, B I', 'Chen, C Y', 'Chang, ...   \n",
              "2                                        ['Unge, P']   \n",
              "\n",
              "                                                  AU  \\\n",
              "0  ['Bardhan KD', 'Muller-Lissner S', 'Bigard MA'...   \n",
              "1  ['Lee CT', 'Kuo BI', 'Chen CY', 'Chang FY', 'L...   \n",
              "2                                         ['Unge P']   \n",
              "\n",
              "                                                  AD       LA  \\\n",
              "0  ['Rotherham General Hospitals NHS Trust, Rothe...  ['eng']   \n",
              "1  ['Department of Medicine, Veterans General Hos...  ['eng']   \n",
              "2  ['Department of Medicine, Lanssjukhuset Gavle ...  ['eng']   \n",
              "\n",
              "                                  GR  \\\n",
              "0  ['Wellcome Trust/United Kingdom']   \n",
              "1                                NaN   \n",
              "2                                NaN   \n",
              "\n",
              "                                                  PT       PL  \\\n",
              "0  ['Clinical Trial', 'Comparative Study', 'Journ...  England   \n",
              "1              ['Clinical Trial', 'Journal Article']  Germany   \n",
              "2               ['Journal Article', 'Meta-Analysis']  England   \n",
              "\n",
              "                     TA                                                 JT  \\\n",
              "0                   BMJ                        BMJ (Clinical research ed.)   \n",
              "1  Eur J Clin Pharmacol          European journal of clinical pharmacology   \n",
              "2      Eur J Surg Suppl  The European journal of surgery. Supplement. :...   \n",
              "\n",
              "       JID                                                 RN      SB  \\\n",
              "0  8900488  ['0 (Anti-Ulcer Agents)', '884KT10YB7 (Ranitid...  AIM IM   \n",
              "1  1256165  ['0 (Gastrins)', '9001-10-9 (Pepsinogen A)', '...      IM   \n",
              "2  9114489  ['0 (Antacids)', '0 (Anti-Bacterial Agents)', ...      IM   \n",
              "\n",
              "                                                  MH       PMC  \\\n",
              "0  ['Adult', 'Aged', 'Anti-Ulcer Agents/*therapeu...  PMC27748   \n",
              "1  ['Adult', 'Age Factors', 'Aged', 'Duodenal Ulc...       NaN   \n",
              "2  ['Antacids/therapeutic use', 'Anti-Bacterial A...       NaN   \n",
              "\n",
              "               EDAT              MHDA                  CRDT  \\\n",
              "0  1999/02/19 00:00  1999/02/19 00:01  ['1999/02/19 00:00']   \n",
              "1  1999/02/23 00:00  1999/02/23 00:01  ['1999/02/23 00:00']   \n",
              "2  1999/02/24 00:00  1999/02/24 00:01  ['1999/02/24 00:00']   \n",
              "\n",
              "                                                PHST  \\\n",
              "0  ['1999/02/19 00:00 [pubmed]', '1999/02/19 00:0...   \n",
              "1  ['1999/02/23 00:00 [pubmed]', '1999/02/23 00:0...   \n",
              "2  ['1999/02/24 00:00 [pubmed]', '1999/02/24 00:0...   \n",
              "\n",
              "                                   AID       PST  \\\n",
              "0   ['10.1136/bmj.318.7182.502 [doi]']  ppublish   \n",
              "1      ['10.1007/s002280050559 [doi]']  ppublish   \n",
              "2  ['10.1080/11024159850191391 [doi]']  ppublish   \n",
              "\n",
              "                                                  SO  RF  EIN  CON  CIN   CI  \\\n",
              "0  BMJ. 1999 Feb 20;318(7182):502-7. doi: 10.1136... NaN  NaN  NaN  NaN  NaN   \n",
              "1  Eur J Clin Pharmacol. 1999 Jan;54(11):817-20. ... NaN  NaN  NaN  NaN  NaN   \n",
              "2  Eur J Surg Suppl. 1998;(582):16-26. doi: 10.10... NaN  NaN  NaN  NaN  NaN   \n",
              "\n",
              "    CN  MID   TT  DEP  OID  OTO   OT   GN  UIN  Label  \n",
              "0  NaN  NaN  NaN  NaN  NaN  NaN  NaN  NaN  NaN      0  \n",
              "1  NaN  NaN  NaN  NaN  NaN  NaN  NaN  NaN  NaN      0  \n",
              "2  NaN  NaN  NaN  NaN  NaN  NaN  NaN  NaN  NaN      0  "
            ],
            "text/html": [
              "\n",
              "  <div id=\"df-cc47f9c7-3949-40a9-88ef-d07c7a13a0e1\">\n",
              "    <div class=\"colab-df-container\">\n",
              "      <div>\n",
              "<style scoped>\n",
              "    .dataframe tbody tr th:only-of-type {\n",
              "        vertical-align: middle;\n",
              "    }\n",
              "\n",
              "    .dataframe tbody tr th {\n",
              "        vertical-align: top;\n",
              "    }\n",
              "\n",
              "    .dataframe thead th {\n",
              "        text-align: right;\n",
              "    }\n",
              "</style>\n",
              "<table border=\"1\" class=\"dataframe\">\n",
              "  <thead>\n",
              "    <tr style=\"text-align: right;\">\n",
              "      <th></th>\n",
              "      <th>PMID</th>\n",
              "      <th>OWN</th>\n",
              "      <th>STAT</th>\n",
              "      <th>DCOM</th>\n",
              "      <th>LR</th>\n",
              "      <th>IS</th>\n",
              "      <th>VI</th>\n",
              "      <th>IP</th>\n",
              "      <th>DP</th>\n",
              "      <th>Title</th>\n",
              "      <th>PG</th>\n",
              "      <th>Abstract</th>\n",
              "      <th>FAU</th>\n",
              "      <th>AU</th>\n",
              "      <th>AD</th>\n",
              "      <th>LA</th>\n",
              "      <th>GR</th>\n",
              "      <th>PT</th>\n",
              "      <th>PL</th>\n",
              "      <th>TA</th>\n",
              "      <th>JT</th>\n",
              "      <th>JID</th>\n",
              "      <th>RN</th>\n",
              "      <th>SB</th>\n",
              "      <th>MH</th>\n",
              "      <th>PMC</th>\n",
              "      <th>EDAT</th>\n",
              "      <th>MHDA</th>\n",
              "      <th>CRDT</th>\n",
              "      <th>PHST</th>\n",
              "      <th>AID</th>\n",
              "      <th>PST</th>\n",
              "      <th>SO</th>\n",
              "      <th>RF</th>\n",
              "      <th>EIN</th>\n",
              "      <th>CON</th>\n",
              "      <th>CIN</th>\n",
              "      <th>CI</th>\n",
              "      <th>CN</th>\n",
              "      <th>MID</th>\n",
              "      <th>TT</th>\n",
              "      <th>DEP</th>\n",
              "      <th>OID</th>\n",
              "      <th>OTO</th>\n",
              "      <th>OT</th>\n",
              "      <th>GN</th>\n",
              "      <th>UIN</th>\n",
              "      <th>Label</th>\n",
              "    </tr>\n",
              "  </thead>\n",
              "  <tbody>\n",
              "    <tr>\n",
              "      <th>0</th>\n",
              "      <td>10024259</td>\n",
              "      <td>NLM</td>\n",
              "      <td>MEDLINE</td>\n",
              "      <td>19990324</td>\n",
              "      <td>20190504</td>\n",
              "      <td>0959-8138 (Print) 0959-8138 (Linking)</td>\n",
              "      <td>318</td>\n",
              "      <td>7182</td>\n",
              "      <td>1999 Feb 20</td>\n",
              "      <td>Symptomatic gastro-oesophageal reflux disease:...</td>\n",
              "      <td>502-7</td>\n",
              "      <td>OBJECTIVE: To assess intermittent treatment ov...</td>\n",
              "      <td>['Bardhan, K D', 'Muller-Lissner, S', 'Bigard,...</td>\n",
              "      <td>['Bardhan KD', 'Muller-Lissner S', 'Bigard MA'...</td>\n",
              "      <td>['Rotherham General Hospitals NHS Trust, Rothe...</td>\n",
              "      <td>['eng']</td>\n",
              "      <td>['Wellcome Trust/United Kingdom']</td>\n",
              "      <td>['Clinical Trial', 'Comparative Study', 'Journ...</td>\n",
              "      <td>England</td>\n",
              "      <td>BMJ</td>\n",
              "      <td>BMJ (Clinical research ed.)</td>\n",
              "      <td>8900488</td>\n",
              "      <td>['0 (Anti-Ulcer Agents)', '884KT10YB7 (Ranitid...</td>\n",
              "      <td>AIM IM</td>\n",
              "      <td>['Adult', 'Aged', 'Anti-Ulcer Agents/*therapeu...</td>\n",
              "      <td>PMC27748</td>\n",
              "      <td>1999/02/19 00:00</td>\n",
              "      <td>1999/02/19 00:01</td>\n",
              "      <td>['1999/02/19 00:00']</td>\n",
              "      <td>['1999/02/19 00:00 [pubmed]', '1999/02/19 00:0...</td>\n",
              "      <td>['10.1136/bmj.318.7182.502 [doi]']</td>\n",
              "      <td>ppublish</td>\n",
              "      <td>BMJ. 1999 Feb 20;318(7182):502-7. doi: 10.1136...</td>\n",
              "      <td>NaN</td>\n",
              "      <td>NaN</td>\n",
              "      <td>NaN</td>\n",
              "      <td>NaN</td>\n",
              "      <td>NaN</td>\n",
              "      <td>NaN</td>\n",
              "      <td>NaN</td>\n",
              "      <td>NaN</td>\n",
              "      <td>NaN</td>\n",
              "      <td>NaN</td>\n",
              "      <td>NaN</td>\n",
              "      <td>NaN</td>\n",
              "      <td>NaN</td>\n",
              "      <td>NaN</td>\n",
              "      <td>0</td>\n",
              "    </tr>\n",
              "    <tr>\n",
              "      <th>1</th>\n",
              "      <td>10027653</td>\n",
              "      <td>NLM</td>\n",
              "      <td>MEDLINE</td>\n",
              "      <td>19990506</td>\n",
              "      <td>20190813</td>\n",
              "      <td>0031-6970 (Print) 0031-6970 (Linking)</td>\n",
              "      <td>54</td>\n",
              "      <td>11</td>\n",
              "      <td>1999 Jan</td>\n",
              "      <td>Helicobacter pylori clearance and serum gastri...</td>\n",
              "      <td>817-20</td>\n",
              "      <td>OBJECTIVE: To determine which demographic fact...</td>\n",
              "      <td>['Lee, C T', 'Kuo, B I', 'Chen, C Y', 'Chang, ...</td>\n",
              "      <td>['Lee CT', 'Kuo BI', 'Chen CY', 'Chang FY', 'L...</td>\n",
              "      <td>['Department of Medicine, Veterans General Hos...</td>\n",
              "      <td>['eng']</td>\n",
              "      <td>NaN</td>\n",
              "      <td>['Clinical Trial', 'Journal Article']</td>\n",
              "      <td>Germany</td>\n",
              "      <td>Eur J Clin Pharmacol</td>\n",
              "      <td>European journal of clinical pharmacology</td>\n",
              "      <td>1256165</td>\n",
              "      <td>['0 (Gastrins)', '9001-10-9 (Pepsinogen A)', '...</td>\n",
              "      <td>IM</td>\n",
              "      <td>['Adult', 'Age Factors', 'Aged', 'Duodenal Ulc...</td>\n",
              "      <td>NaN</td>\n",
              "      <td>1999/02/23 00:00</td>\n",
              "      <td>1999/02/23 00:01</td>\n",
              "      <td>['1999/02/23 00:00']</td>\n",
              "      <td>['1999/02/23 00:00 [pubmed]', '1999/02/23 00:0...</td>\n",
              "      <td>['10.1007/s002280050559 [doi]']</td>\n",
              "      <td>ppublish</td>\n",
              "      <td>Eur J Clin Pharmacol. 1999 Jan;54(11):817-20. ...</td>\n",
              "      <td>NaN</td>\n",
              "      <td>NaN</td>\n",
              "      <td>NaN</td>\n",
              "      <td>NaN</td>\n",
              "      <td>NaN</td>\n",
              "      <td>NaN</td>\n",
              "      <td>NaN</td>\n",
              "      <td>NaN</td>\n",
              "      <td>NaN</td>\n",
              "      <td>NaN</td>\n",
              "      <td>NaN</td>\n",
              "      <td>NaN</td>\n",
              "      <td>NaN</td>\n",
              "      <td>NaN</td>\n",
              "      <td>0</td>\n",
              "    </tr>\n",
              "    <tr>\n",
              "      <th>2</th>\n",
              "      <td>10029360</td>\n",
              "      <td>NLM</td>\n",
              "      <td>MEDLINE</td>\n",
              "      <td>19990421</td>\n",
              "      <td>20191102</td>\n",
              "      <td>1102-416X (Print) 1102-416X (Linking)</td>\n",
              "      <td>NaN</td>\n",
              "      <td>582</td>\n",
              "      <td>1998</td>\n",
              "      <td>Antimicrobial treatment of H. pylori infection...</td>\n",
              "      <td>16-26</td>\n",
              "      <td>OBJECTIVE: To evaluate the clinical efficacy o...</td>\n",
              "      <td>['Unge, P']</td>\n",
              "      <td>['Unge P']</td>\n",
              "      <td>['Department of Medicine, Lanssjukhuset Gavle ...</td>\n",
              "      <td>['eng']</td>\n",
              "      <td>NaN</td>\n",
              "      <td>['Journal Article', 'Meta-Analysis']</td>\n",
              "      <td>England</td>\n",
              "      <td>Eur J Surg Suppl</td>\n",
              "      <td>The European journal of surgery. Supplement. :...</td>\n",
              "      <td>9114489</td>\n",
              "      <td>['0 (Antacids)', '0 (Anti-Bacterial Agents)', ...</td>\n",
              "      <td>IM</td>\n",
              "      <td>['Antacids/therapeutic use', 'Anti-Bacterial A...</td>\n",
              "      <td>NaN</td>\n",
              "      <td>1999/02/24 00:00</td>\n",
              "      <td>1999/02/24 00:01</td>\n",
              "      <td>['1999/02/24 00:00']</td>\n",
              "      <td>['1999/02/24 00:00 [pubmed]', '1999/02/24 00:0...</td>\n",
              "      <td>['10.1080/11024159850191391 [doi]']</td>\n",
              "      <td>ppublish</td>\n",
              "      <td>Eur J Surg Suppl. 1998;(582):16-26. doi: 10.10...</td>\n",
              "      <td>NaN</td>\n",
              "      <td>NaN</td>\n",
              "      <td>NaN</td>\n",
              "      <td>NaN</td>\n",
              "      <td>NaN</td>\n",
              "      <td>NaN</td>\n",
              "      <td>NaN</td>\n",
              "      <td>NaN</td>\n",
              "      <td>NaN</td>\n",
              "      <td>NaN</td>\n",
              "      <td>NaN</td>\n",
              "      <td>NaN</td>\n",
              "      <td>NaN</td>\n",
              "      <td>NaN</td>\n",
              "      <td>0</td>\n",
              "    </tr>\n",
              "  </tbody>\n",
              "</table>\n",
              "</div>\n",
              "      <button class=\"colab-df-convert\" onclick=\"convertToInteractive('df-cc47f9c7-3949-40a9-88ef-d07c7a13a0e1')\"\n",
              "              title=\"Convert this dataframe to an interactive table.\"\n",
              "              style=\"display:none;\">\n",
              "        \n",
              "  <svg xmlns=\"http://www.w3.org/2000/svg\" height=\"24px\"viewBox=\"0 0 24 24\"\n",
              "       width=\"24px\">\n",
              "    <path d=\"M0 0h24v24H0V0z\" fill=\"none\"/>\n",
              "    <path d=\"M18.56 5.44l.94 2.06.94-2.06 2.06-.94-2.06-.94-.94-2.06-.94 2.06-2.06.94zm-11 1L8.5 8.5l.94-2.06 2.06-.94-2.06-.94L8.5 2.5l-.94 2.06-2.06.94zm10 10l.94 2.06.94-2.06 2.06-.94-2.06-.94-.94-2.06-.94 2.06-2.06.94z\"/><path d=\"M17.41 7.96l-1.37-1.37c-.4-.4-.92-.59-1.43-.59-.52 0-1.04.2-1.43.59L10.3 9.45l-7.72 7.72c-.78.78-.78 2.05 0 2.83L4 21.41c.39.39.9.59 1.41.59.51 0 1.02-.2 1.41-.59l7.78-7.78 2.81-2.81c.8-.78.8-2.07 0-2.86zM5.41 20L4 18.59l7.72-7.72 1.47 1.35L5.41 20z\"/>\n",
              "  </svg>\n",
              "      </button>\n",
              "      \n",
              "  <style>\n",
              "    .colab-df-container {\n",
              "      display:flex;\n",
              "      flex-wrap:wrap;\n",
              "      gap: 12px;\n",
              "    }\n",
              "\n",
              "    .colab-df-convert {\n",
              "      background-color: #E8F0FE;\n",
              "      border: none;\n",
              "      border-radius: 50%;\n",
              "      cursor: pointer;\n",
              "      display: none;\n",
              "      fill: #1967D2;\n",
              "      height: 32px;\n",
              "      padding: 0 0 0 0;\n",
              "      width: 32px;\n",
              "    }\n",
              "\n",
              "    .colab-df-convert:hover {\n",
              "      background-color: #E2EBFA;\n",
              "      box-shadow: 0px 1px 2px rgba(60, 64, 67, 0.3), 0px 1px 3px 1px rgba(60, 64, 67, 0.15);\n",
              "      fill: #174EA6;\n",
              "    }\n",
              "\n",
              "    [theme=dark] .colab-df-convert {\n",
              "      background-color: #3B4455;\n",
              "      fill: #D2E3FC;\n",
              "    }\n",
              "\n",
              "    [theme=dark] .colab-df-convert:hover {\n",
              "      background-color: #434B5C;\n",
              "      box-shadow: 0px 1px 3px 1px rgba(0, 0, 0, 0.15);\n",
              "      filter: drop-shadow(0px 1px 2px rgba(0, 0, 0, 0.3));\n",
              "      fill: #FFFFFF;\n",
              "    }\n",
              "  </style>\n",
              "\n",
              "      <script>\n",
              "        const buttonEl =\n",
              "          document.querySelector('#df-cc47f9c7-3949-40a9-88ef-d07c7a13a0e1 button.colab-df-convert');\n",
              "        buttonEl.style.display =\n",
              "          google.colab.kernel.accessAllowed ? 'block' : 'none';\n",
              "\n",
              "        async function convertToInteractive(key) {\n",
              "          const element = document.querySelector('#df-cc47f9c7-3949-40a9-88ef-d07c7a13a0e1');\n",
              "          const dataTable =\n",
              "            await google.colab.kernel.invokeFunction('convertToInteractive',\n",
              "                                                     [key], {});\n",
              "          if (!dataTable) return;\n",
              "\n",
              "          const docLinkHtml = 'Like what you see? Visit the ' +\n",
              "            '<a target=\"_blank\" href=https://colab.research.google.com/notebooks/data_table.ipynb>data table notebook</a>'\n",
              "            + ' to learn more about interactive tables.';\n",
              "          element.innerHTML = '';\n",
              "          dataTable['output_type'] = 'display_data';\n",
              "          await google.colab.output.renderOutput(dataTable, element);\n",
              "          const docLink = document.createElement('div');\n",
              "          docLink.innerHTML = docLinkHtml;\n",
              "          element.appendChild(docLink);\n",
              "        }\n",
              "      </script>\n",
              "    </div>\n",
              "  </div>\n",
              "  "
            ]
          },
          "metadata": {}
        }
      ],
      "source": [
        "#import of ppi dataset\n",
        "dataset[\"ppi\"] = pd.read_csv(path + \"/ProtonPumpInhibitors.tsv\", sep='\\t')\n",
        "print(dataset[\"ppi\"].shape)\n",
        "display(dataset[\"ppi\"].head(3))"
      ]
    },
    {
      "cell_type": "markdown",
      "metadata": {
        "id": "ImK_TyZX35ji"
      },
      "source": [
        "#### Columns distribution and selection"
      ]
    },
    {
      "cell_type": "code",
      "execution_count": 12,
      "metadata": {
        "id": "DI6ZRkxO4ZVQ",
        "colab": {
          "base_uri": "https://localhost:8080/"
        },
        "outputId": "ec974260-4633-49fd-b4fa-89cd9283085d"
      },
      "outputs": [
        {
          "output_type": "stream",
          "name": "stdout",
          "text": [
            "Index(['PMID', 'OWN', 'STAT', 'DCOM', 'LR', 'IS', 'VI', 'IP', 'DP', 'Title',\n",
            "       'PG', 'Abstract', 'FAU', 'AU', 'AD', 'LA', 'GR', 'PT', 'PL', 'TA', 'JT',\n",
            "       'JID', 'RN', 'SB', 'MH', 'PMC', 'EDAT', 'MHDA', 'CRDT', 'PHST', 'AID',\n",
            "       'PST', 'SO', 'RF', 'EIN', 'CON', 'CIN', 'CI', 'CN', 'MID', 'TT', 'DEP',\n",
            "       'OID', 'OTO', 'OT', 'GN', 'UIN', 'Label'],\n",
            "      dtype='object')\n"
          ]
        }
      ],
      "source": [
        "#columns\n",
        "print(dataset[\"ppi\"].columns)"
      ]
    },
    {
      "cell_type": "code",
      "execution_count": 13,
      "metadata": {
        "id": "KkSzM1jiZq-F",
        "colab": {
          "base_uri": "https://localhost:8080/"
        },
        "outputId": "6a849130-35c7-4450-a575-0b9ebf2c37ff"
      },
      "outputs": [
        {
          "output_type": "stream",
          "name": "stdout",
          "text": [
            "['Adult', 'Aged', 'Anti-Ulcer Agents/*therapeutic use', 'Double-Blind Method', 'Female', 'Gastroesophageal Reflux/*drug therapy', 'Humans', 'Male', 'Middle Aged', 'Omeprazole/*therapeutic use', 'Ranitidine/*therapeutic use', 'Time Factors', 'Treatment Outcome']                                                                                                                                                                                                            1\n",
            "['2-Pyridinylmethylsulfinylbenzimidazoles', 'Adult', 'Aged', 'Anti-Ulcer Agents/adverse effects/therapeutic use', 'Clinical Trials as Topic', 'Female', 'Gastric Acid/metabolism', 'Humans', 'Lansoprazole', 'Male', 'Middle Aged', 'Omeprazole/adverse effects/*analogs & derivatives/therapeutic use', 'Proton Pump Inhibitors', 'Zollinger-Ellison Syndrome/*drug therapy']                                                                                                   1\n",
            "['Animals', 'Anti-Inflammatory Agents, Non-Steroidal/adverse effects', 'Clinical Trials as Topic', 'Costs and Cost Analysis', 'Helicobacter Infections', 'Helicobacter pylori', 'Humans', 'Misoprostol/*therapeutic use', 'Peptic Ulcer/*drug therapy/*prevention & control']                                                                                                                                                                                                    1\n",
            "['Adolescent', 'Adult', 'Aged', 'Duodenal Ulcer/*drug therapy', 'Female', 'Humans', 'Male', 'Middle Aged', 'Omeprazole/adverse effects/*therapeutic use', 'Prospective Studies']                                                                                                                                                                                                                                                                                                 1\n",
            "['2-Pyridinylmethylsulfinylbenzimidazoles', 'Administration, Oral', 'Adult', 'Aged', 'Benzimidazoles/administration & dosage/*therapeutic use', 'Double-Blind Method', 'Drug Administration Schedule', 'Duodenal Ulcer/*drug therapy', 'Female', 'Humans', 'Male', 'Middle Aged', 'Omeprazole/analogs & derivatives', 'Pantoprazole', 'Proton Pump Inhibitors', 'Ranitidine/administration & dosage/*therapeutic use', 'Sulfoxides/administration & dosage/*therapeutic use']    1\n",
            "                                                                                                                                                                                                                                                                                                                                                                                                                                                                                ..\n",
            "['*Anti-Ulcer Agents/metabolism/pharmacokinetics/pharmacology', 'Area Under Curve', '*Drug Interactions', 'Esomeprazole', 'Half-Life', 'Humans', 'Intestinal Absorption', '*Omeprazole/metabolism/pharmacokinetics/pharmacology', 'Stereoisomerism']                                                                                                                                                                                                                             1\n",
            "['Anti-Ulcer Agents/*administration & dosage', 'Cimetidine/administration & dosage', 'Cisapride/administration & dosage', 'Clinical Protocols', 'Dyspepsia/*drug therapy', 'Endoscopy, Gastrointestinal', 'Family Practice', 'Female', 'Humans', 'Male', 'Odds Ratio', 'Omeprazole/administration & dosage', 'Practice Guidelines as Topic', 'Ranitidine/administration & dosage', 'Retrospective Studies', 'Treatment Outcome']                                                 1\n",
            "['Dyspepsia/diagnosis/*therapy', 'Endoscopy, Gastrointestinal', '*Family Practice/organization & administration', 'Helicobacter Infections/drug therapy', 'Helicobacter pylori', 'Humans', 'Practice Guidelines as Topic', \"Practice Patterns, Physicians'\", 'Referral and Consultation']                                                                                                                                                                                        1\n",
            "['Evidence-Based Medicine', 'Fundoplication/standards', 'Gastroesophageal Reflux/*therapy', 'Histamine H2 Antagonists/therapeutic use', 'Humans', '*Patient Selection', 'Ranitidine/therapeutic use', 'Research Design/standards', 'Severity of Illness Index', 'Treatment Outcome']                                                                                                                                                                                             1\n",
            "['Adult', 'Aged', 'Cholecystectomy/*adverse effects', 'Colonic Neoplasms/*etiology', 'Confidence Intervals', 'Female', 'Humans', 'Male', 'Middle Aged', 'Odds Ratio', 'Risk Factors']                                                                                                                                                                                                                                                                                            1\n",
            "Name: MH, Length: 1330, dtype: int64 \n",
            "\n",
            "MEDLINE               1330\n",
            "PubMed-not-MEDLINE       3\n",
            "Name: STAT, dtype: int64 \n",
            "\n",
            "13     62\n",
            "12     59\n",
            "14     53\n",
            "11     41\n",
            "15     41\n",
            "       ..\n",
            "177     1\n",
            "360     1\n",
            "71      1\n",
            "449     1\n",
            "339     1\n",
            "Name: VI, Length: 207, dtype: int64 \n",
            "\n",
            "1        156\n",
            "4        150\n",
            "3        148\n",
            "2        147\n",
            "5        125\n",
            "        ... \n",
            "9270       1\n",
            "909        1\n",
            "23-24      1\n",
            "9300       1\n",
            "9133       1\n",
            "Name: IP, Length: 69, dtype: int64 \n",
            "\n",
            "1999 Aug        20\n",
            "2000 Oct        19\n",
            "2000 Mar        19\n",
            "2000 Dec        18\n",
            "1996 Aug        18\n",
            "                ..\n",
            "2003 Jan-Feb     1\n",
            "2003 Mar 1       1\n",
            "2003 Mar 29      1\n",
            "2003 May 1       1\n",
            "1998 Sep-Oct     1\n",
            "Name: DP, Length: 276, dtype: int64 \n",
            "\n",
            "['Kahrilas, P J']                                                                                           4\n",
            "['Dekkers, C P', 'Beker, J A', 'Thjodleifsson, B', 'Gabryelewicz, A', 'Bell, N E', 'Humphries, T J']        3\n",
            "['de Boer, W A', 'Tytgat, G N']                                                                             3\n",
            "['DeVault, K R']                                                                                            3\n",
            "['Rosch, T']                                                                                                2\n",
            "                                                                                                           ..\n",
            "['Galmiche, J P', 'Zerbib, F', 'Ducrotte, P', 'Fournet, J', 'Rampal, P', 'Avasthy, N', 'Humphries, T J']    1\n",
            "['Sharma, P']                                                                                               1\n",
            "['Caro, J J', 'Salas, M', 'Ward, A']                                                                        1\n",
            "['Fennerty, M B', 'Triadafilopoulos, G']                                                                    1\n",
            "['Todoroki, I', 'Friedman, G D', 'Slattery, M L', 'Potter, J D', 'Samowitz, W']                             1\n",
            "Name: FAU, Length: 1292, dtype: int64 \n",
            "\n",
            "['Kahrilas PJ']                                                                                5\n",
            "['de Boer WA', 'Tytgat GN']                                                                    3\n",
            "['DeVault KR']                                                                                 3\n",
            "['Dekkers CP', 'Beker JA', 'Thjodleifsson B', 'Gabryelewicz A', 'Bell NE', 'Humphries TJ']     3\n",
            "['Fennerty MB']                                                                                3\n",
            "                                                                                              ..\n",
            "['Caro JJ', 'Salas M', 'Ward A']                                                               1\n",
            "['Fennerty MB', 'Triadafilopoulos G']                                                          1\n",
            "['Andersson T', 'Hassan-Alin M', 'Hasselgren G', 'Rohss K']                                    1\n",
            "['Lewin van den Broek NT', 'Numans ME', 'Buskens E', 'Verheij TJ', 'de Wit NJ', 'Smout AJ']    1\n",
            "['Todoroki I', 'Friedman GD', 'Slattery ML', 'Potter JD', 'Samowitz W']                        1\n",
            "Name: AU, Length: 1285, dtype: int64 \n",
            "\n",
            "['Adis International Limited, Auckland, New Zealand. demail@adis.co.nz']                                                                               5\n",
            "['Department of Gastroenterology, Free University Hospital, Amsterdam, The Netherlands.']                                                              4\n",
            "['Third Department of Internal Medicine, Hokkaido University School of Medicine, Sapporo, Japan.']                                                     4\n",
            "['Adis International Limited, Auckland, New Zealand.']                                                                                                 3\n",
            "['Department of Internal Medicine, Sint Anna Hospital, Oss, The Netherlands.']                                                                         3\n",
            "                                                                                                                                                      ..\n",
            "['Unit for Applied Clinical Research, Norwegian University of Science and Technology, Trondheim, Norway. Per.Farup@medisin.ntnu.no']                   1\n",
            "['Rasta Medical Centre, Lorenskog, Norway. paul.juul-hansen@ah.telia.no']                                                                              1\n",
            "['Department of Gastroenterology, Hepatology and General Medicine, Royal Adelaide Hospital, Adelaide SA 5000, Australia. jdent@mail.rah.sa.gov.au']    1\n",
            "['Gastroenterology Service, Hospital de la Santa Creu i Sant Pau, Universidad Autonoma, Barcelona, Spain.']                                            1\n",
            "['The First Combined Brigade, Japan Ground Self Defense Force.']                                                                                       1\n",
            "Name: AD, Length: 1195, dtype: int64 \n",
            "\n",
            "['eng']           1300\n",
            "['eng', 'spa']       9\n",
            "['spa']              7\n",
            "['ger']              7\n",
            "['jpn']              3\n",
            "['por']              2\n",
            "['pol']              1\n",
            "['rus']              1\n",
            "['hrv']              1\n",
            "['dut']              1\n",
            "['fre']              1\n",
            "Name: LA, dtype: int64 \n",
            "\n",
            "['Journal Article', 'Review']                                                                                                         202\n",
            "['Clinical Trial', 'Journal Article', 'Randomized Controlled Trial', \"Research Support, Non-U.S. Gov't\"]                              118\n",
            "['Clinical Trial', 'Journal Article', 'Randomized Controlled Trial']                                                                   89\n",
            "['Clinical Trial', 'Comparative Study', 'Journal Article', 'Randomized Controlled Trial']                                              88\n",
            "['Journal Article']                                                                                                                    79\n",
            "                                                                                                                                     ... \n",
            "['Comparative Study', 'Journal Article', \"Research Support, Non-U.S. Gov't\", \"Research Support, U.S. Gov't, Non-P.H.S.\", 'Review']      1\n",
            "['Comparative Study', 'English Abstract', 'Journal Article', 'Review']                                                                  1\n",
            "['Evaluation Study', 'Journal Article', \"Research Support, Non-U.S. Gov't\"]                                                             1\n",
            "['Clinical Trial', 'Comment', 'Comparative Study', 'Letter', 'Randomized Controlled Trial']                                             1\n",
            "['Comparative Study', 'Consensus Development Conference', 'Journal Article', 'Review']                                                  1\n",
            "Name: PT, Length: 133, dtype: int64 \n",
            "\n",
            "England                      606\n",
            "United States                455\n",
            "Switzerland                   40\n",
            "Germany                       38\n",
            "New Zealand                   32\n",
            "Canada                        26\n",
            "Greece                        22\n",
            "Japan                         21\n",
            "Spain                         14\n",
            "India                         11\n",
            "Singapore                     10\n",
            "Australia                      8\n",
            "Netherlands                    6\n",
            "France                         5\n",
            "Italy                          5\n",
            "Croatia                        3\n",
            "United Arab Emirates           3\n",
            "Brazil                         3\n",
            "Korea (South)                  2\n",
            "Ireland                        2\n",
            "China (Republic : 1949- )      2\n",
            "Kenya                          1\n",
            "Northern Ireland               1\n",
            "Israel                         1\n",
            "Pakistan                       1\n",
            "Peru                           1\n",
            "Hungary                        1\n",
            "Bosnia and Herzegovina         1\n",
            "Denmark                        1\n",
            "Poland                         1\n",
            "Russia (Federation)            1\n",
            "Scotland                       1\n",
            "Austria                        1\n",
            "China                          1\n",
            "Argentina                      1\n",
            "South Africa                   1\n",
            "Chile                          1\n",
            "Malaysia                       1\n",
            "Thailand                       1\n",
            "Norway                         1\n",
            "Name: PL, dtype: int64 \n",
            "\n",
            "Aliment Pharmacol Ther             282\n",
            "Am J Gastroenterol                 137\n",
            "Eur J Gastroenterol Hepatol         61\n",
            "Scand J Gastroenterol               55\n",
            "Gut                                 44\n",
            "                                  ... \n",
            "Zhonghua Yi Xue Za Zhi (Taipei)      1\n",
            "Nat Rev Drug Discov                  1\n",
            "BMC Gastroenterol                    1\n",
            "J Postgrad Med                       1\n",
            "Clin Nucl Med                        1\n",
            "Name: TA, Length: 218, dtype: int64 \n",
            "\n",
            "Alimentary pharmacology & therapeutics                             282\n",
            "The American journal of gastroenterology                           137\n",
            "European journal of gastroenterology & hepatology                   61\n",
            "Scandinavian journal of gastroenterology                            55\n",
            "Gut                                                                 44\n",
            "                                                                  ... \n",
            "Zhonghua yi xue za zhi = Chinese medical journal; Free China ed      1\n",
            "Nature reviews. Drug discovery                                       1\n",
            "BMC gastroenterology                                                 1\n",
            "Journal of postgraduate medicine                                     1\n",
            "Clinical nuclear medicine                                            1\n",
            "Name: JT, Length: 218, dtype: int64 \n",
            "\n"
          ]
        }
      ],
      "source": [
        "#value counts\n",
        "methods.print_value_counts(l=variables, df=dataset[\"ppi\"])"
      ]
    },
    {
      "cell_type": "code",
      "execution_count": 14,
      "metadata": {
        "id": "GNxn67qXBoYl",
        "colab": {
          "base_uri": "https://localhost:8080/"
        },
        "outputId": "243d267f-9a47-4115-b1db-49a345c22ef6"
      },
      "outputs": [
        {
          "output_type": "stream",
          "name": "stdout",
          "text": [
            "0    1282\n",
            "1      51\n",
            "Name: Label, dtype: int64 \n",
            "\n"
          ]
        }
      ],
      "source": [
        "#target distribution\n",
        "methods.print_value_counts([\"Label\"], dataset[\"ppi\"])\n",
        "\n",
        "#renaming columns\n",
        "methods.rename_columns(names=names, df=dataset[\"ppi\"])\n",
        "\n",
        "#column selection\n",
        "dataset[\"ppi\"] = dataset[\"ppi\"][selected_columns]"
      ]
    },
    {
      "cell_type": "markdown",
      "metadata": {
        "id": "4s_fkySjTQg0"
      },
      "source": [
        "## Columns preprocessing"
      ]
    },
    {
      "cell_type": "markdown",
      "metadata": {
        "id": "wTZEx7-6EJuV"
      },
      "source": [
        "### Text preprocessig\n",
        "\n",
        "- Checking missing values, \n",
        "- Concatenating `Title`, `Abstract` and `mesh_terms` in `text`,\n",
        "- Preprocessing the text in `text_clean`,\n",
        "- Removing missing values."
      ]
    },
    {
      "cell_type": "code",
      "execution_count": 15,
      "metadata": {
        "id": "SQ6KhgGRP9Dy",
        "colab": {
          "base_uri": "https://localhost:8080/"
        },
        "outputId": "5cf90b17-dba0-41e2-df64-753c7bf75aea"
      },
      "outputs": [
        {
          "output_type": "stream",
          "name": "stderr",
          "text": [
            "/usr/local/lib/python3.7/dist-packages/ipykernel_launcher.py:14: FutureWarning: The default value of regex will change from True to False in a future version.\n",
            "  \n"
          ]
        }
      ],
      "source": [
        "## Variable mesh_terms\n",
        "\n",
        "for i in dataset: \n",
        "\n",
        "  if i != \"copd\": \n",
        "\n",
        "    #replace missing values with empty list\n",
        "    dataset[i][\"mesh_terms\"] = dataset[i][\"mesh_terms\"].replace(np.NaN, \"[]\")\n",
        "\n",
        "    #from list of strings to string\n",
        "    for index, value in enumerate(dataset[i][\"mesh_terms\"]): \n",
        "      dataset[i].loc[index, \"mesh_terms\"] = methods.listToString(eval(value))\n",
        "      \n",
        "    dataset[i]['mesh_terms'] = dataset[i]['mesh_terms'].str.replace('[/*]',' ')\n",
        "    dataset[i] = methods.count_words(dataset[i], \"mesh_terms\")"
      ]
    },
    {
      "cell_type": "code",
      "execution_count": 16,
      "metadata": {
        "id": "Ygn7gUZTGrU3"
      },
      "outputs": [],
      "source": [
        "## Variables Title ad Abstract\n",
        "\n",
        "for i in dataset: \n",
        "\n",
        "  #count number of words in Title\n",
        "  if i != \"copd\":\n",
        "    dataset[i] = methods.count_words(dataset[i], \"Title\")\n",
        "\n",
        "  #count number of words in Abstract\n",
        "  dataset[i][\"Abstract\"] = dataset[i][\"Abstract\"].replace(np.NaN, \"[]\") #replace missing values with empty list\n",
        "  dataset[i][\"Abstract\"] = dataset[i][\"Abstract\"].astype(str) \n",
        "  dataset[i] = methods.count_words(dataset[i], \"Abstract\")"
      ]
    },
    {
      "cell_type": "code",
      "execution_count": 17,
      "metadata": {
        "id": "61ajUVP51fqV",
        "colab": {
          "base_uri": "https://localhost:8080/"
        },
        "outputId": "ac7be041-f815-46f7-95f3-8a1d7624ab7b"
      },
      "outputs": [
        {
          "output_type": "stream",
          "name": "stdout",
          "text": [
            "Dataset ace shape: (2544, 12)\n",
            "publication_date               0\n",
            "full_authors                  48\n",
            "publication_type               0\n",
            "publication_place              0\n",
            "journal_title_abbreviation     0\n",
            "Title                          0\n",
            "Abstract                       0\n",
            "mesh_terms                     0\n",
            "Label                          0\n",
            "n_words_in_mesh_terms          0\n",
            "n_words_in_Title               0\n",
            "n_words_in_Abstract            0\n",
            "dtype: int64 \n",
            "\n",
            "New dataset shape: (2496, 13) \n",
            "\n",
            "Dataset copd shape: (1606, 3)\n",
            "Label                  0\n",
            "Abstract               0\n",
            "n_words_in_Abstract    0\n",
            "dtype: int64 \n",
            "\n",
            "New dataset shape: (1606, 6) \n",
            "\n",
            "Dataset ppi shape: (1333, 12)\n",
            "publication_date              0\n",
            "full_authors                  6\n",
            "publication_type              0\n",
            "publication_place             0\n",
            "journal_title_abbreviation    0\n",
            "Title                         0\n",
            "Abstract                      0\n",
            "mesh_terms                    0\n",
            "Label                         0\n",
            "n_words_in_mesh_terms         0\n",
            "n_words_in_Title              0\n",
            "n_words_in_Abstract           0\n",
            "dtype: int64 \n",
            "\n",
            "New dataset shape: (1327, 13) \n",
            "\n"
          ]
        }
      ],
      "source": [
        "for i in dataset: \n",
        "\n",
        "  #checking missing values\n",
        "  print(\"Dataset\", i, \"shape:\", dataset[i].shape)\n",
        "  print(dataset[i].isnull().sum(axis=0), \"\\n\")\n",
        "\n",
        "  #concatenating Title, Abstract (and mesh_terms)\n",
        "  if i != \"copd\": \n",
        "    dataset[i]['text'] = dataset[i]['Title'] + (dataset[i]['Abstract']).fillna(' ') + (dataset[i]['mesh_terms']).fillna(' ')\n",
        "    dataset[i].drop(['Title', \"Abstract\", \"mesh_terms\"], inplace=True, axis=1)\n",
        "  else:\n",
        "    dataset[i]['text'] = (dataset[i]['Abstract']).fillna(' ')\n",
        "    dataset[i].drop(\"Abstract\", inplace=True, axis=1)\n",
        "    \n",
        "  ## Variable text_clean\n",
        "\n",
        "  #text preprocessing\n",
        "  dataset[i]['text_clean'] = methods.clean_text(dataset[i], 'text')\n",
        "  dataset[i] = methods.count_words(dataset[i], \"text_clean\")\n",
        "\n",
        "  #removing Nan and checking missing values again\n",
        "  #print(\"Missing values after creating \\\"text\\\":\")\n",
        "  #print(dataset[i].isnull().sum(axis=0))\n",
        "  dataset[i] = dataset[i].dropna()\n",
        "  dataset[i] = dataset[i].reset_index()\n",
        "  print(\"New dataset shape:\", dataset[i].shape, \"\\n\")\n"
      ]
    },
    {
      "cell_type": "markdown",
      "metadata": {
        "id": "5DMXqjelmMq2"
      },
      "source": [
        "### Features preprocessing"
      ]
    },
    {
      "cell_type": "code",
      "source": [
        "#creating col_names (used to store columns' names)\n",
        "col_names = pd.DataFrame(columns = [\"feature\", \"ace\", \"copd\", \"ppi\"])\n",
        "new_features = [\"contains_topic\",\"contains_other_topic\",\"n_words_in_mesh_terms\", \n",
        "                        \"n_words_in_Title\",\"n_words_in_Abstract\",\"n_words_in_text_clean\"]\n",
        "selected_columns.extend(new_features)\n",
        "col_names[\"feature\"] = list(set(selected_columns) - set(['Title','Abstract','mesh_terms','Label']))"
      ],
      "metadata": {
        "id": "nrxQQMo1tKRt"
      },
      "execution_count": 18,
      "outputs": []
    },
    {
      "cell_type": "code",
      "execution_count": 19,
      "metadata": {
        "id": "Fxca7_zK7Sbh"
      },
      "outputs": [],
      "source": [
        "for i in dataset: \n",
        "\n",
        "  if i != \"copd\": \n",
        "\n",
        "    ## Variable publication_date\n",
        "\n",
        "    #removing the day and maintaining only year and month\n",
        "    for index, content in enumerate(dataset[i][\"publication_date\"]): \n",
        "      if len(nltk.word_tokenize(content)) > 2:\n",
        "        dataset[i].loc[index, \"publication_date\"] = \" \".join(nltk.word_tokenize(content)[0:2])\n",
        "    #print(dataset[i][\"publication_date\"].value_counts(), \"\\n\")\n",
        "    \n",
        "\n",
        "    ## Variable publication_type\n",
        "\n",
        "    temp = methods.from_list_of_values_to_columns(\"publication_type\", dataset[i])\n",
        "    col_names = methods.update_col_names(col_names, \"publication_type\", i, list(temp.columns))\n",
        "    dataset[i].drop(\"publication_type\", inplace=True, axis=1)\n",
        "    dataset[i] = dataset[i].join(temp)\n",
        "    \n",
        "\n",
        "    ## Variable full_authors\n",
        "\n",
        "    temp = methods.from_list_of_values_to_columns(\"full_authors\", dataset[i])\n",
        "    col_names = methods.update_col_names(col_names, \"full_authors\", i, list(temp.columns))\n",
        "    dataset[i].drop(\"full_authors\", inplace=True, axis=1)\n",
        "    dataset[i] = dataset[i].join(temp)"
      ]
    },
    {
      "cell_type": "markdown",
      "metadata": {
        "id": "zCxKZJGjmUX_"
      },
      "source": [
        "## Topic search"
      ]
    },
    {
      "cell_type": "markdown",
      "metadata": {
        "id": "2OC6fMUDp8yF"
      },
      "source": [
        "### Ace inhibitors related documents"
      ]
    },
    {
      "cell_type": "code",
      "execution_count": 20,
      "metadata": {
        "id": "6tu7ED6AVN20"
      },
      "outputs": [],
      "source": [
        "list1 = [\"ace\", \"angiotensin converting enzyme\"]\n",
        "list2 = [\"alacepril\", \"captopril\", \"zofenopril\", \"enalapril\", \"ramipril\", \n",
        "          \"quinapril\", \"perindopril\", \"lisinopril\", \"benazepril\", \"imidapril\", \n",
        "          \"trandolapril\", \"cilazapril\", \"fosinopril\", \"moexipril\"]"
      ]
    },
    {
      "cell_type": "code",
      "execution_count": 21,
      "metadata": {
        "id": "YHIQ6YCXvKUO",
        "colab": {
          "base_uri": "https://localhost:8080/"
        },
        "outputId": "2ec5f725-7477-41bb-fe21-6b708bb308b1"
      },
      "outputs": [
        {
          "output_type": "stream",
          "name": "stdout",
          "text": [
            "Number of documents that contains_topic : 2039\n",
            "Number of documents that contains_other_topic : 1768\n"
          ]
        }
      ],
      "source": [
        "dataset[\"ace\"] = methods.find_documents_about_topic(dataset[\"ace\"], \"text_clean\", \"contains_topic\", list1)\n",
        "dataset[\"ace\"] = methods.find_documents_about_topic(dataset[\"ace\"], \"text_clean\", \"contains_other_topic\", list2)"
      ]
    },
    {
      "cell_type": "code",
      "execution_count": 22,
      "metadata": {
        "id": "qPkd552qvU2W",
        "colab": {
          "base_uri": "https://localhost:8080/"
        },
        "outputId": "d14b608e-4c3f-41bd-df88-3da5de051fcb"
      },
      "outputs": [
        {
          "output_type": "stream",
          "name": "stdout",
          "text": [
            "Checking how many documents don't contain any of the searched words:\n",
            "\n",
            "False    2222\n",
            "True      274\n",
            "dtype: int64 \n",
            "\n",
            "True -> they don't contain any of the words\n",
            "False -> they contain at list one word\n"
          ]
        }
      ],
      "source": [
        "print(\"Checking how many documents don't contain any of the searched words:\\n\")\n",
        "print(dataset[\"ace\"][[\"contains_topic\", \"contains_other_topic\"]].eq(0).all(1).value_counts(), \"\\n\")\n",
        "print(\"True -> they don't contain any of the words\")\n",
        "print(\"False -> they contain at list one word\")"
      ]
    },
    {
      "cell_type": "markdown",
      "metadata": {
        "id": "8yVtiww4qSPS"
      },
      "source": [
        "### COPD related documents"
      ]
    },
    {
      "cell_type": "code",
      "execution_count": 23,
      "metadata": {
        "id": "posbXaHdqSPU"
      },
      "outputs": [],
      "source": [
        "list1 = [\"chronic obstructive pulmonary disease\", \"copd\"]\n",
        "list2 = [\"chronic obstructive lung disease\", \"cold\", \"chronic obstructive airway disease\", \"coad\"]"
      ]
    },
    {
      "cell_type": "code",
      "execution_count": 24,
      "metadata": {
        "id": "TQRrnkPhqSPV",
        "colab": {
          "base_uri": "https://localhost:8080/"
        },
        "outputId": "50b3785a-5df3-4283-8503-ee67b44eb09f"
      },
      "outputs": [
        {
          "output_type": "stream",
          "name": "stdout",
          "text": [
            "Number of documents that contains_topic : 621\n",
            "Number of documents that contains_other_topic : 34\n"
          ]
        }
      ],
      "source": [
        "dataset[\"copd\"] = methods.find_documents_about_topic(dataset[\"copd\"], \"text_clean\", \"contains_topic\", list1)\n",
        "dataset[\"copd\"] = methods.find_documents_about_topic(dataset[\"copd\"], \"text_clean\", \"contains_other_topic\", list2)"
      ]
    },
    {
      "cell_type": "code",
      "execution_count": 25,
      "metadata": {
        "id": "5rc8azfKqSPW",
        "colab": {
          "base_uri": "https://localhost:8080/"
        },
        "outputId": "f3f5974c-ceee-4b95-d90e-4bc48ad3fafc"
      },
      "outputs": [
        {
          "output_type": "stream",
          "name": "stdout",
          "text": [
            "Checking how many documents don't contain any of the searched words:\n",
            "\n",
            "True     968\n",
            "False    638\n",
            "dtype: int64 \n",
            "\n",
            "True -> they don't contain any of the words\n",
            "False -> they contain at list one word\n"
          ]
        }
      ],
      "source": [
        "print(\"Checking how many documents don't contain any of the searched words:\\n\")\n",
        "print(dataset[\"copd\"][[\"contains_topic\", \"contains_other_topic\"]].eq(0).all(1).value_counts(), \"\\n\")\n",
        "print(\"True -> they don't contain any of the words\")\n",
        "print(\"False -> they contain at list one word\")"
      ]
    },
    {
      "cell_type": "markdown",
      "metadata": {
        "id": "QyS_UzulvG6i"
      },
      "source": [
        "### PPI related documents"
      ]
    },
    {
      "cell_type": "code",
      "execution_count": 26,
      "metadata": {
        "id": "Gw-xL1I8vG6k"
      },
      "outputs": [],
      "source": [
        "list1 = [\"proton pump inhibitors\", \"ppi\", \"ppis\"]\n",
        "list2 = [\"omeprazole\", \"lansoprazole\", \"dexlansoprazole\", \"esomeprazole\", \"pantoprazole\", \"rabeprazole\", \"ilaprazole\"]"
      ]
    },
    {
      "cell_type": "code",
      "execution_count": 27,
      "metadata": {
        "id": "6RsTegFEvG6k",
        "colab": {
          "base_uri": "https://localhost:8080/"
        },
        "outputId": "35a5eaa5-32a2-4f29-9ea8-11b5845abdd9"
      },
      "outputs": [
        {
          "output_type": "stream",
          "name": "stdout",
          "text": [
            "Number of documents that contains_topic : 525\n",
            "Number of documents that contains_other_topic : 962\n"
          ]
        }
      ],
      "source": [
        "dataset[\"ppi\"] = methods.find_documents_about_topic(dataset[\"ppi\"], \"text_clean\", \"contains_topic\", list1)\n",
        "dataset[\"ppi\"] = methods.find_documents_about_topic(dataset[\"ppi\"], \"text_clean\", \"contains_other_topic\", list2)"
      ]
    },
    {
      "cell_type": "code",
      "execution_count": 28,
      "metadata": {
        "id": "lJ2P7IWJvG6l",
        "colab": {
          "base_uri": "https://localhost:8080/"
        },
        "outputId": "81b9ba23-1a3f-4e63-cbb8-2c830d6fd864"
      },
      "outputs": [
        {
          "output_type": "stream",
          "name": "stdout",
          "text": [
            "Checking how many documents don't contain any of the searched words:\n",
            "\n",
            "False    1121\n",
            "True      206\n",
            "dtype: int64 \n",
            "\n",
            "True -> they don't contain any of the words\n",
            "False -> they contain at list one word\n"
          ]
        }
      ],
      "source": [
        "print(\"Checking how many documents don't contain any of the searched words:\\n\")\n",
        "print(dataset[\"ppi\"][[\"contains_topic\", \"contains_other_topic\"]].eq(0).all(1).value_counts(), \"\\n\")\n",
        "print(\"True -> they don't contain any of the words\")\n",
        "print(\"False -> they contain at list one word\")"
      ]
    },
    {
      "cell_type": "code",
      "source": [
        "#updating col_names\n",
        "for j in new_features: \n",
        "  for k in dataset: \n",
        "    if not (k == \"copd\" and (j == \"n_words_in_Title\" or j == \"n_words_in_mesh_terms\")):\n",
        "      col_names.loc[col_names[\"feature\"]==j, k] = [[j]]"
      ],
      "metadata": {
        "id": "Dx_h-qYtdk8r"
      },
      "execution_count": 30,
      "outputs": []
    },
    {
      "cell_type": "markdown",
      "metadata": {
        "id": "QZuSz8xJ_C4a"
      },
      "source": [
        "## Final data preprocessing"
      ]
    },
    {
      "cell_type": "markdown",
      "metadata": {
        "id": "VRROYRIK7z7N"
      },
      "source": [
        "\n",
        "#### One hot encode for categorical variables"
      ]
    },
    {
      "cell_type": "code",
      "source": [
        "#one hot encode for categorical variables\n",
        "\n",
        "enc = OneHotEncoder()\n",
        "cat_features = ['publication_date','publication_place','journal_title_abbreviation'] #categorical features\n",
        "\n",
        "for i in dataset:\n",
        "\n",
        "  if i != \"copd\": #doesn't have any categorical variable\n",
        "\n",
        "    enc_df = pd.DataFrame(enc.fit_transform(dataset[i][cat_features]).toarray()) #one hot encode df for categorical features\n",
        "    enc_df.columns = enc.get_feature_names_out(cat_features) #renaming columns of enc_df\n",
        "    print(\"One hot encode dataset shape:\", enc_df.shape)\n",
        "\n",
        "    dataset[i] = dataset[i].join(enc_df)\n",
        "    dataset[i] = dataset[i].drop(cat_features, axis=1)\n",
        "\n",
        "    #updating col_names\n",
        "    for j in cat_features: \n",
        "      methods.update_col_names(col_names, j, i, [x for x in enc_df.columns if x.startswith(j)])\n",
        "    \n",
        "  dataset[i] = dataset[i].drop(\"index\", axis=1)\n",
        "  print(\"Final\", i, \"shape:\", dataset[i].shape, \"\\n\")\n",
        "\n",
        "del enc_df"
      ],
      "metadata": {
        "colab": {
          "base_uri": "https://localhost:8080/"
        },
        "id": "U5fle8cDuolH",
        "outputId": "b601cdc4-a579-43dd-855b-3951674dd474"
      },
      "execution_count": 31,
      "outputs": [
        {
          "output_type": "stream",
          "name": "stdout",
          "text": [
            "One hot encode dataset shape: (2496, 649)\n",
            "Final ace shape: (2496, 9624) \n",
            "\n",
            "Final copd shape: (1606, 7) \n",
            "\n",
            "One hot encode dataset shape: (1327, 440)\n",
            "Final ppi shape: (1327, 4937) \n",
            "\n"
          ]
        }
      ]
    },
    {
      "cell_type": "code",
      "execution_count": 33,
      "metadata": {
        "id": "5mzovNp2BiEJ"
      },
      "outputs": [],
      "source": [
        "#saving the preprocessed datasets and col_names\n",
        "with open(path + \"/preprocessed_ace.csv\", 'w', encoding = 'utf-8-sig') as f:\n",
        "  dataset[\"ace\"].to_csv(f) \n",
        "with open(path + \"/preprocessed_copd.csv\", 'w', encoding = 'utf-8-sig') as f:\n",
        "  dataset[\"copd\"].to_csv(f) \n",
        "with open(path + \"/preprocessed_ppi.csv\", 'w', encoding = 'utf-8-sig') as f:\n",
        "  dataset[\"ppi\"].to_csv(f) \n",
        "with open(path + \"/columns_names.csv\", 'w', encoding = 'utf-8-sig') as f:\n",
        "    col_names.to_csv(f) "
      ]
    },
    {
      "cell_type": "markdown",
      "metadata": {
        "id": "jOW3LSWpBxxH"
      },
      "source": [
        "### Feature importance and feature selection"
      ]
    },
    {
      "cell_type": "code",
      "execution_count": 34,
      "metadata": {
        "id": "yTqLPSyHB6W6",
        "colab": {
          "base_uri": "https://localhost:8080/",
          "height": 1000
        },
        "outputId": "b1eeae25-5167-4408-af54-1a45b9134981"
      },
      "outputs": [
        {
          "output_type": "stream",
          "name": "stdout",
          "text": [
            "\n",
            "Initial number of features: 9621\n",
            "Number of features after removing the ones with equal or less than 0.002 importance: 165 \n",
            "\n"
          ]
        },
        {
          "output_type": "display_data",
          "data": {
            "text/plain": [
              "<Figure size 432x288 with 1 Axes>"
            ],
            "image/png": "[encoded data removed]"
          },
          "metadata": {
            "needs_background": "light"
          }
        },
        {
          "output_type": "stream",
          "name": "stdout",
          "text": [
            "\n",
            "Initial number of features: 4\n",
            "Number of features after removing the ones with equal or less than 0.002 importance: 4 \n",
            "\n"
          ]
        },
        {
          "output_type": "display_data",
          "data": {
            "text/plain": [
              "<Figure size 432x288 with 1 Axes>"
            ],
            "image/png": "[encoded data removed]"
          },
          "metadata": {
            "needs_background": "light"
          }
        },
        {
          "output_type": "stream",
          "name": "stdout",
          "text": [
            "\n",
            "Initial number of features: 4934\n",
            "Number of features after removing the ones with equal or less than 0.002 importance: 179 \n",
            "\n"
          ]
        },
        {
          "output_type": "display_data",
          "data": {
            "text/plain": [
              "<Figure size 432x288 with 1 Axes>"
            ],
            "image/png": "[encoded data removed]"
          },
          "metadata": {
            "needs_background": "light"
          }
        }
      ],
      "source": [
        "# creating the random forest that computes feature importance\n",
        "\n",
        "for i in dataset:\n",
        "\n",
        "  forest = RandomForestClassifier(random_state=0)\n",
        "  forest.fit(dataset[i][dataset[i].columns.difference([\"text\", \"text_clean\", \"Label\"])], dataset[i][\"Label\"])\n",
        "\n",
        "  #computing feature importance\n",
        "  importances = forest.feature_importances_\n",
        "\n",
        "  features = list(set(dataset[i].columns) - set([\"text\", \"text_clean\", \"Label\"])) #all columns except text, text_clean and Label\n",
        "\n",
        "  forest_importances = pd.Series(importances, index=features) \n",
        "  forest_importances = forest_importances.sort_values(ascending=False)\n",
        "\n",
        "  print(\"\\nInitial number of features:\", len(forest_importances))\n",
        "\n",
        "  #non-important features\n",
        "  non_important_features = forest_importances.where(forest_importances <= 0.002)\n",
        "  non_important_features = non_important_features.dropna()\n",
        "\n",
        "  #important features\n",
        "  forest_importances = forest_importances.where(forest_importances > 0.002)\n",
        "  forest_importances = forest_importances.dropna()\n",
        "  print(\"Number of features after removing the ones with equal or less than 0.002 importance:\", len(forest_importances), \"\\n\")\n",
        "\n",
        "  #visualization of the top 20 features sorted by importance\n",
        "  fig, ax = plt.subplots()\n",
        "  forest_importances.head(20).plot.bar(ax=ax)\n",
        "  plt.title(\"Feature importances using MDI\")\n",
        "  ax.set_ylabel(\"Mean decrease in impurity\")\n",
        "  plt.show()\n",
        "\n",
        "  #removing non important features from the dataset\n",
        "  dataset[i].drop(non_important_features.index, axis = 1, inplace=True)"
      ]
    },
    {
      "cell_type": "code",
      "execution_count": 35,
      "metadata": {
        "id": "7Ge-5Q71lRmZ"
      },
      "outputs": [],
      "source": [
        "#saving the preprocessed datasets\n",
        "with open(path + \"/preprocessed_ace2.csv\", 'w', encoding = 'utf-8-sig') as f:\n",
        "  dataset[\"ace\"].to_csv(f) \n",
        "with open(path + \"/preprocessed_copd2.csv\", 'w', encoding = 'utf-8-sig') as f:\n",
        "  dataset[\"copd\"].to_csv(f) \n",
        "with open(path + \"/preprocessed_ppi2.csv\", 'w', encoding = 'utf-8-sig') as f:\n",
        "  dataset[\"ppi\"].to_csv(f) "
      ]
    }
  ],
  "metadata": {
    "colab": {
      "collapsed_sections": [
        "lEIHloh6SIXX",
        "tWYQwGtsy9l4",
        "zXN22kT2cSWW",
        "DX9ck0bLzE80",
        "J3XciWFBz4T0",
        "4s_fkySjTQg0",
        "wTZEx7-6EJuV",
        "5DMXqjelmMq2",
        "zCxKZJGjmUX_",
        "2OC6fMUDp8yF",
        "8yVtiww4qSPS",
        "QyS_UzulvG6i"
      ],
      "name": "Data_Import.ipynb",
      "provenance": []
    },
    "gpuClass": "standard",
    "kernelspec": {
      "display_name": "Python 3",
      "name": "python3"
    },
    "language_info": {
      "name": "python"
    }
  },
  "nbformat": 4,
  "nbformat_minor": 0
}